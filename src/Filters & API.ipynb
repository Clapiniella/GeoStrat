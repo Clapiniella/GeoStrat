{
 "cells": [
  {
   "cell_type": "code",
   "execution_count": 1,
   "metadata": {},
   "outputs": [],
   "source": [
    "import pandas as pd\n",
    "from pymongo import MongoClient\n",
    "import re\n",
    "from haversine import haversine\n",
    "client = MongoClient()\n",
    "import function as f\n",
    "import time"
   ]
  },
  {
   "cell_type": "code",
   "execution_count": 10,
   "metadata": {},
   "outputs": [
    {
     "name": "stdout",
     "output_type": "stream",
     "text": [
      "Query: new york 500\n",
      "{'html_attributions': [], 'next_page_token': 'CoQC-QAAAOQTO2Drnt2w9DSZshTYphWYA5rrBBK2KmZ4aYU2JWDd3MUrptTwXbTNPqPshkBCs8RAWQUG_m-TORsom3RNwUKaW0rU-YldgnX0aQS6xqvVH66keM9M8QbcTdXUt7xzgJoDSaRcPo7FXZ1yQCDZtHY6CUDoreq-WlAdEzX53p3MN0blKO9Y1wY_mvW8NOZThruWHTtdBjqUTlG9yhUPAerOarVLF5X_AKq5zMJuohCgl9T_VNDsXttRazkYm5XdG5YWgMMvpwAkhajPIUaNOtlIM_CVvqEJKknBTwKEZxzE5REgdDnavS7okKD9K4LM6Nj-kGtRig015SY1JpU7iLYSEAN1Cj11T8ZDVowNprWOoAoaFKQ9MSoCZpcxEq34EuetjQ0cT58t', 'results': [{'formatted_address': '500 7th Ave, New York, NY 10018, United States', 'geometry': {'location': {'lat': 40.7532064, 'lng': -73.9893264}, 'viewport': {'northeast': {'lat': 40.75450727989272, 'lng': -73.98786382010728}, 'southwest': {'lat': 40.75180762010728, 'lng': -73.99056347989271}}}, 'icon': 'https://maps.gstatic.com/mapfiles/place_api/icons/generic_business-71.png', 'id': 'b19538bbe9815ee879ff53a5ff1b2bdaf69a1d1c', 'name': 'WeWork', 'opening_hours': {'open_now': False}, 'photos': [{'height': 426, 'html_attributions': ['<a href=\"https://maps.google.com/maps/contrib/117383747986870456111\">A Google User</a>'], 'photo_reference': 'CmRaAAAAQ6dCiRRdmpKC_XBDV6nXPHvzWbt3PlGhqkHFcHRL6a6aneDppAPLGOEhzeM0bsquxmxmPXINIuLOwGXGpqOQbYkdAJV0l2dtWlKWRo95gjvstD9OKpGpmQTgW4OfPz1-EhCBhdrWwFq-RMw4Qt183DxSGhQdsbDjhN0mTpGsnmOogb0tLeUppQ', 'width': 758}], 'place_id': 'ChIJL9eNdDxZwokRV5Fyzg3Dz3E', 'plus_code': {'compound_code': 'Q236+77 New York, United States', 'global_code': '87G8Q236+77'}, 'rating': 4.3, 'reference': 'ChIJL9eNdDxZwokRV5Fyzg3Dz3E', 'types': ['real_estate_agency', 'point_of_interest', 'establishment'], 'user_ratings_total': 44}, {'formatted_address': '500 E 77th St, New York, NY 10162, United States', 'geometry': {'location': {'lat': 40.76940949999999, 'lng': -73.9503922}, 'viewport': {'northeast': {'lat': 40.77084957989272, 'lng': -73.94897472010729}, 'southwest': {'lat': 40.76814992010728, 'lng': -73.95167437989272}}}, 'icon': 'https://maps.gstatic.com/mapfiles/place_api/icons/generic_business-71.png', 'id': '7afb22dc19f88945c853056bd21997c01b1861e6', 'name': '500 E 77th St Parking', 'place_id': 'ChIJQ9ZnnMdYwokRTvMqnRHePLs', 'plus_code': {'compound_code': 'Q29X+QR New York, United States', 'global_code': '87G8Q29X+QR'}, 'rating': 0, 'reference': 'ChIJQ9ZnnMdYwokRTvMqnRHePLs', 'types': ['parking', 'point_of_interest', 'establishment'], 'user_ratings_total': 0}, {'formatted_address': '500 W 21st St, New York, NY 10011, United States', 'geometry': {'location': {'lat': 40.7463904, 'lng': -74.0055638}, 'viewport': {'northeast': {'lat': 40.74781617989272, 'lng': -74.00415822010727}, 'southwest': {'lat': 40.74511652010727, 'lng': -74.00685787989272}}}, 'icon': 'https://maps.gstatic.com/mapfiles/place_api/icons/generic_business-71.png', 'id': '3b5a2ef9b171f3d510883f9a903d39fab3c32223', 'name': '500 West 21st Street - Condominium Complex', 'photos': [{'height': 5376, 'html_attributions': ['<a href=\"https://maps.google.com/maps/contrib/111537968310795717940\">Owen Kong</a>'], 'photo_reference': 'CmRaAAAAiEEDNFNCQKACjbiZVtshsLQNT2lbsSNhxhxOkJKMHg_s4-xbxmg8_2LSDro4pmzwCQMpn8GJBl5P2U_Kj1gtTUSrrf3-rX41x_TV26vIrOAr7t3NCK9N17iBUIhV5b12EhBvcnlms4mFM6SpBqA1OAufGhR5-4KPXZbzGVVcUzNQhgNW13LhZA', 'width': 3024}], 'place_id': 'ChIJY7o5ZbhZwokRQyvU0-olNy4', 'plus_code': {'compound_code': 'PXWV+HQ New York, United States', 'global_code': '87G7PXWV+HQ'}, 'rating': 5, 'reference': 'ChIJY7o5ZbhZwokRQyvU0-olNy4', 'types': ['point_of_interest', 'establishment'], 'user_ratings_total': 1}, {'formatted_address': '500 West End Ave, New York, NY 10024, United States', 'geometry': {'location': {'lat': 40.7876152, 'lng': -73.9783358}, 'viewport': {'northeast': {'lat': 40.78902577989272, 'lng': -73.97713402010729}, 'southwest': {'lat': 40.78632612010728, 'lng': -73.97983367989272}}}, 'icon': 'https://maps.gstatic.com/mapfiles/place_api/icons/generic_business-71.png', 'id': '724be38809f0e84d6c08926a3851c93a6000d004', 'name': '500 West End Avenue Owners', 'place_id': 'ChIJwaEdlIZYwokRhsWJpbzbC0A', 'plus_code': {'compound_code': 'Q2QC+2M New York, United States', 'global_code': '87G8Q2QC+2M'}, 'rating': 5, 'reference': 'ChIJwaEdlIZYwokRhsWJpbzbC0A', 'types': ['point_of_interest', 'establishment'], 'user_ratings_total': 3}, {'formatted_address': '500 Pearl St, New York, NY 10007, United States', 'geometry': {'location': {'lat': 40.7137324, 'lng': -74.0008017}, 'viewport': {'northeast': {'lat': 40.71492537989272, 'lng': -73.99961077010728}, 'southwest': {'lat': 40.71222572010727, 'lng': -74.00231042989273}}}, 'icon': 'https://maps.gstatic.com/mapfiles/place_api/icons/civic_building-71.png', 'id': 'b5fad4df081f9353bc14414272fd5c6b2693dc8f', 'name': 'SDNY Courthouse', 'opening_hours': {'open_now': False}, 'place_id': 'ChIJ75zbTCFawokR6EAsY4R4reU', 'plus_code': {'compound_code': 'PX7X+FM New York, United States', 'global_code': '87G7PX7X+FM'}, 'rating': 0, 'reference': 'ChIJ75zbTCFawokR6EAsY4R4reU', 'types': ['point_of_interest', 'establishment'], 'user_ratings_total': 0}, {'formatted_address': '500 Grand St, New York, NY 10002, United States', 'geometry': {'location': {'lat': 40.7150555, 'lng': -73.9829571}, 'viewport': {'northeast': {'lat': 40.71631847989272, 'lng': -73.98162747010728}, 'southwest': {'lat': 40.71361882010728, 'lng': -73.98432712989272}}}, 'icon': 'https://maps.gstatic.com/mapfiles/place_api/icons/generic_business-71.png', 'id': 'd7c6950a2f9dfe73115459d7e2de1070213f5678', 'name': 'CVS', 'opening_hours': {'open_now': False}, 'photos': [{'height': 3611, 'html_attributions': ['<a href=\"https://maps.google.com/maps/contrib/117808460219123378764\">Ruwan J.</a>'], 'photo_reference': 'CmRaAAAATRw2uIbXXkrFwaD8PMxoenAJMkf3P5FCt6bsS0-EiJaXvPymvPdO8GOLmlVyQPB4JgbOJlughCLGVu3-_oIrte2LdtH0MSUWW3R4WDtzbcnuW5Py27fOayaxf-X2UGwvEhDJJKpaOGMQ1YbvM78WCgYDGhRp0h_8j6rVsm565eTPjOeFptjDtg', 'width': 2874}], 'place_id': 'ChIJzYPwsSpawokR460MdpQhHrk', 'plus_code': {'compound_code': 'P288+2R New York, United States', 'global_code': '87G8P288+2R'}, 'rating': 3.5, 'reference': 'ChIJzYPwsSpawokR460MdpQhHrk', 'types': ['drugstore', 'convenience_store', 'food', 'health', 'point_of_interest', 'store', 'establishment'], 'user_ratings_total': 33}, {'formatted_address': '500 W 43rd St, New York, NY 10036, United States', 'geometry': {'location': {'lat': 40.76044419999999, 'lng': -73.99554920000001}, 'viewport': {'northeast': {'lat': 40.76183302989272, 'lng': -73.99416382010727}, 'southwest': {'lat': 40.75913337010728, 'lng': -73.99686347989271}}}, 'icon': 'https://maps.gstatic.com/mapfiles/place_api/icons/generic_business-71.png', 'id': 'c23ee89cc8c37260ec6fa20bd6f79ae9c6c9ec40', 'name': 'Hertz 500 West 43rd Street Parking', 'opening_hours': {'open_now': True}, 'photos': [{'height': 1536, 'html_attributions': ['<a href=\"https://maps.google.com/maps/contrib/116843624544701780456\">Alliance Parking Services</a>'], 'photo_reference': 'CmRaAAAAmERsSrseuIpNMt7rPX_yztNID4r-upOPXFOmGUyJwYI5vHb9wjTVvpFco4JvIXAjRAzPOnR6t8M8bOiCJyRXWICPOvtvUpqrgw8B-BTVmaRoWnpSgBS7DynvEWaaSO-6EhCRWYaOh6ro2U4l8nDohqBoGhSWOjklcf0YKLWVuCdek6f8wJvMJQ', 'width': 2048}], 'place_id': 'ChIJxSWKkU1YwokRTi672tH2oC0', 'plus_code': {'compound_code': 'Q263+5Q New York, United States', 'global_code': '87G8Q263+5Q'}, 'rating': 3.4, 'reference': 'ChIJxSWKkU1YwokRTi672tH2oC0', 'types': ['parking', 'point_of_interest', 'establishment'], 'user_ratings_total': 11}, {'formatted_address': '116 W Houston St, New York, NY 10012, United States', 'geometry': {'location': {'lat': 40.7277906, 'lng': -74.0008623}, 'viewport': {'northeast': {'lat': 40.72903252989272, 'lng': -73.99960677010726}, 'southwest': {'lat': 40.72633287010728, 'lng': -74.00230642989271}}}, 'icon': 'https://maps.gstatic.com/mapfiles/place_api/icons/restaurant-71.png', 'id': '91993b42afaac14ceaf6de908b36e53c568a143e', 'name': 'Under 500', 'photos': [{'height': 3264, 'html_attributions': ['<a href=\"https://maps.google.com/maps/contrib/116201990677986425986\">Ricardo Castro</a>'], 'photo_reference': 'CmRaAAAA33y58eQ9ACwptFO-RAkcyN8EuPIl8HxuzT9VieZevGXDcSUVT4fJydfS4OuJd99urn5glpQKBxijT08bfUcO0LmLtm7DOH5kzIRXsnF5V9eL8kRY1QHaTnHtES0K-Y2LEhA38iVs6eY4mTdGMYHKmY6BGhTR3PBDg6z_rNFI-_xzMg1VyN2-ag', 'width': 2448}], 'place_id': 'ChIJhz8n8jdZwokREWlkcxWO2lc', 'plus_code': {'compound_code': 'PXHX+4M New York, United States', 'global_code': '87G7PXHX+4M'}, 'rating': 0, 'reference': 'ChIJhz8n8jdZwokREWlkcxWO2lc', 'types': ['restaurant', 'food', 'point_of_interest', 'establishment'], 'user_ratings_total': 0}, {'formatted_address': '500 Lexington Ave, New York, NY 10017, United States', 'geometry': {'location': {'lat': 40.7548705, 'lng': -73.9738414}, 'viewport': {'northeast': {'lat': 40.75617642989271, 'lng': -73.97238037010729}, 'southwest': {'lat': 40.75347677010727, 'lng': -73.97508002989272}}}, 'icon': 'https://maps.gstatic.com/mapfiles/place_api/icons/generic_business-71.png', 'id': 'c7eabc457d1e25b7f404763f27aed942fe92d867', 'name': \"Cohen's Fashion Optical\", 'photos': [{'height': 306, 'html_attributions': ['<a href=\"https://maps.google.com/maps/contrib/103273565927379119092\">Cohen&#39;s Fashion Optical</a>'], 'photo_reference': 'CmRaAAAA6MsUCYxzSswWjLP9UNz5Tnd5ecWNEHbrCPNO0XKDK5EUmLqlJwgdbfhNMe4L6efGkDtK7Acwiwz2YogkDz4n31X95mhnDAWdAsZ2DkwMAc0JoNeNTefqcuyF-gTQcFqYEhBpS9Nfr30H_Ca4iyuHjhv9GhQwiARp3JJQQmJnqLwWJ4Q3S2zsyg', 'width': 430}], 'place_id': 'ChIJyb04cf1YwokRkis1xb1gA5g', 'plus_code': {'compound_code': 'Q23G+WF New York, United States', 'global_code': '87G8Q23G+WF'}, 'price_level': 2, 'rating': 3.9, 'reference': 'ChIJyb04cf1YwokRkis1xb1gA5g', 'types': ['health', 'point_of_interest', 'store', 'establishment'], 'user_ratings_total': 49}, {'formatted_address': '116 W Broadway, New York, NY 10013, United States', 'geometry': {'location': {'lat': 40.7164665, 'lng': -74.0087674}, 'viewport': {'northeast': {'lat': 40.71776892989272, 'lng': -74.00731167010728}, 'southwest': {'lat': 40.71506927010728, 'lng': -74.01001132989272}}}, 'icon': 'https://maps.gstatic.com/mapfiles/place_api/icons/restaurant-71.png', 'id': 'eb9f85901f343a763a09d0ab1370f97cd99e234c', 'name': 'Under 500', 'place_id': 'ChIJ25OXQ8hbwokR-nL-vc3gKXU', 'plus_code': {'compound_code': 'PX8R+HF New York, United States', 'global_code': '87G7PX8R+HF'}, 'rating': 0, 'reference': 'ChIJ25OXQ8hbwokR-nL-vc3gKXU', 'types': ['restaurant', 'food', 'point_of_interest', 'establishment'], 'user_ratings_total': 0}, {'formatted_address': '500 Pearl St, New York, NY 10007, United States', 'geometry': {'location': {'lat': 40.7137586, 'lng': -74.00090589999999}, 'viewport': {'northeast': {'lat': 40.71496242989272, 'lng': -73.99970397010726}, 'southwest': {'lat': 40.71226277010728, 'lng': -74.00240362989271}}}, 'icon': 'https://maps.gstatic.com/mapfiles/place_api/icons/civic_building-71.png', 'id': '67fafffb047fd276c79bbf8e292642fcd74da77b', 'name': 'U.S. District Court - Southern District of New York', 'opening_hours': {'open_now': False}, 'photos': [{'height': 2988, 'html_attributions': ['<a href=\"https://maps.google.com/maps/contrib/106423311511167673278\">Dean Lottering</a>'], 'photo_reference': 'CmRaAAAAnjqKvT_fsKv4Vu_ud5FaxAUnOEN4VhQmu4loXJViS80A1Fb2fthjWRnCR616xShPZIy2KdnlFw11aPGx1hgnycgpWLtL0ovCYPD8EcFD09lC4vyj55Np3_ilI6yYBP1BEhBdPoC7zZO37VpFiKtGkQBKGhQFmsmfeICFHpyh1Agd8lOWAysMUQ', 'width': 5312}], 'place_id': 'ChIJVT7FUyFawokRJkLV9CqnVC8', 'plus_code': {'compound_code': 'PX7X+GJ New York, United States', 'global_code': '87G7PX7X+GJ'}, 'rating': 4.5, 'reference': 'ChIJVT7FUyFawokRJkLV9CqnVC8', 'types': ['courthouse', 'point_of_interest', 'establishment'], 'user_ratings_total': 38}, {'formatted_address': '500 Grand St, New York, NY 10002, United States', 'geometry': {'location': {'lat': 40.71505519999999, 'lng': -73.9829568}, 'viewport': {'northeast': {'lat': 40.71632402989272, 'lng': -73.98164722010728}, 'southwest': {'lat': 40.71362437010728, 'lng': -73.98434687989271}}}, 'icon': 'https://maps.gstatic.com/mapfiles/place_api/icons/pharmacy_cross-71.png', 'id': '672d63fb9486d0b4a17751d743a2c915f18c1a81', 'name': 'CVS Pharmacy', 'opening_hours': {'open_now': False}, 'photos': [{'height': 667, 'html_attributions': ['<a href=\"https://maps.google.com/maps/contrib/116815348364844209542\">CVS Pharmacy</a>'], 'photo_reference': 'CmRaAAAAhSC6hjibLwxyEC-lO3adiJe_-XCamzIA-FF70k4gOVyK6qXkbz-MDgcc5TOTW0Lelh62bUbtuS0kmwIB7s-bvmOjMXqa7kKkzOBPM8PhSTlPngt0_bnVeY9StpFvQIzrEhD-TQA02BlukwJEoe4ZxvkAGhTP2C1cvY4BU--UK5Wd9Dy_tCXJDA', 'width': 1000}], 'place_id': 'ChIJeSSrU9VbwokR08PK8_ECLMw', 'plus_code': {'compound_code': 'P288+2R New York, United States', 'global_code': '87G8P288+2R'}, 'rating': 3.2, 'reference': 'ChIJeSSrU9VbwokR08PK8_ECLMw', 'types': ['pharmacy', 'health', 'point_of_interest', 'store', 'establishment'], 'user_ratings_total': 5}, {'formatted_address': '500 8th Ave, New York, NY 10018, United States', 'geometry': {'location': {'lat': 40.7529311, 'lng': -73.9925899}, 'viewport': {'northeast': {'lat': 40.75430102989272, 'lng': -73.99139282010728}, 'southwest': {'lat': 40.75160137010728, 'lng': -73.99409247989273}}}, 'icon': 'https://maps.gstatic.com/mapfiles/place_api/icons/shopping-71.png', 'id': '926da490ad170ec904f62d275e8abdd0c2605a6b', 'name': 'Staples', 'opening_hours': {'open_now': False}, 'photos': [{'height': 1440, 'html_attributions': ['<a href=\"https://maps.google.com/maps/contrib/107126845515584521154\">Z A</a>'], 'photo_reference': 'CmRaAAAAMY2ajfQiN0g1_F0w8XI5HFNK6D_D-feXUe5Usn1EXqr9cFJHgGoDP7f98XxpY_E8pAVjK95vyi65SbqkEth6vWIOt3f4fRHMyqTk1nXJXi7_GMx80QnCrEOcYC__b1UKEhAth4NXd_jeRQGpuLj-hcAxGhT9_2gkhDvBVk2FpYk4DnLNGTo_Lg', 'width': 2560}], 'place_id': 'ChIJIZ_TsK1ZwokRzbc8irw0dn4', 'plus_code': {'compound_code': 'Q234+5X New York, United States', 'global_code': '87G8Q234+5X'}, 'price_level': 2, 'rating': 3.6, 'reference': 'ChIJIZ_TsK1ZwokRzbc8irw0dn4', 'types': ['electronics_store', 'furniture_store', 'home_goods_store', 'point_of_interest', 'store', 'establishment'], 'user_ratings_total': 168}, {'formatted_address': '500 E 62nd St, New York, NY 10065, United States', 'geometry': {'location': {'lat': 40.7602348, 'lng': -73.9582291}, 'viewport': {'northeast': {'lat': 40.76168202989273, 'lng': -73.95681277010726}, 'southwest': {'lat': 40.75898237010728, 'lng': -73.95951242989271}}}, 'icon': 'https://maps.gstatic.com/mapfiles/place_api/icons/lodging-71.png', 'id': 'ce42788585e8984600ddd5cd467cd973c10e6562', 'name': 'The Bentley Hotel', 'opening_hours': {'open_now': True}, 'photos': [{'height': 2137, 'html_attributions': ['<a href=\"https://maps.google.com/maps/contrib/117912982586807460224\">Bentley hotel</a>'], 'photo_reference': 'CmRaAAAARWLMYZnkZvLoGIibWHN49rXFnrUCJYctUhXHHrAONKrVYJRDiB9avMp0YFfaV234f7WnbPUZz6W-cZVdF3jEnScziz3cGklf9crlzzywSlSi1tRqFc7q_1cIpjvkgtEDEhCod62kQD1NYXmFFtK7eQ--GhTj3_AJEuXJv9hR1H10vME4Orsw_A', 'width': 4032}], 'place_id': 'ChIJNyFAat1YwokRe9y05CWG4p8', 'plus_code': {'compound_code': 'Q26R+3P New York, United States', 'global_code': '87G8Q26R+3P'}, 'rating': 3.8, 'reference': 'ChIJNyFAat1YwokRe9y05CWG4p8', 'types': ['lodging', 'point_of_interest', 'establishment'], 'user_ratings_total': 1043}, {'formatted_address': '11 W 42nd St, New York, NY 10036, United States', 'geometry': {'location': {'lat': 40.7541476, 'lng': -73.9818586}, 'viewport': {'northeast': {'lat': 40.75540232989272, 'lng': -73.98057982010728}, 'southwest': {'lat': 40.75270267010728, 'lng': -73.98327947989272}}}, 'icon': 'https://maps.gstatic.com/mapfiles/place_api/icons/atm-71.png', 'id': 'd5412c0befdfcda35a0f59f710b5abd4d0e14e88', 'name': 'BOIING 787 500', 'place_id': 'ChIJf0PXFgBZwokRfqKXlRWboqk', 'plus_code': {'compound_code': 'Q239+M7 New York, United States', 'global_code': '87G8Q239+M7'}, 'rating': 0, 'reference': 'ChIJf0PXFgBZwokRfqKXlRWboqk', 'types': ['atm', 'finance', 'point_of_interest', 'establishment'], 'user_ratings_total': 0}, {'formatted_address': '500 W 56th St, New York, NY 10019, United States', 'geometry': {'location': {'lat': 40.7681577, 'lng': -73.9894789}, 'viewport': {'northeast': {'lat': 40.76968842989272, 'lng': -73.98799837010728}, 'southwest': {'lat': 40.76698877010728, 'lng': -73.99069802989273}}}, 'icon': 'https://maps.gstatic.com/mapfiles/place_api/icons/generic_business-71.png', 'id': '6849b34b1bf993b97489baa8bff4fbed9292dd46', 'name': 'The Westport', 'place_id': 'ChIJ_ZyUMlpYwokRy3DWD-KMI6Y', 'plus_code': {'compound_code': 'Q296+76 New York, United States', 'global_code': '87G8Q296+76'}, 'rating': 4.7, 'reference': 'ChIJ_ZyUMlpYwokRy3DWD-KMI6Y', 'types': ['point_of_interest', 'establishment'], 'user_ratings_total': 3}, {'formatted_address': '500 Riverside Dr, New York, NY 10027, United States', 'geometry': {'location': {'lat': 40.81359860000001, 'lng': -73.9611716}, 'viewport': {'northeast': {'lat': 40.81533907989272, 'lng': -73.96004832010728}, 'southwest': {'lat': 40.81263942010728, 'lng': -73.96274797989271}}}, 'icon': 'https://maps.gstatic.com/mapfiles/place_api/icons/generic_business-71.png', 'id': '7c50a9393b8e7f4a21c44d57e11956bed0a5edfb', 'name': 'International House', 'opening_hours': {'open_now': False}, 'photos': [{'height': 2979, 'html_attributions': ['<a href=\"https://maps.google.com/maps/contrib/117043117783947416633\">Dimitrios Spyropoulos</a>'], 'photo_reference': 'CmRaAAAALPBYYDE7xfShfHOjQdGWhCxYkQetSpnpsqAKknd2QErEYR5IcW6qe6y1Irtz3p18CznYzQ3dVi3z6gm-pFnX_gKy94F_XGF2KXkWqzVbFTo3TLoiHwAi5MSJHV-9zNcFEhBcEeX4CKMvzT1nppxDomqSGhRQ-LLMPnt3vNkYamruA7W-Y8fcxg', 'width': 4020}], 'place_id': 'ChIJi8xRTUD2wokRnvWzK-H70AM', 'plus_code': {'compound_code': 'R27Q+CG New York, United States', 'global_code': '87G8R27Q+CG'}, 'rating': 4.4, 'reference': 'ChIJi8xRTUD2wokRnvWzK-H70AM', 'types': ['university', 'point_of_interest', 'establishment'], 'user_ratings_total': 128}, {'formatted_address': '500 7th Ave, New York, NY 10018, United States', 'geometry': {'location': {'lat': 40.7530825, 'lng': -73.9893104}, 'viewport': {'northeast': {'lat': 40.75440132989272, 'lng': -73.98788912010727}, 'southwest': {'lat': 40.75170167010727, 'lng': -73.9905887798927}}}, 'icon': 'https://maps.gstatic.com/mapfiles/place_api/icons/generic_business-71.png', 'id': 'bd6c8f4459206aceca0730c0925309bc3eea1a3c', 'name': 'FedEx Office Print & Ship Center', 'opening_hours': {'open_now': False}, 'photos': [{'height': 750, 'html_attributions': ['<a href=\"https://maps.google.com/maps/contrib/113842460505149780712\">FedEx Office Print &amp; Ship Center</a>'], 'photo_reference': 'CmRaAAAAZVMkk24u_eJKK9MjZwLlI7gK1DADf6-SbgmjQA-IgRz4qKBHnIPyfvat4_xtvLUyLdGdHwxhqzdiIFsO4U_8q6rvkWZggslPNkfpM4mGa8_9g89M2tJwY5vaTwYynX9pEhDUs6Yax2H0EKWDRtvYWHJ5GhRaq3eAbiEoogUodQw7oOq9ZJYTQw', 'width': 1000}], 'place_id': 'ChIJAxmUe6xZwokR0DG43kjCq1c', 'plus_code': {'compound_code': 'Q236+67 New York, United States', 'global_code': '87G8Q236+67'}, 'price_level': 2, 'rating': 3.6, 'reference': 'ChIJAxmUe6xZwokR0DG43kjCq1c', 'types': ['point_of_interest', 'store', 'establishment'], 'user_ratings_total': 25}, {'formatted_address': '500 8th Ave, New York, NY 10018, United States', 'geometry': {'location': {'lat': 40.75298129999999, 'lng': -73.9925318}, 'viewport': {'northeast': {'lat': 40.75439152989272, 'lng': -73.99131502010728}, 'southwest': {'lat': 40.75169187010728, 'lng': -73.99401467989271}}}, 'icon': 'https://maps.gstatic.com/mapfiles/place_api/icons/restaurant-71.png', 'id': '69477cc928354f5224444d6dfa5475a88439469c', 'name': 'Taco Bell Cantina', 'opening_hours': {'open_now': False}, 'photos': [{'height': 3024, 'html_attributions': ['<a href=\"https://maps.google.com/maps/contrib/109776984980395979948\">Christine Paul Chitilapilly</a>'], 'photo_reference': 'CmRaAAAA_4S6Iv_sFMfeW6bTAHXN59Nmimkp62u9R_TDV-D1-RdsuqKpI6Lh6-EBwbiVnI-Z_C-qDO8g8SQDsf9UeI_S8bqabBO05YSaU-0ymQ1bdKPJxfuG0TquDm0XTMPZqhLQEhDKwPlDINvlY8uvFpN7lizNGhQ8fRERhUwO5tcUUljKuI0OK33J1g', 'width': 4032}], 'place_id': 'ChIJH1-Y3Z1ZwokR3iwpsSQB6AA', 'plus_code': {'compound_code': 'Q234+5X New York, United States', 'global_code': '87G8Q234+5X'}, 'price_level': 1, 'rating': 3.9, 'reference': 'ChIJH1-Y3Z1ZwokR3iwpsSQB6AA', 'types': ['meal_takeaway', 'restaurant', 'food', 'point_of_interest', 'establishment'], 'user_ratings_total': 1536}, {'formatted_address': '500 W 23rd St, New York, NY 10011, United States', 'geometry': {'location': {'lat': 40.74757049999999, 'lng': -74.0047154}, 'viewport': {'northeast': {'lat': 40.74905587989272, 'lng': -74.00326527010726}, 'southwest': {'lat': 40.74635622010728, 'lng': -74.00596492989271}}}, 'icon': 'https://maps.gstatic.com/mapfiles/place_api/icons/generic_business-71.png', 'id': 'd05b0543bb5913b20a5e6e322e62d307ff18ca4c', 'name': 'Ten23 Apartments', 'opening_hours': {'open_now': False}, 'photos': [{'height': 1080, 'html_attributions': ['<a href=\"https://maps.google.com/maps/contrib/100261801831801811972\">A Google User</a>'], 'photo_reference': 'CmRaAAAA7qKm4-NXwo9meQuvLFzSotMzQT1J2Rg_qhw8Xvdcuf1F0PalDvPfcT9g9YtKFvEYe4OOT4Io96mvCrFj3NHQT5u_GI1Y_OqQsmfstlIIszGRQFAmUhv4D8VQapTG4ar1EhD24vzXLYbDejskI8wZwa9jGhS2quGYXSQqAgeSb_KfqmXGK9OrKA', 'width': 1920}], 'place_id': 'ChIJtYiBPLhZwokRS8yTwyR79UE', 'plus_code': {'compound_code': 'PXXW+24 New York, United States', 'global_code': '87G7PXXW+24'}, 'rating': 4.9, 'reference': 'ChIJtYiBPLhZwokRS8yTwyR79UE', 'types': ['point_of_interest', 'establishment'], 'user_ratings_total': 23}], 'status': 'OK'}\n"
     ]
    }
   ],
   "source": [
    "places = f.search_places_by_input()"
   ]
  },
  {
   "cell_type": "code",
   "execution_count": 14,
   "metadata": {},
   "outputs": [
    {
     "ename": "KeyError",
     "evalue": "'next_page_token'",
     "output_type": "error",
     "traceback": [
      "\u001b[0;31m---------------------------------------------------------------------------\u001b[0m",
      "\u001b[0;31mKeyError\u001b[0m                                  Traceback (most recent call last)",
      "\u001b[0;32m<ipython-input-14-42e5725d79e7>\u001b[0m in \u001b[0;36m<module>\u001b[0;34m\u001b[0m\n\u001b[0;32m----> 1\u001b[0;31m \u001b[0mplaces\u001b[0m\u001b[0;34m[\u001b[0m\u001b[0;36m0\u001b[0m\u001b[0;34m]\u001b[0m\u001b[0;34m[\u001b[0m\u001b[0;34m'next_page_token'\u001b[0m\u001b[0;34m]\u001b[0m\u001b[0;34m\u001b[0m\u001b[0;34m\u001b[0m\u001b[0m\n\u001b[0m",
      "\u001b[0;31mKeyError\u001b[0m: 'next_page_token'"
     ]
    }
   ],
   "source": []
  },
  {
   "cell_type": "markdown",
   "metadata": {},
   "source": [
    "# Bring documents from Mongodb"
   ]
  },
  {
   "cell_type": "code",
   "execution_count": 2,
   "metadata": {},
   "outputs": [],
   "source": [
    "db, coll = f.connectCollection('companies','companies')"
   ]
  },
  {
   "cell_type": "code",
   "execution_count": 3,
   "metadata": {},
   "outputs": [],
   "source": [
    "compas = list(coll.find({\"$and\":[{\"deadpooled_year\":None},{\"founded_year\":{\"$gte\":1999}},{\"$where\":\"this.offices.length >= 1\"},\n",
    "         {\"$or\":[{\"offices.latitude\":{'$ne':None}},{\"offices.longitude\":{'$ne':None}}]}]}))"
   ]
  },
  {
   "cell_type": "markdown",
   "metadata": {},
   "source": [
    "# Filtering and new collections"
   ]
  },
  {
   "cell_type": "code",
   "execution_count": 4,
   "metadata": {},
   "outputs": [],
   "source": [
    "db, coll1 = f.connectCollection('companies','airports')\n",
    "db, coll2 = f.connectCollection('companies','preferred')"
   ]
  },
  {
   "cell_type": "code",
   "execution_count": 5,
   "metadata": {},
   "outputs": [],
   "source": [
    "airports = list(coll1.find({\"type\": 'large_airport'}))"
   ]
  },
  {
   "cell_type": "code",
   "execution_count": 6,
   "metadata": {},
   "outputs": [],
   "source": [
    "business = list(coll2.find({\"$and\":[{\"money_raised\":{\"$ne\":\"$0\"}},{\"year\":{\"$gte\":2009}}]}))"
   ]
  },
  {
   "cell_type": "markdown",
   "metadata": {},
   "source": [
    "Create new collections:"
   ]
  },
  {
   "cell_type": "code",
   "execution_count": 7,
   "metadata": {},
   "outputs": [
    {
     "data": {
      "text/plain": [
       "'\\nmyclient = MongoClient(\"mongodb://localhost/\")\\nmydb = myclient[\"companies\"]\\nmycol = mydb[\"final5\"]\\n'"
      ]
     },
     "execution_count": 7,
     "metadata": {},
     "output_type": "execute_result"
    }
   ],
   "source": [
    "'''\n",
    "myclient = MongoClient(\"mongodb://localhost/\")\n",
    "mydb = myclient[\"companies\"]\n",
    "mycol = mydb[\"final5\"]\n",
    "'''"
   ]
  },
  {
   "cell_type": "markdown",
   "metadata": {},
   "source": [
    "To import a csv to Mongodb:"
   ]
  },
  {
   "cell_type": "code",
   "execution_count": 8,
   "metadata": {},
   "outputs": [
    {
     "data": {
      "text/plain": [
       "'\\nmongoimport --db companies --collection kindergarten --type csv --file kindergarten.csv --headerline\\n'"
      ]
     },
     "execution_count": 8,
     "metadata": {},
     "output_type": "execute_result"
    }
   ],
   "source": [
    "'''\n",
    "mongoimport --db companies --collection kindergarten --type csv --file kindergarten.csv --headerline\n",
    "'''"
   ]
  },
  {
   "cell_type": "markdown",
   "metadata": {},
   "source": [
    "# Harversine "
   ]
  },
  {
   "cell_type": "markdown",
   "metadata": {},
   "source": [
    "Since the Harversine function takes a couple of coordinates and return the distance in between, it helped to conclude which of the 99 companies have an airport the closest. \n",
    "\n",
    "These 99 companies are the preferred after applying the different filters mentioned before. "
   ]
  },
  {
   "cell_type": "code",
   "execution_count": 9,
   "metadata": {},
   "outputs": [],
   "source": [
    "name=[]\n",
    "for bus in business:\n",
    "    name.append(bus['name'])"
   ]
  },
  {
   "cell_type": "code",
   "execution_count": 10,
   "metadata": {},
   "outputs": [
    {
     "data": {
      "text/plain": [
       "(99, 99)"
      ]
     },
     "execution_count": 10,
     "metadata": {},
     "output_type": "execute_result"
    }
   ],
   "source": [
    "lat1=[]\n",
    "long1=[]\n",
    "f.getcoord(business,lat1,long1)"
   ]
  },
  {
   "cell_type": "code",
   "execution_count": 11,
   "metadata": {},
   "outputs": [],
   "source": [
    "bus=list(zip(lat1,long1))"
   ]
  },
  {
   "cell_type": "code",
   "execution_count": 12,
   "metadata": {},
   "outputs": [
    {
     "data": {
      "text/plain": [
       "(614, 614)"
      ]
     },
     "execution_count": 12,
     "metadata": {},
     "output_type": "execute_result"
    }
   ],
   "source": [
    "lat2=[]\n",
    "long2=[]\n",
    "f.getcoord(airports,lat2,long2)"
   ]
  },
  {
   "cell_type": "code",
   "execution_count": 13,
   "metadata": {},
   "outputs": [],
   "source": [
    "air=list(zip(lat2,long2))"
   ]
  },
  {
   "cell_type": "code",
   "execution_count": 14,
   "metadata": {},
   "outputs": [],
   "source": [
    "futcol=[]\n",
    "for i in bus:\n",
    "    futcol.append(f.harver(i,air))"
   ]
  },
  {
   "cell_type": "code",
   "execution_count": 15,
   "metadata": {},
   "outputs": [],
   "source": [
    "dfair=pd.DataFrame({\"name\":name,\"long\":long1,\"lat\":lat1,\"dis to an airport\":futcol})"
   ]
  },
  {
   "cell_type": "code",
   "execution_count": 16,
   "metadata": {},
   "outputs": [],
   "source": [
    "actuali=list(zip(business,futcol))"
   ]
  },
  {
   "cell_type": "code",
   "execution_count": 17,
   "metadata": {},
   "outputs": [],
   "source": [
    "for i in actuali:\n",
    "    value={\"$set\":{'distance':i[1]}}\n",
    "    coll1.update_one(i[0],value)"
   ]
  },
  {
   "cell_type": "code",
   "execution_count": 18,
   "metadata": {},
   "outputs": [
    {
     "data": {
      "text/plain": [
       "10-20km      43\n",
       "0-10km       26\n",
       "20-50km      24\n",
       "50-100km      4\n",
       "100-300km     2\n",
       "Name: range, dtype: int64"
      ]
     },
     "execution_count": 18,
     "metadata": {},
     "output_type": "execute_result"
    }
   ],
   "source": [
    "cutoffs = [0,10,20,50,100,300]\n",
    "km_labels = ['0-10km', '10-20km', '20-50km','50-100km','100-300km']\n",
    "dfair['range'] = pd.cut(dfair['dis to an airport'], cutoffs, labels = km_labels)\n",
    "dfair['range'].value_counts()"
   ]
  },
  {
   "cell_type": "markdown",
   "metadata": {},
   "source": [
    "# Google API"
   ]
  },
  {
   "cell_type": "code",
   "execution_count": 19,
   "metadata": {},
   "outputs": [
    {
     "data": {
      "text/plain": [
       "(99, 99)"
      ]
     },
     "execution_count": 19,
     "metadata": {},
     "output_type": "execute_result"
    }
   ],
   "source": [
    "lat=[]\n",
    "long=[]\n",
    "f.getcoord(business,lat,long)"
   ]
  },
  {
   "cell_type": "code",
   "execution_count": 20,
   "metadata": {},
   "outputs": [],
   "source": [
    "lista=[]\n",
    "busines=list(zip(lat,long))"
   ]
  },
  {
   "cell_type": "code",
   "execution_count": 21,
   "metadata": {},
   "outputs": [],
   "source": [
    "for i in busines:\n",
    "    lista.append(\"{},{}\".format(i[0],i[1]))"
   ]
  },
  {
   "cell_type": "markdown",
   "metadata": {},
   "source": [
    "### API request"
   ]
  },
  {
   "cell_type": "code",
   "execution_count": 22,
   "metadata": {},
   "outputs": [
    {
     "data": {
      "text/plain": [
       "['40.757929,-73.985506',\n",
       " '33.8171,-111.9035',\n",
       " '37.566879,-122.323895',\n",
       " '37.798853,-122.398599',\n",
       " '34.047312,-118.445243',\n",
       " '37.446823,-122.161523',\n",
       " '34.0698494,-118.4054182',\n",
       " '37.5645375,-122.3254705',\n",
       " '37.772323,-122.214897',\n",
       " '34.052187,-118.243425',\n",
       " '51.51819,-0.208979',\n",
       " '34.052187,-118.243425',\n",
       " '42.275263,-71.24762',\n",
       " '53.544711,-113.515769',\n",
       " '54.703145,-1.574948',\n",
       " '37.424614,-122.145153',\n",
       " '21.303049,-157.78907',\n",
       " '39.749671,-104.9998449',\n",
       " '59.337864,18.036587',\n",
       " '27.913011,-82.702449',\n",
       " '40.714056,-73.957854',\n",
       " '40.768058,-73.956599',\n",
       " '37.424614,-122.145153',\n",
       " '21.303049,-157.78907',\n",
       " '39.749671,-104.9998449',\n",
       " '59.337864,18.036587',\n",
       " '27.913011,-82.702449',\n",
       " '40.768058,-73.956599',\n",
       " '40.714056,-73.957854',\n",
       " '39.9052263,-86.0547016',\n",
       " '37.55909,-122.321836',\n",
       " '40.744618,-73.987764',\n",
       " '43.068006,-89.39256',\n",
       " '46.2121463,6.1503245',\n",
       " '41.4778641,-72.8190106',\n",
       " '48.8566667,2.3509871',\n",
       " '41.4241228,2.1634249',\n",
       " '37.3229727,-122.0385792',\n",
       " '37.270518,-121.955879',\n",
       " '37.7905538,-122.4041485',\n",
       " '37.785271,-122.397582',\n",
       " '35.8535092,-78.8267112',\n",
       " '37.317735,-121.949417',\n",
       " '51.5196135,-0.1020265',\n",
       " '42.3756409,-72.5196907',\n",
       " '37.5561712,-122.0780632',\n",
       " '12.971606,77.594376',\n",
       " '42.318138,-71.24756',\n",
       " '42.6751888,-71.1469003',\n",
       " '37.777995,-122.408914',\n",
       " '51.5119418,-0.0936688',\n",
       " '40.727216,-73.994797',\n",
       " '40.7454098,-73.9822211',\n",
       " '37.380653,-122.1156934',\n",
       " '41.2601663,-96.0791435',\n",
       " '37.4189073,-122.0884286',\n",
       " '-37.839941,144.976425',\n",
       " '40.7078343,-74.0136605',\n",
       " '53.5736401,10.0184565',\n",
       " '47.6103008,-122.3399782',\n",
       " '34.007112,-118.489748',\n",
       " '42.364014,-71.101375',\n",
       " '40.73343,-73.990967',\n",
       " '-23.5489433,-46.6388182',\n",
       " '37.7405936,-122.3764714',\n",
       " '30.288159,-97.750154',\n",
       " '40.746417,-73.983171',\n",
       " '55.6770321,12.5751278',\n",
       " '55.6802318,12.524884',\n",
       " '37.4734314,-121.9417078',\n",
       " '37.4202074,-122.0933053',\n",
       " '42.3647559,-71.1032591',\n",
       " '-23.5815208,-46.6773686',\n",
       " '-27.5995476,-48.5483418',\n",
       " '42.2802707,-83.7422325',\n",
       " '37.5646055,-122.3229235',\n",
       " '40.438423,-80.001933',\n",
       " '40.707954,-74.011114',\n",
       " '37.775206,-122.419209',\n",
       " '42.3406534,-71.0680027',\n",
       " '34.007967,-118.489681',\n",
       " '43.264499,-2.9308322',\n",
       " '12.9349604,77.6136847',\n",
       " '40.756054,-73.986951',\n",
       " '41.581232,-93.621998',\n",
       " '37.6656476,-122.3843489',\n",
       " '51.8205815,0.0118608',\n",
       " '29.7847641,-82.4768036',\n",
       " '40.5932386,-105.0766501',\n",
       " '48.8566667,2.3509871',\n",
       " '40.026,-105.259041',\n",
       " '52.3657578,4.8928722',\n",
       " '40.455501,-74.478931',\n",
       " '52.3655578,4.9345824',\n",
       " '40.4455155,-3.7061764',\n",
       " '42.603532,-83.16134',\n",
       " '40.7408042,-74.00717',\n",
       " '50.83997,4.3464721',\n",
       " '49.2824551,-123.109217']"
      ]
     },
     "execution_count": 22,
     "metadata": {},
     "output_type": "execute_result"
    }
   ],
   "source": [
    "lista"
   ]
  },
  {
   "cell_type": "code",
   "execution_count": 23,
   "metadata": {},
   "outputs": [
    {
     "name": "stdout",
     "output_type": "stream",
     "text": [
      "40.757929,-73.985506\n",
      "33.8171,-111.9035\n",
      "37.566879,-122.323895\n",
      "37.798853,-122.398599\n",
      "34.047312,-118.445243\n",
      "37.446823,-122.161523\n",
      "34.0698494,-118.4054182\n",
      "37.5645375,-122.3254705\n",
      "37.772323,-122.214897\n",
      "34.052187,-118.243425\n",
      "0.002637147903442383\n"
     ]
    }
   ],
   "source": [
    "start=time.time()\n",
    "results=[]\n",
    "for i in lista[:10]:   \n",
    "    print(i)\n",
    "    #results.append(f.nearbyAPI(i, \"2000\", \"nightclub\"))\n",
    "end=time.time()\n",
    "print(end - start)"
   ]
  },
  {
   "cell_type": "code",
   "execution_count": 26,
   "metadata": {},
   "outputs": [],
   "source": [
    "eso = f.nearbyAPI('40.757929,-73.985506', \"5000\", \"bar\")"
   ]
  },
  {
   "cell_type": "code",
   "execution_count": 27,
   "metadata": {},
   "outputs": [
    {
     "data": {
      "text/plain": [
       "20"
      ]
     },
     "execution_count": 27,
     "metadata": {},
     "output_type": "execute_result"
    }
   ],
   "source": [
    "len(eso)"
   ]
  },
  {
   "cell_type": "code",
   "execution_count": 25,
   "metadata": {},
   "outputs": [],
   "source": [
    "df_molona = f.createApiDf(results)"
   ]
  },
  {
   "cell_type": "markdown",
   "metadata": {},
   "source": [
    "Be aware of dropping those entries which the API return duplicated.  "
   ]
  },
  {
   "cell_type": "code",
   "execution_count": null,
   "metadata": {},
   "outputs": [],
   "source": [
    "df_molona=df_molona.drop_duplicates()"
   ]
  },
  {
   "cell_type": "code",
   "execution_count": null,
   "metadata": {},
   "outputs": [],
   "source": [
    "#export_csv = df_molona.to_csv('nightclubs99.csv', index=None, header=True)"
   ]
  },
  {
   "cell_type": "markdown",
   "metadata": {},
   "source": [
    "# Get Coord"
   ]
  },
  {
   "cell_type": "code",
   "execution_count": 25,
   "metadata": {},
   "outputs": [],
   "source": [
    "pref_comp = list(coll.find())"
   ]
  },
  {
   "cell_type": "code",
   "execution_count": 2,
   "metadata": {},
   "outputs": [],
   "source": [
    "for pref in pref_comp:\n",
    "    value = {\"$set\": {'location':f.getApiLoc(pref)}}\n",
    "    coll.update_one(pref,value)"
   ]
  },
  {
   "cell_type": "markdown",
   "metadata": {},
   "source": [
    "# Geoqueries"
   ]
  },
  {
   "cell_type": "code",
   "execution_count": 10,
   "metadata": {},
   "outputs": [],
   "source": [
    "db, coll3 = f.connectCollection('companies','starbucks')"
   ]
  },
  {
   "cell_type": "code",
   "execution_count": 11,
   "metadata": {},
   "outputs": [],
   "source": [
    "star= list(coll3.find())"
   ]
  },
  {
   "cell_type": "code",
   "execution_count": 12,
   "metadata": {},
   "outputs": [],
   "source": [
    "business = list(coll2.find({\"$and\":[{\"money_raised\":{\"$ne\":\"$0\"}},{\"year\":{\"$gte\":2009}}]}))"
   ]
  },
  {
   "cell_type": "code",
   "execution_count": 13,
   "metadata": {},
   "outputs": [],
   "source": [
    "comparatorDosPuntoCero=[]\n",
    "for bu in business:\n",
    "    comparatorDosPuntoCero.append(f.geoquery(bu['location'],100,coll3))"
   ]
  },
  {
   "cell_type": "code",
   "execution_count": 15,
   "metadata": {},
   "outputs": [],
   "source": [
    "cuantos=[]\n",
    "for i in comparatorDosPuntoCero:\n",
    "    #cuantos.append(len(i))\n",
    "data[\"starbucks 100m\"]=cuantos"
   ]
  },
  {
   "cell_type": "code",
   "execution_count": null,
   "metadata": {},
   "outputs": [],
   "source": [
    "#export_csv = data.to_csv('master99.csv', index=None, header=True)"
   ]
  },
  {
   "cell_type": "code",
   "execution_count": null,
   "metadata": {},
   "outputs": [],
   "source": [
    "data = pd.read_csv(\"master99.csv\") \n",
    "data.head()"
   ]
  }
 ],
 "metadata": {
  "kernelspec": {
   "display_name": "Python 3",
   "language": "python",
   "name": "python3"
  },
  "language_info": {
   "codemirror_mode": {
    "name": "ipython",
    "version": 3
   },
   "file_extension": ".py",
   "mimetype": "text/x-python",
   "name": "python",
   "nbconvert_exporter": "python",
   "pygments_lexer": "ipython3",
   "version": "3.7.5"
  }
 },
 "nbformat": 4,
 "nbformat_minor": 2
}
