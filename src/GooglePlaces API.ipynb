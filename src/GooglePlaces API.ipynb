{
 "cells": [
  {
   "cell_type": "code",
   "execution_count": 3,
   "metadata": {},
   "outputs": [],
   "source": [
    "import googlemaps\n",
    "from datetime import datetime\n",
    "import os\n",
    "from dotenv import load_dotenv\n",
    "load_dotenv()\n",
    "import requests, json \n",
    "import pandas as pd\n",
    "from pymongo import MongoClient"
   ]
  },
  {
   "cell_type": "code",
   "execution_count": 4,
   "metadata": {},
   "outputs": [],
   "source": [
    "def connectCollection(database, collection):\n",
    "    client = MongoClient()\n",
    "    db = client[database]\n",
    "    coll = db[collection]\n",
    "    return db, coll"
   ]
  },
  {
   "cell_type": "code",
   "execution_count": 5,
   "metadata": {},
   "outputs": [],
   "source": [
    "#para crear nuevas collections\n",
    "#myclient = MongoClient(\"mongodb://localhost/\")\n",
    "#mydb = myclient[\"companies\"]\n",
    "#mycol = mydb[\"startups\"]\n",
    "#para importar el contenido de un csv a mongo\n",
    "#mongoimport --db companies --collection kindergarten --type csv --file kindergarten.csv --headerline"
   ]
  },
  {
   "cell_type": "code",
   "execution_count": 5,
   "metadata": {},
   "outputs": [],
   "source": [
    "#https://stackoverflow.com/questions/5681851/mongodb-combine-data-from-multiple-collections-into-one-how"
   ]
  },
  {
   "cell_type": "code",
   "execution_count": 6,
   "metadata": {},
   "outputs": [],
   "source": [
    "db, coll = connectCollection('companies','preferred')"
   ]
  },
  {
   "cell_type": "code",
   "execution_count": 7,
   "metadata": {},
   "outputs": [],
   "source": [
    "#stars = list(coll.find{\"location\": {\"$exists\": False }}))"
   ]
  },
  {
   "cell_type": "code",
   "execution_count": 7,
   "metadata": {},
   "outputs": [],
   "source": [
    "business = list(coll.find({\"$and\":[{\"money_raised\":{\"$ne\":\"$0\"}},{\"year\":{\"$gte\":2009}}]}))"
   ]
  },
  {
   "cell_type": "code",
   "execution_count": 8,
   "metadata": {},
   "outputs": [
    {
     "name": "stdout",
     "output_type": "stream",
     "text": [
      "99\n"
     ]
    }
   ],
   "source": [
    "print(len(business))"
   ]
  },
  {
   "cell_type": "code",
   "execution_count": 10,
   "metadata": {},
   "outputs": [
    {
     "data": {
      "text/plain": [
       "\"\\ngmaps = googlemaps.Client(key=os.getenv('API_KEY'))\\ngeocode_result = gmaps.places('starbucks palo alto')\\n\""
      ]
     },
     "execution_count": 10,
     "metadata": {},
     "output_type": "execute_result"
    }
   ],
   "source": [
    "'''\n",
    "gmaps = googlemaps.Client(key=os.getenv('API_KEY'))\n",
    "geocode_result = gmaps.places('starbucks palo alto')\n",
    "'''"
   ]
  },
  {
   "cell_type": "code",
   "execution_count": 9,
   "metadata": {},
   "outputs": [],
   "source": [
    "'''\n",
    "for i in range(len(y)): \n",
    "        results.append((y[i]['name'],y[i]['formatted_address'],y[i]['geometry']['location']))\n",
    "'''"
   ]
  },
  {
   "cell_type": "code",
   "execution_count": 10,
   "metadata": {},
   "outputs": [],
   "source": [
    "#location=-33.8670522,151.1957362&radius=1500&type=restaurant&keyword=cruise&key=YOUR_API_KEY"
   ]
  },
  {
   "cell_type": "code",
   "execution_count": 12,
   "metadata": {},
   "outputs": [],
   "source": [
    "#query = \"{}location={},{}&radius={}&type={}&keyword=cruise&key={api_key}\".format(url,lat,long,radius,what,api_key)"
   ]
  },
  {
   "cell_type": "code",
   "execution_count": 48,
   "metadata": {},
   "outputs": [],
   "source": [
    "def search_places_by_coordinate(location, radius, keyword):\n",
    "        url = \"https://maps.googleapis.com/maps/api/place/nearbysearch/json\"\n",
    "        places = []\n",
    "        params = {\n",
    "            'location': location,\n",
    "            'radius': radius,\n",
    "            'keyword': keyword,\n",
    "            'key': os.getenv(\"API_KEY\")\n",
    "        }\n",
    "        res = requests.get(url, params = params)\n",
    "        results =  json.loads(res.content)\n",
    "        places.extend(results['results'])\n",
    "        while \"next_page_token\" in results:\n",
    "            params['pagetoken'] = results['next_page_token'],\n",
    "            res = requests.get(url, params = params)\n",
    "            results = json.loads(res.content)\n",
    "            places.extend(results['results'])\n",
    "        return places"
   ]
  },
  {
   "cell_type": "code",
   "execution_count": 56,
   "metadata": {},
   "outputs": [],
   "source": [
    "results=[]\n",
    "for i in lista[:2]:    \n",
    "    results.append(search_places_by_coordinate(i, \"1000\", \"starbucks\"))"
   ]
  },
  {
   "cell_type": "code",
   "execution_count": 71,
   "metadata": {},
   "outputs": [
    {
     "data": {
      "text/plain": [
       "[{'geometry': {'location': {'lat': 40.7567274, 'lng': -73.9858802},\n",
       "   'viewport': {'northeast': {'lat': 40.75799997989272,\n",
       "     'lng': -73.98462552010727},\n",
       "    'southwest': {'lat': 40.75530032010727, 'lng': -73.98732517989272}}},\n",
       "  'icon': 'https://maps.gstatic.com/mapfiles/place_api/icons/cafe-71.png',\n",
       "  'id': '0670c3bc090a1e37682bc6822528b0fc0686363b',\n",
       "  'name': 'Starbucks',\n",
       "  'opening_hours': {'open_now': True},\n",
       "  'photos': [{'height': 2208,\n",
       "    'html_attributions': ['<a href=\"https://maps.google.com/maps/contrib/108050226750304510254/photos\">Triple V</a>'],\n",
       "    'photo_reference': 'CmRaAAAAAgraKoAho2hLEOUO8rz38F8q4wxJRcfcmSdn054V4R7kzV-0sXwA3MRVqSoIodQtRtiBwrD9KnnX92JxRPf8GgBmRiybOqxfwGIclGYe0UZEtTvMqi76A2KhsJFJxF6CEhA6iLHYyNttmr0_C9HFLsvZGhRjIqor13PO3tjV9v9onoZlUzEtxw',\n",
       "    'width': 1242}],\n",
       "  'place_id': 'ChIJs7xxIFVYwokRGt4Tw5wSx1w',\n",
       "  'plus_code': {'compound_code': 'Q247+MJ New York, United States',\n",
       "   'global_code': '87G8Q247+MJ'},\n",
       "  'price_level': 2,\n",
       "  'rating': 4,\n",
       "  'reference': 'ChIJs7xxIFVYwokRGt4Tw5wSx1w',\n",
       "  'scope': 'GOOGLE',\n",
       "  'types': ['cafe', 'food', 'point_of_interest', 'store', 'establishment'],\n",
       "  'user_ratings_total': 1444,\n",
       "  'vicinity': '1500 Broadway, New York'},\n",
       " {'geometry': {'location': {'lat': 40.75766, 'lng': -73.98508},\n",
       "   'viewport': {'northeast': {'lat': 40.75904737989272,\n",
       "     'lng': -73.98370282010728},\n",
       "    'southwest': {'lat': 40.75634772010728, 'lng': -73.98640247989273}}},\n",
       "  'icon': 'https://maps.gstatic.com/mapfiles/place_api/icons/cafe-71.png',\n",
       "  'id': 'ed2f9bed541a53eb22d29f06c75765252bd1cf73',\n",
       "  'name': 'Starbucks',\n",
       "  'opening_hours': {'open_now': True},\n",
       "  'photos': [{'height': 5312,\n",
       "    'html_attributions': ['<a href=\"https://maps.google.com/maps/contrib/111155023532257437204/photos\">World Citizen</a>'],\n",
       "    'photo_reference': 'CmRaAAAAgnd5Jb8mPnUSuSIZSHrS5oZCViTNcjVmRCgKaSQBmz1eCvq82y5KE1coyXherdjMtdCoADEPmwMiJP2K38bFaarZdma_5J8VgEA8VXp0Sgko07pqXGJzRuHL76ctehL-EhCk16pJ2qdeZ8DECkUGxhcKGhRA-3vd8zunnptmGw3UkhWVw4YWOA',\n",
       "    'width': 2988}],\n",
       "  'place_id': 'ChIJEX2NUFRYwokR_VZ_Wb8sTUc',\n",
       "  'plus_code': {'compound_code': 'Q257+3X New York, United States',\n",
       "   'global_code': '87G8Q257+3X'},\n",
       "  'price_level': 2,\n",
       "  'rating': 4.2,\n",
       "  'reference': 'ChIJEX2NUFRYwokR_VZ_Wb8sTUc',\n",
       "  'scope': 'GOOGLE',\n",
       "  'types': ['cafe', 'food', 'point_of_interest', 'store', 'establishment'],\n",
       "  'user_ratings_total': 198,\n",
       "  'vicinity': '152 W 45th St, New York'},\n",
       " {'geometry': {'location': {'lat': 40.759636, 'lng': -73.985222},\n",
       "   'viewport': {'northeast': {'lat': 40.76096017989272,\n",
       "     'lng': -73.98392927010728},\n",
       "    'southwest': {'lat': 40.75826052010728, 'lng': -73.98662892989272}}},\n",
       "  'icon': 'https://maps.gstatic.com/mapfiles/place_api/icons/cafe-71.png',\n",
       "  'id': '6604cc2fe776b211badfb6e6d725c3b3393b83e9',\n",
       "  'name': 'Starbucks Reserve',\n",
       "  'opening_hours': {'open_now': True},\n",
       "  'photos': [{'height': 3024,\n",
       "    'html_attributions': ['<a href=\"https://maps.google.com/maps/contrib/118363974303955232335/photos\">Rahul Gupta</a>'],\n",
       "    'photo_reference': 'CmRaAAAAcHm6qZISRfiR2Wsh1mtsKg6-ilERxDjZHHtpJBCBvrbytL1ZHk0eUycyVl2OcXJ8JWpL6jfuIiCDRPsgvxd3Dp6-RoGe6bnLFB0mGcKbWbpeiW2JxzRn1bF2AvBsD_F2EhCx6nrkMHp4KO32DVAduT92GhTTCwNlTBdctE8qS8YzSvq3fjHuXg',\n",
       "    'width': 4032}],\n",
       "  'place_id': 'ChIJRyw3xVVYwokRDnlnLn1JH7A',\n",
       "  'plus_code': {'compound_code': 'Q257+VW New York, United States',\n",
       "   'global_code': '87G8Q257+VW'},\n",
       "  'price_level': 2,\n",
       "  'rating': 4,\n",
       "  'reference': 'ChIJRyw3xVVYwokRDnlnLn1JH7A',\n",
       "  'scope': 'GOOGLE',\n",
       "  'types': ['cafe', 'food', 'point_of_interest', 'store', 'establishment'],\n",
       "  'user_ratings_total': 878,\n",
       "  'vicinity': '1585 Broadway, New York'},\n",
       " {'geometry': {'location': {'lat': 40.7637143, 'lng': -73.98531299999999},\n",
       "   'viewport': {'northeast': {'lat': 40.76502602989272,\n",
       "     'lng': -73.98386972010728},\n",
       "    'southwest': {'lat': 40.76232637010728, 'lng': -73.98656937989273}}},\n",
       "  'icon': 'https://maps.gstatic.com/mapfiles/place_api/icons/cafe-71.png',\n",
       "  'id': '3dd96dc6e041d3617573df36a5457525088ee026',\n",
       "  'name': 'Starbucks',\n",
       "  'opening_hours': {'open_now': True},\n",
       "  'photos': [{'height': 2560,\n",
       "    'html_attributions': ['<a href=\"https://maps.google.com/maps/contrib/115794290389426937624/photos\">pascale PELLIZZARO</a>'],\n",
       "    'photo_reference': 'CmRaAAAARoN61lgmEKYK51H3Ckt0pawCPG8Tj-h15kAIStV1z_za-0AbLCkIaSGPOqZVMfNKmhu9_b5zKcAxtsccuOmImvEsFmmMu-2ZZ5pbwuVyuMIduTTL1ywhPZh-xcRnoLBbEhDO3U7jYsC0A5holC_cjuqdGhRsTSeQVyGy3gsYKTiz5Bb_yDb1Mg',\n",
       "    'width': 1440}],\n",
       "  'place_id': 'ChIJNZ2RpldYwokRFkZTMvzLazM',\n",
       "  'plus_code': {'compound_code': 'Q277+FV New York, United States',\n",
       "   'global_code': '87G8Q277+FV'},\n",
       "  'price_level': 2,\n",
       "  'rating': 4,\n",
       "  'reference': 'ChIJNZ2RpldYwokRFkZTMvzLazM',\n",
       "  'scope': 'GOOGLE',\n",
       "  'types': ['cafe', 'food', 'point_of_interest', 'store', 'establishment'],\n",
       "  'user_ratings_total': 329,\n",
       "  'vicinity': '871 8th Ave, New York'},\n",
       " {'geometry': {'location': {'lat': 40.762192, 'lng': -73.98753500000001},\n",
       "   'viewport': {'northeast': {'lat': 40.76334632989273,\n",
       "     'lng': -73.98583957010729},\n",
       "    'southwest': {'lat': 40.76064667010728, 'lng': -73.98853922989274}}},\n",
       "  'icon': 'https://maps.gstatic.com/mapfiles/place_api/icons/cafe-71.png',\n",
       "  'id': '5c55c74e5a3b466b77e118075d88652ca8eff51e',\n",
       "  'name': 'Starbucks',\n",
       "  'opening_hours': {'open_now': True},\n",
       "  'photos': [{'height': 1365,\n",
       "    'html_attributions': ['<a href=\"https://maps.google.com/maps/contrib/104899010890076471774/photos\">דניאלה דן</a>'],\n",
       "    'photo_reference': 'CmRaAAAAPP83BA-LFiVldteT6TUB0lWBeLU6iknp5tkm-P2LpRjXgTZmjwChEzUs2vdxm9Izuhcjly49XfXlBGa-hq7b2a_z_dG2JcNuzdqLefhXpkxpryORpWU2yyVs-5P1fJfdEhAAm_jbTPzaoU_51H0svNG1GhSn_Ww4g--o-g8VF2SV-weM1TgtRA',\n",
       "    'width': 1125}],\n",
       "  'place_id': 'ChIJSUxHwVZYwokRXFyQi9V71Xw',\n",
       "  'plus_code': {'compound_code': 'Q266+VX New York, United States',\n",
       "   'global_code': '87G8Q266+VX'},\n",
       "  'price_level': 2,\n",
       "  'rating': 4,\n",
       "  'reference': 'ChIJSUxHwVZYwokRXFyQi9V71Xw',\n",
       "  'scope': 'GOOGLE',\n",
       "  'types': ['cafe', 'food', 'point_of_interest', 'store', 'establishment'],\n",
       "  'user_ratings_total': 332,\n",
       "  'vicinity': '325 W 49th St, New York'},\n",
       " {'geometry': {'location': {'lat': 40.7580006, 'lng': -73.989035},\n",
       "   'viewport': {'northeast': {'lat': 40.75938237989272,\n",
       "     'lng': -73.98776077010727},\n",
       "    'southwest': {'lat': 40.75668272010727, 'lng': -73.99046042989272}}},\n",
       "  'icon': 'https://maps.gstatic.com/mapfiles/place_api/icons/cafe-71.png',\n",
       "  'id': 'a8a4ddd7f25907809313a1646f620d1ed8eb3125',\n",
       "  'name': 'Starbucks',\n",
       "  'opening_hours': {'open_now': True},\n",
       "  'photos': [{'height': 4032,\n",
       "    'html_attributions': ['<a href=\"https://maps.google.com/maps/contrib/117490607693266482575/photos\">David W</a>'],\n",
       "    'photo_reference': 'CmRaAAAAfj0MmIu6iK47E42mgh67i_WnRELNRL_H9LDKIytzwRF5Pnqh2I3wljhv0zAwQhz-UVlraK7ufQtHHe3yE8PFgCfN8_kQ3WQdfaukSjNApBRVpN4WjjT2o9ejBIsqJaYcEhBqH3mDNF7z77BoR4qW8XGhGhTNH--Euo0E6Pp1GzHsBWVy7E-DXA',\n",
       "    'width': 2268}],\n",
       "  'place_id': 'ChIJY5u8fVNYwokRT_Q6N6fwHW8',\n",
       "  'plus_code': {'compound_code': 'Q256+69 New York, United States',\n",
       "   'global_code': '87G8Q256+69'},\n",
       "  'price_level': 2,\n",
       "  'rating': 3.8,\n",
       "  'reference': 'ChIJY5u8fVNYwokRT_Q6N6fwHW8',\n",
       "  'scope': 'GOOGLE',\n",
       "  'types': ['cafe', 'food', 'point_of_interest', 'store', 'establishment'],\n",
       "  'user_ratings_total': 565,\n",
       "  'vicinity': '684 8th Ave, New York'},\n",
       " {'geometry': {'location': {'lat': 40.757079, 'lng': -73.981163},\n",
       "   'viewport': {'northeast': {'lat': 40.75837362989272,\n",
       "     'lng': -73.97985352010727},\n",
       "    'southwest': {'lat': 40.75567397010727, 'lng': -73.98255317989272}}},\n",
       "  'icon': 'https://maps.gstatic.com/mapfiles/place_api/icons/cafe-71.png',\n",
       "  'id': 'cb09dacf6594c438c81f0553a56e27480123e2ff',\n",
       "  'name': 'Starbucks',\n",
       "  'opening_hours': {'open_now': True},\n",
       "  'photos': [{'height': 2163,\n",
       "    'html_attributions': ['<a href=\"https://maps.google.com/maps/contrib/117490607693266482575/photos\">David W</a>'],\n",
       "    'photo_reference': 'CmRaAAAAtM45Ezhmrr6y7WgtDDmrj8vuO0ZHRqxRLsJC_0J75Tb6cKKW17BHx0Py1cIOlpiC2RNoCi48J2HMwpbymvzc1RJ4AkDA-CsaUq7MLzGJrNXSKmucM69GTFRPe4NvnJe5EhD6Q2BrmRdc3sHgwwrW1Ff3GhTC72kRauy0e2LOJDgmdZvr4YMT0Q',\n",
       "    'width': 2844}],\n",
       "  'place_id': 'ChIJ9_x5pv9YwokR2gDe8OCtf-s',\n",
       "  'plus_code': {'compound_code': 'Q249+RG New York, United States',\n",
       "   'global_code': '87G8Q249+RG'},\n",
       "  'price_level': 2,\n",
       "  'rating': 3.3,\n",
       "  'reference': 'ChIJ9_x5pv9YwokR2gDe8OCtf-s',\n",
       "  'scope': 'GOOGLE',\n",
       "  'types': ['cafe', 'food', 'point_of_interest', 'store', 'establishment'],\n",
       "  'user_ratings_total': 54,\n",
       "  'vicinity': '55 W 46th St, New York'},\n",
       " {'geometry': {'location': {'lat': 40.754361, 'lng': -73.987257},\n",
       "   'viewport': {'northeast': {'lat': 40.75567957989271,\n",
       "     'lng': -73.98573622010727},\n",
       "    'southwest': {'lat': 40.75297992010727, 'lng': -73.98843587989272}}},\n",
       "  'icon': 'https://maps.gstatic.com/mapfiles/place_api/icons/cafe-71.png',\n",
       "  'id': '42d8d760376922f5818bf378b81ec999e286dba6',\n",
       "  'name': 'Starbucks',\n",
       "  'opening_hours': {'open_now': True},\n",
       "  'photos': [{'height': 2048,\n",
       "    'html_attributions': ['<a href=\"https://maps.google.com/maps/contrib/112704044109083241514/photos\">Arta Neilande</a>'],\n",
       "    'photo_reference': 'CmRaAAAAtv16nenFSYExUzeLHjkc7fB6SSKuBtgdOSnng6nstohxFRmA1TCgz2FjCOukHwJpNM1nyxSKSAJ6GYIsBRsSKOE_GrrJVBZCNHh_vKTKEyhCbHW2G5QJ7OPqhUUFNxqCEhDfjy0GZCAKlGAnz4uphCNUGhTpkDyZ2qdZw4hvcjDjO8mfmJ0YGg',\n",
       "    'width': 1536}],\n",
       "  'place_id': 'ChIJRX23FatZwokRSA4n7tp75Tw',\n",
       "  'plus_code': {'compound_code': 'Q237+P3 New York, United States',\n",
       "   'global_code': '87G8Q237+P3'},\n",
       "  'price_level': 2,\n",
       "  'rating': 3.9,\n",
       "  'reference': 'ChIJRX23FatZwokRSA4n7tp75Tw',\n",
       "  'scope': 'GOOGLE',\n",
       "  'types': ['cafe', 'food', 'point_of_interest', 'store', 'establishment'],\n",
       "  'user_ratings_total': 732,\n",
       "  'vicinity': '1411 Broadway, New York'},\n",
       " {'geometry': {'location': {'lat': 40.755344, 'lng': -73.990935},\n",
       "   'viewport': {'northeast': {'lat': 40.75664952989272,\n",
       "     'lng': -73.98961772010728},\n",
       "    'southwest': {'lat': 40.75394987010728, 'lng': -73.99231737989273}}},\n",
       "  'icon': 'https://maps.gstatic.com/mapfiles/place_api/icons/cafe-71.png',\n",
       "  'id': '76b00180c2fece1ffd688c87449a0938e1f167b3',\n",
       "  'name': 'Starbucks',\n",
       "  'opening_hours': {'open_now': True},\n",
       "  'photos': [{'height': 4032,\n",
       "    'html_attributions': ['<a href=\"https://maps.google.com/maps/contrib/103526902922087095088/photos\">Jenny Wu</a>'],\n",
       "    'photo_reference': 'CmRZAAAA5A6Stnfj1GSLbdfbNbo4sjwtp81l1d3mGb4H9vn9T2hKSNdguDBt2ZqUHdft2XSclOXxK42hbt93p7tY2kyId4Zjy-ZvNUI-zFHhIJZKKy1RAD5djdd0RZWJo0YPXVM6EhDSY94gePg7u6IOFqLK-gxnGhTtpg7ErZfabNJ-fc1stBAUOS3wGw',\n",
       "    'width': 3024}],\n",
       "  'place_id': 'ChIJwaKHxKxZwokR4uwyzbbSZ_s',\n",
       "  'plus_code': {'compound_code': 'Q245+4J New York, United States',\n",
       "   'global_code': '87G8Q245+4J'},\n",
       "  'price_level': 2,\n",
       "  'rating': 3.8,\n",
       "  'reference': 'ChIJwaKHxKxZwokR4uwyzbbSZ_s',\n",
       "  'scope': 'GOOGLE',\n",
       "  'types': ['cafe', 'food', 'point_of_interest', 'store', 'establishment'],\n",
       "  'user_ratings_total': 876,\n",
       "  'vicinity': '600 Eighth Ave, New York'},\n",
       " {'geometry': {'location': {'lat': 40.7607368, 'lng': -73.9837823},\n",
       "   'viewport': {'northeast': {'lat': 40.76203422989272,\n",
       "     'lng': -73.98233957010727},\n",
       "    'southwest': {'lat': 40.75933457010727, 'lng': -73.9850392298927}}},\n",
       "  'icon': 'https://maps.gstatic.com/mapfiles/place_api/icons/cafe-71.png',\n",
       "  'id': 'ce38a273f1e967cc1a189c7f36b690c8a9f08b9c',\n",
       "  'name': 'Starbucks',\n",
       "  'opening_hours': {'open_now': True},\n",
       "  'photos': [{'height': 464,\n",
       "    'html_attributions': ['<a href=\"https://maps.google.com/maps/contrib/113699824568708807678/photos\">A Google User</a>'],\n",
       "    'photo_reference': 'CmRaAAAAByHSaNMWuHPGdwC9W5Zfe3Oduc8DGo8GZ3UWkpmX662VpVr_rG7oj0pufsRb3Al6CSDedlBx8OWZIftscB1U5ubLrPSbCgf8XgKeyhDHMEmwOFQjo4IOeE1g9X7X7-srEhDYIOrmnxv9eb62F3cw4RLVGhTM1AnzXRqu6B9RFi8VAMJ3FWUoWg',\n",
       "    'width': 620}],\n",
       "  'place_id': 'ChIJQ2BPG1ZYwokRoFD8_gpVfN4',\n",
       "  'plus_code': {'compound_code': 'Q268+7F New York, United States',\n",
       "   'global_code': '87G8Q268+7F'},\n",
       "  'price_level': 2,\n",
       "  'rating': 4,\n",
       "  'reference': 'ChIJQ2BPG1ZYwokRoFD8_gpVfN4',\n",
       "  'scope': 'GOOGLE',\n",
       "  'types': ['cafe', 'food', 'point_of_interest', 'store', 'establishment'],\n",
       "  'user_ratings_total': 340,\n",
       "  'vicinity': '750 7th Ave, New York'},\n",
       " {'geometry': {'location': {'lat': 40.7590205, 'lng': -73.9924826},\n",
       "   'viewport': {'northeast': {'lat': 40.76031642989272,\n",
       "     'lng': -73.99103837010728},\n",
       "    'southwest': {'lat': 40.75761677010728, 'lng': -73.99373802989273}}},\n",
       "  'icon': 'https://maps.gstatic.com/mapfiles/place_api/icons/cafe-71.png',\n",
       "  'id': '530993d90be2c4fdf81437a19404260f973541a6',\n",
       "  'name': 'Starbucks',\n",
       "  'opening_hours': {'open_now': True},\n",
       "  'photos': [{'height': 4160,\n",
       "    'html_attributions': ['<a href=\"https://maps.google.com/maps/contrib/100601153882306131100/photos\">Juan Israel Ortiz</a>'],\n",
       "    'photo_reference': 'CmRaAAAA8FYt2r0PP5ZXcPyOd3VITtnBR-pdtv5LsFv4LdFuftx_1aDFFGRXqPr3uWDxyPH9tV7e-CUgU7tKBngy8U4EfSlxLZg9z4SD8ySabIzLfrGC0SMawGsnNWIK9IXyTtX1EhCD7jqn-2wLKKIYVPCq8S6VGhS6XwpqbxnzP-dPS07Hyhw91DVpvw',\n",
       "    'width': 3120}],\n",
       "  'place_id': 'ChIJb5b8V1JYwokRznwmG7jK7bI',\n",
       "  'plus_code': {'compound_code': 'Q255+J2 New York, United States',\n",
       "   'global_code': '87G8Q255+J2'},\n",
       "  'price_level': 2,\n",
       "  'rating': 3.9,\n",
       "  'reference': 'ChIJb5b8V1JYwokRznwmG7jK7bI',\n",
       "  'scope': 'GOOGLE',\n",
       "  'types': ['cafe', 'food', 'point_of_interest', 'store', 'establishment'],\n",
       "  'user_ratings_total': 473,\n",
       "  'vicinity': '593 9th Ave, New York'},\n",
       " {'geometry': {'location': {'lat': 40.75312599999999, 'lng': -73.985083},\n",
       "   'viewport': {'northeast': {'lat': 40.75451687989271,\n",
       "     'lng': -73.98382972010728},\n",
       "    'southwest': {'lat': 40.75181722010727, 'lng': -73.98652937989272}}},\n",
       "  'icon': 'https://maps.gstatic.com/mapfiles/place_api/icons/cafe-71.png',\n",
       "  'id': 'b743c063b54960d8daa8ca18e160f0a44b25a0fc',\n",
       "  'name': 'Starbucks',\n",
       "  'opening_hours': {'open_now': True},\n",
       "  'photos': [{'height': 794,\n",
       "    'html_attributions': ['<a href=\"https://maps.google.com/maps/contrib/114947915665747227101/photos\">Starbucks</a>'],\n",
       "    'photo_reference': 'CmRaAAAAFpQSwxI7tourNzKzjFo9eGCk9rAoaMbPm4TNJzW_GrMlrYrLz6tRePtonukuBBRZRA0VH370TXSFkgaDlU0e863RmaMqXYwM6K3AGGRvvWjfTMvYMI7Aq9RGXPah7hZSEhBEgnuYpnzT3zjVXayQJMGwGhRZqrEQ27sLl9h60ocK-J6VbXXTCA',\n",
       "    'width': 1415}],\n",
       "  'place_id': 'ChIJy6py96pZwokRUwo8M9BbVtU',\n",
       "  'plus_code': {'compound_code': 'Q237+7X New York, United States',\n",
       "   'global_code': '87G8Q237+7X'},\n",
       "  'price_level': 2,\n",
       "  'rating': 3.6,\n",
       "  'reference': 'ChIJy6py96pZwokRUwo8M9BbVtU',\n",
       "  'scope': 'GOOGLE',\n",
       "  'types': ['cafe', 'food', 'point_of_interest', 'store', 'establishment'],\n",
       "  'user_ratings_total': 174,\n",
       "  'vicinity': '1040 6th Ave, New York'},\n",
       " {'geometry': {'location': {'lat': 40.761789, 'lng': -73.979674},\n",
       "   'viewport': {'northeast': {'lat': 40.76303967989273,\n",
       "     'lng': -73.97808242010728},\n",
       "    'southwest': {'lat': 40.76034002010728, 'lng': -73.98078207989272}}},\n",
       "  'icon': 'https://maps.gstatic.com/mapfiles/place_api/icons/cafe-71.png',\n",
       "  'id': 'd99bd338ebe3555cc8852271893cf4b7f4c72655',\n",
       "  'name': 'Starbucks Coffee',\n",
       "  'opening_hours': {'open_now': True},\n",
       "  'photos': [{'height': 4032,\n",
       "    'html_attributions': ['<a href=\"https://maps.google.com/maps/contrib/117490607693266482575/photos\">David W</a>'],\n",
       "    'photo_reference': 'CmRaAAAAnHwSFSYHTj3WsY4QnY6oa2qaZmasRW0Vbt0Z3_xLqbgmChUlAW_9v-YMNoGS-G9KC4X5oq0jTern53xXNeLtzRrav58EidyV4kGX3duZ2JIBEwT9tD8rBy-m8mLwy6lZEhBZ3hiI52yMKxPyIEozFDc2GhStBGbwWJGrVYSnpo8gKD2SAE7gQg',\n",
       "    'width': 2268}],\n",
       "  'place_id': 'ChIJgTYbjfhYwokRSxprQ460Qag',\n",
       "  'plus_code': {'compound_code': 'Q26C+P4 New York, United States',\n",
       "   'global_code': '87G8Q26C+P4'},\n",
       "  'price_level': 2,\n",
       "  'rating': 3.5,\n",
       "  'reference': 'ChIJgTYbjfhYwokRSxprQ460Qag',\n",
       "  'scope': 'GOOGLE',\n",
       "  'types': ['cafe', 'food', 'point_of_interest', 'store', 'establishment'],\n",
       "  'user_ratings_total': 144,\n",
       "  'vicinity': '1301 6th Ave, New York'},\n",
       " {'geometry': {'location': {'lat': 40.758048, 'lng': -73.992153},\n",
       "   'viewport': {'northeast': {'lat': 40.75946892989271,\n",
       "     'lng': -73.99074912010727},\n",
       "    'southwest': {'lat': 40.75676927010727, 'lng': -73.99344877989272}}},\n",
       "  'icon': 'https://maps.gstatic.com/mapfiles/place_api/icons/cafe-71.png',\n",
       "  'id': 'ce8f1a55be71bfc007aad95072da8c755233e7ff',\n",
       "  'name': 'Starbucks',\n",
       "  'opening_hours': {'open_now': True},\n",
       "  'photos': [{'height': 3648,\n",
       "    'html_attributions': ['<a href=\"https://maps.google.com/maps/contrib/109511275871985632864/photos\">Flavio Natali</a>'],\n",
       "    'photo_reference': 'CmRaAAAAM-Vrz8lWyxWTXlWcTfMLglDnyVub-DgFbjkjTlAnukXdTQrcb8ODD6MOX9D7y9KEg1d59wDuFKkVUH-W20OTkBeJ1hKRn0BGNJqFaGtclz81Jbp1C8wY20115mydFLJoEhBrangvYujyKuD-T4qm1VecGhTcCohtXu9V45P9LAhKmxT-HM0Jxg',\n",
       "    'width': 2736}],\n",
       "  'place_id': 'ChIJj8aoqKlZwokRIQIMy3kvB9Q',\n",
       "  'plus_code': {'compound_code': 'Q255+64 New York, United States',\n",
       "   'global_code': '87G8Q255+64'},\n",
       "  'price_level': 2,\n",
       "  'rating': 3.9,\n",
       "  'reference': 'ChIJj8aoqKlZwokRIQIMy3kvB9Q',\n",
       "  'scope': 'GOOGLE',\n",
       "  'types': ['cafe', 'food', 'point_of_interest', 'store', 'establishment'],\n",
       "  'user_ratings_total': 261,\n",
       "  'vicinity': '350 W 42nd St, New York'},\n",
       " {'geometry': {'location': {'lat': 40.756425, 'lng': -73.978301},\n",
       "   'viewport': {'northeast': {'lat': 40.75784487989272,\n",
       "     'lng': -73.97711722010729},\n",
       "    'southwest': {'lat': 40.75514522010728, 'lng': -73.97981687989274}}},\n",
       "  'icon': 'https://maps.gstatic.com/mapfiles/place_api/icons/cafe-71.png',\n",
       "  'id': '7e42bc386b69d60d2e2ce59c7cb2beb2caf2f2a0',\n",
       "  'name': 'Starbucks',\n",
       "  'opening_hours': {'open_now': True},\n",
       "  'photos': [{'height': 4032,\n",
       "    'html_attributions': ['<a href=\"https://maps.google.com/maps/contrib/117768608905090782733/photos\">anthony gopar</a>'],\n",
       "    'photo_reference': 'CmRaAAAA6VwC5OSOkTq43dJAz8BY8EButAby-FvldTD-jBAtAKHP25-u4cb-3z1RmjhJ-KgL_uCAEN2ZTWNUToOD-_02zz5v0EC0p2eHahfbNKfVdtTFzP8EvN2eu73rRRVhHGdtEhCO2VkyQSvL_m3LNxKUAe2aGhQwTlnbdYObi56v9wiZMD_jgrt3OQ',\n",
       "    'width': 2841}],\n",
       "  'place_id': 'ChIJH7uQZ_5YwokRnoB9R_G2X08',\n",
       "  'plus_code': {'compound_code': 'Q24C+HM New York, United States',\n",
       "   'global_code': '87G8Q24C+HM'},\n",
       "  'price_level': 2,\n",
       "  'rating': 3.8,\n",
       "  'reference': 'ChIJH7uQZ_5YwokRnoB9R_G2X08',\n",
       "  'scope': 'GOOGLE',\n",
       "  'types': ['cafe', 'food', 'point_of_interest', 'store', 'establishment'],\n",
       "  'user_ratings_total': 217,\n",
       "  'vicinity': '575 5th Ave, New York'},\n",
       " {'geometry': {'location': {'lat': 40.760489, 'lng': -73.987177},\n",
       "   'viewport': {'northeast': {'lat': 40.76187307989272,\n",
       "     'lng': -73.98591142010727},\n",
       "    'southwest': {'lat': 40.75917342010728, 'lng': -73.98861107989272}}},\n",
       "  'icon': 'https://maps.gstatic.com/mapfiles/place_api/icons/cafe-71.png',\n",
       "  'id': '4f028a84c46f2f876aade792ecb558821489f4f4',\n",
       "  'name': 'Starbucks',\n",
       "  'opening_hours': {'open_now': True},\n",
       "  'photos': [{'height': 4032,\n",
       "    'html_attributions': ['<a href=\"https://maps.google.com/maps/contrib/109104673503451209616/photos\">Vladas Portapas</a>'],\n",
       "    'photo_reference': 'CmRaAAAA6DDg3g4kAskOVPJvpdn8TF5Tb5a4JhCu2KTQ-iKaNu8yqYmt5K4qF_FaWRHJQCVOlQabxW6duA8Bkn9fMIRIcfE0nOr7Es7nzU6t7FCb5K7J46HJzc40Fz3qwE_MKE3wEhCasKMo1yln_Vya1BW_m7QDGhTe9jryFnJcKsnfvxnvwrrDMpRIHQ',\n",
       "    'width': 3024}],\n",
       "  'place_id': 'ChIJ1XCdIFRYwokR-nZFfodMLeE',\n",
       "  'plus_code': {'compound_code': 'Q267+54 New York, United States',\n",
       "   'global_code': '87G8Q267+54'},\n",
       "  'price_level': 2,\n",
       "  'rating': 3.6,\n",
       "  'reference': 'ChIJ1XCdIFRYwokR-nZFfodMLeE',\n",
       "  'scope': 'GOOGLE',\n",
       "  'types': ['cafe', 'food', 'point_of_interest', 'store', 'establishment'],\n",
       "  'user_ratings_total': 311,\n",
       "  'vicinity': '770 8th Ave, New York'},\n",
       " {'geometry': {'location': {'lat': 40.753901, 'lng': -73.97869299999999},\n",
       "   'viewport': {'northeast': {'lat': 40.75521642989272,\n",
       "     'lng': -73.97725987010728},\n",
       "    'southwest': {'lat': 40.75251677010728, 'lng': -73.97995952989272}}},\n",
       "  'icon': 'https://maps.gstatic.com/mapfiles/place_api/icons/cafe-71.png',\n",
       "  'id': '4e060e80451a09d7dab6abaf7a178bd7e8a37941',\n",
       "  'name': 'Starbucks',\n",
       "  'opening_hours': {'open_now': True},\n",
       "  'photos': [{'height': 289,\n",
       "    'html_attributions': ['<a href=\"https://maps.google.com/maps/contrib/109608189168950489200/photos\">Starbucks</a>'],\n",
       "    'photo_reference': 'CmRZAAAAGm_AaaAO80WFm2vQMVKXiffWhwU25P6mWwxzWKxPelCtHOeGIT4pwukp7o3iSACMvy9A79GuF1h27kxNUoJWD1sKpSYn7HYvHdlhQ8qkrFAL0sjAPh49zIKwV4pnAlH2EhBx4ncB82n0jnFq-u_TLLosGhR3qGF5WXZNU1MeuGyFg0xWyP4fUg',\n",
       "    'width': 512}],\n",
       "  'place_id': 'ChIJdXkh3QFZwokRTgOyQNhX4Aw',\n",
       "  'plus_code': {'compound_code': 'Q23C+HG New York, United States',\n",
       "   'global_code': '87G8Q23C+HG'},\n",
       "  'price_level': 2,\n",
       "  'rating': 4.2,\n",
       "  'reference': 'ChIJdXkh3QFZwokRTgOyQNhX4Aw',\n",
       "  'scope': 'GOOGLE',\n",
       "  'types': ['cafe', 'food', 'point_of_interest', 'store', 'establishment'],\n",
       "  'user_ratings_total': 72,\n",
       "  'vicinity': '340 Madison Ave, New York'},\n",
       " {'geometry': {'location': {'lat': 40.758856, 'lng': -73.978954},\n",
       "   'viewport': {'northeast': {'lat': 40.76029432989272,\n",
       "     'lng': -73.97743567010728},\n",
       "    'southwest': {'lat': 40.75759467010728, 'lng': -73.98013532989273}}},\n",
       "  'icon': 'https://maps.gstatic.com/mapfiles/place_api/icons/cafe-71.png',\n",
       "  'id': 'c82fe17adb80e1f594d7e81d4b060ebed26026ab',\n",
       "  'name': 'Starbucks',\n",
       "  'opening_hours': {'open_now': True},\n",
       "  'photos': [{'height': 598,\n",
       "    'html_attributions': ['<a href=\"https://maps.google.com/maps/contrib/101252863910301415519/photos\">A Google User</a>'],\n",
       "    'photo_reference': 'CmRaAAAAOB6QnkqzwZmfZNNFmdlLkvCWcHasoVHtqKUl1BjYRBBEzOqyEVuh7SXbfuZqGQQrTgw08OKFFQABKMNLGpHLs-cdL_3v6TvpMF95QeryAszQaXpFWi84NBgFt58GPAltEhDKCcMWRii2RKRUGe3Q_aKJGhQCIk8jxC7tXQNldFqPyTHqK3qIeQ',\n",
       "    'width': 446}],\n",
       "  'place_id': 'ChIJJWB5xf5YwokRfiJmohbV_OY',\n",
       "  'plus_code': {'compound_code': 'Q25C+GC New York, United States',\n",
       "   'global_code': '87G8Q25C+GC'},\n",
       "  'price_level': 2,\n",
       "  'rating': 3.5,\n",
       "  'reference': 'ChIJJWB5xf5YwokRfiJmohbV_OY',\n",
       "  'scope': 'GOOGLE',\n",
       "  'types': ['cafe', 'food', 'point_of_interest', 'store', 'establishment'],\n",
       "  'user_ratings_total': 301,\n",
       "  'vicinity': '30 Rockefeller Plaza, New York'},\n",
       " {'geometry': {'location': {'lat': 40.758117, 'lng': -73.98245},\n",
       "   'viewport': {'northeast': {'lat': 40.75934517989273,\n",
       "     'lng': -73.98083052010728},\n",
       "    'southwest': {'lat': 40.75664552010728, 'lng': -73.98353017989272}}},\n",
       "  'icon': 'https://maps.gstatic.com/mapfiles/place_api/icons/cafe-71.png',\n",
       "  'id': '40ed6438b646d83034d7d8e890c7c0011d46e2ee',\n",
       "  'name': 'Starbucks',\n",
       "  'opening_hours': {'open_now': True},\n",
       "  'photos': [{'height': 4032,\n",
       "    'html_attributions': ['<a href=\"https://maps.google.com/maps/contrib/114156946131106672793/photos\">aiwnia13pistos</a>'],\n",
       "    'photo_reference': 'CmRaAAAAEvqNtoli55x1K8rO-qmI2NLgV57Lt5oFWvUpBqfbgD3uo43V3Z77mqbFQEn4mtbQnwk8A4OOR92Nhg1BhwVzxqEukQhnIGS47qAFCuLLkuVc50KD6oaKWjFDGquJq3RnEhAz4q8N7QIPclQyYWv-DRVOGhSmZEJpb_TQuI0-Z8rPVNSFY_WCCQ',\n",
       "    'width': 3024}],\n",
       "  'place_id': 'ChIJnxcbcP9YwokRw-au5-lVA_o',\n",
       "  'plus_code': {'compound_code': 'Q259+62 New York, United States',\n",
       "   'global_code': '87G8Q259+62'},\n",
       "  'price_level': 2,\n",
       "  'rating': 4,\n",
       "  'reference': 'ChIJnxcbcP9YwokRw-au5-lVA_o',\n",
       "  'scope': 'GOOGLE',\n",
       "  'types': ['cafe', 'food', 'point_of_interest', 'store', 'establishment'],\n",
       "  'user_ratings_total': 170,\n",
       "  'vicinity': '1185 6th Ave, New York'},\n",
       " {'geometry': {'location': {'lat': 40.753668, 'lng': -73.988402},\n",
       "   'viewport': {'northeast': {'lat': 40.75506272989271,\n",
       "     'lng': -73.98715862010728},\n",
       "    'southwest': {'lat': 40.75236307010727, 'lng': -73.98985827989272}}},\n",
       "  'icon': 'https://maps.gstatic.com/mapfiles/place_api/icons/cafe-71.png',\n",
       "  'id': '2c67668cbaa95a74478b2477741e8cba01c8dd65',\n",
       "  'name': 'Starbucks',\n",
       "  'opening_hours': {'open_now': True},\n",
       "  'photos': [{'height': 5312,\n",
       "    'html_attributions': ['<a href=\"https://maps.google.com/maps/contrib/111506965811596297288/photos\">Fred Botha</a>'],\n",
       "    'photo_reference': 'CmRaAAAAAryPl_ta-0ZfieMp5aMytmrGvvVVgcsiaGTjJFvvbypPf0aCh4LEbhoS2DJpEtKmAo6MPvn6gd2mqNF3NuuaH1qVfeaXHdUa33ezYD-hb6qaKCHBvphu2cCwC-NtsHQ6EhC3evXUi7dLBhAOZlkpW6OwGhTdn9R7b0qa9SmUWMx4T1V8G-Rw-w',\n",
       "    'width': 2988}],\n",
       "  'place_id': 'ChIJUdnegKxZwokR6gLhDwxOyp4',\n",
       "  'plus_code': {'compound_code': 'Q236+FJ New York, United States',\n",
       "   'global_code': '87G8Q236+FJ'},\n",
       "  'price_level': 2,\n",
       "  'rating': 3.7,\n",
       "  'reference': 'ChIJUdnegKxZwokR6gLhDwxOyp4',\n",
       "  'scope': 'GOOGLE',\n",
       "  'types': ['cafe', 'food', 'point_of_interest', 'store', 'establishment'],\n",
       "  'user_ratings_total': 320,\n",
       "  'vicinity': '525 7th Ave, New York'}]"
      ]
     },
     "execution_count": 71,
     "metadata": {},
     "output_type": "execute_result"
    }
   ],
   "source": [
    "results[0]"
   ]
  },
  {
   "cell_type": "code",
   "execution_count": 67,
   "metadata": {},
   "outputs": [
    {
     "data": {
      "text/plain": [
       "40.7567274"
      ]
     },
     "execution_count": 67,
     "metadata": {},
     "output_type": "execute_result"
    }
   ],
   "source": [
    "results[0][0]['geometry']['location']['lat']"
   ]
  },
  {
   "cell_type": "code",
   "execution_count": 68,
   "metadata": {},
   "outputs": [
    {
     "data": {
      "text/plain": [
       "'Starbucks'"
      ]
     },
     "execution_count": 68,
     "metadata": {},
     "output_type": "execute_result"
    }
   ],
   "source": [
    "results[0][0]['name']"
   ]
  },
  {
   "cell_type": "code",
   "execution_count": null,
   "metadata": {},
   "outputs": [],
   "source": []
  },
  {
   "cell_type": "code",
   "execution_count": null,
   "metadata": {},
   "outputs": [],
   "source": [
    "def getLocation(comp):\n",
    "        name=comp[0]['name']\n",
    "        longitude = comp[0]['geometry']['lng']\n",
    "        latitude = comp[0]['geometry']['lat']\n",
    "        loc = {\n",
    "            'type':'Point',\n",
    "            'coordinates':[longitude,latitude]\n",
    "        }\n",
    "        return loc"
   ]
  },
  {
   "cell_type": "code",
   "execution_count": 31,
   "metadata": {},
   "outputs": [],
   "source": [
    "'''\n",
    "def requestAPI(lat,long,radius,what):\n",
    "    api_key = os.getenv(\"API_KEY\")\n",
    "    url = \"https://maps.googleapis.com/maps/api/place/nearbysearch/json?\"\n",
    "    query = \"{}location={},{}&radius={}&keyword={}&key={}\".format(url,lat,long,radius,what,api_key)\n",
    "    r = requests.get(query) \n",
    "    x = r.json() \n",
    "    y = x['results'] \n",
    "    results=[]\n",
    "    return results\n",
    "'''"
   ]
  },
  {
   "cell_type": "code",
   "execution_count": 16,
   "metadata": {},
   "outputs": [
    {
     "data": {
      "text/plain": [
       "{'_id': ObjectId('5dd05cc6754df22b96b8c84b'),\n",
       " 'Id': '52cdef7c4bab8bd675297f94',\n",
       " 'name': 'PeekYou',\n",
       " 'category': 'search',\n",
       " 'description': '',\n",
       " 'long': -73.985506,\n",
       " 'year': 2012,\n",
       " 'money_raised': '$1.83M',\n",
       " 'location': {'type': 'Point', 'coordinates': [-73.985506, 40.757929]},\n",
       " 'distance': 9.747111732704937}"
      ]
     },
     "execution_count": 16,
     "metadata": {},
     "output_type": "execute_result"
    }
   ],
   "source": [
    "business"
   ]
  },
  {
   "cell_type": "code",
   "execution_count": 14,
   "metadata": {},
   "outputs": [
    {
     "data": {
      "text/plain": [
       "-73.985506"
      ]
     },
     "execution_count": 14,
     "metadata": {},
     "output_type": "execute_result"
    }
   ],
   "source": [
    "#long\n",
    "business[0]['location']['coordinates'][0]"
   ]
  },
  {
   "cell_type": "code",
   "execution_count": 15,
   "metadata": {},
   "outputs": [
    {
     "data": {
      "text/plain": [
       "40.757929"
      ]
     },
     "execution_count": 15,
     "metadata": {},
     "output_type": "execute_result"
    }
   ],
   "source": [
    "#lat\n",
    "business[0]['location']['coordinates'][1]"
   ]
  },
  {
   "cell_type": "code",
   "execution_count": 21,
   "metadata": {},
   "outputs": [],
   "source": [
    "def getcoord(query, lat, long):\n",
    "    for que in query: \n",
    "        lat.append(que['location']['coordinates'][1])\n",
    "        long.append(que['location']['coordinates'][0])\n",
    "    return len(lat),len(long)      "
   ]
  },
  {
   "cell_type": "code",
   "execution_count": 22,
   "metadata": {},
   "outputs": [
    {
     "data": {
      "text/plain": [
       "(99, 99)"
      ]
     },
     "execution_count": 22,
     "metadata": {},
     "output_type": "execute_result"
    }
   ],
   "source": [
    "lat=[]\n",
    "long=[]\n",
    "getcoord(business,lat,long)"
   ]
  },
  {
   "cell_type": "code",
   "execution_count": 41,
   "metadata": {},
   "outputs": [],
   "source": [
    "lista=[]\n",
    "busines=list(zip(lat,long))"
   ]
  },
  {
   "cell_type": "code",
   "execution_count": 42,
   "metadata": {},
   "outputs": [],
   "source": [
    "for i in busines:\n",
    "    lista.append(\"{},{}\".format(i[0],i[1]))"
   ]
  },
  {
   "cell_type": "code",
   "execution_count": 35,
   "metadata": {},
   "outputs": [
    {
     "data": {
      "text/plain": [
       "[[], []]"
      ]
     },
     "execution_count": 35,
     "metadata": {},
     "output_type": "execute_result"
    }
   ],
   "source": [
    "starbucks"
   ]
  },
  {
   "cell_type": "code",
   "execution_count": null,
   "metadata": {},
   "outputs": [],
   "source": [
    "requestAPI(lat,long,radius,what)"
   ]
  },
  {
   "cell_type": "code",
   "execution_count": 59,
   "metadata": {},
   "outputs": [],
   "source": [
    "def createApiDf(query):\n",
    "    name=[]\n",
    "    address=[]\n",
    "    long=[]\n",
    "    lat=[]\n",
    "    for cia in results:\n",
    "        name.append(cia[0])\n",
    "        address.append(cia[1])\n",
    "        long.append(cia[2]['lng'])\n",
    "        lat.append(cia[2]['lat'])\n",
    "    dic2={\"name\":name,\"address\":address,\"long\":long,\"lat\":lat}\n",
    "    lil_DF=pd.DataFrame(dic2)\n",
    "    return lil_DF    "
   ]
  },
  {
   "cell_type": "code",
   "execution_count": 60,
   "metadata": {},
   "outputs": [],
   "source": [
    "starDf=createApiDf(results)"
   ]
  },
  {
   "cell_type": "code",
   "execution_count": 61,
   "metadata": {},
   "outputs": [
    {
     "data": {
      "text/html": [
       "<div>\n",
       "<style scoped>\n",
       "    .dataframe tbody tr th:only-of-type {\n",
       "        vertical-align: middle;\n",
       "    }\n",
       "\n",
       "    .dataframe tbody tr th {\n",
       "        vertical-align: top;\n",
       "    }\n",
       "\n",
       "    .dataframe thead th {\n",
       "        text-align: right;\n",
       "    }\n",
       "</style>\n",
       "<table border=\"1\" class=\"dataframe\">\n",
       "  <thead>\n",
       "    <tr style=\"text-align: right;\">\n",
       "      <th></th>\n",
       "      <th>name</th>\n",
       "      <th>address</th>\n",
       "      <th>long</th>\n",
       "      <th>lat</th>\n",
       "    </tr>\n",
       "  </thead>\n",
       "  <tbody>\n",
       "    <tr>\n",
       "      <th>0</th>\n",
       "      <td>International High School of San Francisco</td>\n",
       "      <td>150 Oak St, San Francisco, CA 94102, United St...</td>\n",
       "      <td>-122.421637</td>\n",
       "      <td>37.775382</td>\n",
       "    </tr>\n",
       "    <tr>\n",
       "      <th>1</th>\n",
       "      <td>The San Francisco School</td>\n",
       "      <td>300 Gaven St, San Francisco, CA 94134, United ...</td>\n",
       "      <td>-122.411353</td>\n",
       "      <td>37.732782</td>\n",
       "    </tr>\n",
       "    <tr>\n",
       "      <th>2</th>\n",
       "      <td>The Bay School of San Francisco</td>\n",
       "      <td>35 Keyes Ave, San Francisco, CA 94129, United ...</td>\n",
       "      <td>-122.455646</td>\n",
       "      <td>37.800779</td>\n",
       "    </tr>\n",
       "    <tr>\n",
       "      <th>3</th>\n",
       "      <td>Urban School of San Francisco</td>\n",
       "      <td>1563 Page St, San Francisco, CA 94117, United ...</td>\n",
       "      <td>-122.446084</td>\n",
       "      <td>37.770938</td>\n",
       "    </tr>\n",
       "    <tr>\n",
       "      <th>4</th>\n",
       "      <td>Sunset Elementary School</td>\n",
       "      <td>1920 41st Ave, San Francisco, CA 94116, United...</td>\n",
       "      <td>-122.499563</td>\n",
       "      <td>37.750897</td>\n",
       "    </tr>\n",
       "    <tr>\n",
       "      <th>5</th>\n",
       "      <td>Ulloa Elementary School</td>\n",
       "      <td>2650 42nd Ave, San Francisco, CA 94116, United...</td>\n",
       "      <td>-122.499702</td>\n",
       "      <td>37.737181</td>\n",
       "    </tr>\n",
       "    <tr>\n",
       "      <th>6</th>\n",
       "      <td>Robert Louis Stevenson Elementary School</td>\n",
       "      <td>2051 34th Ave, San Francisco, CA 94116, United...</td>\n",
       "      <td>-122.492849</td>\n",
       "      <td>37.748710</td>\n",
       "    </tr>\n",
       "    <tr>\n",
       "      <th>7</th>\n",
       "      <td>June Jordan School for Equity</td>\n",
       "      <td>325 La Grande Ave, San Francisco, CA 94112, Un...</td>\n",
       "      <td>-122.424877</td>\n",
       "      <td>37.719373</td>\n",
       "    </tr>\n",
       "    <tr>\n",
       "      <th>8</th>\n",
       "      <td>Claire Lilienthal Elementary School - Scott Ca...</td>\n",
       "      <td>3630 Divisadero St, San Francisco, CA 94118, U...</td>\n",
       "      <td>-122.443406</td>\n",
       "      <td>37.803386</td>\n",
       "    </tr>\n",
       "    <tr>\n",
       "      <th>9</th>\n",
       "      <td>San Francisco University High School</td>\n",
       "      <td>3065 Jackson St, San Francisco, CA 94115, Unit...</td>\n",
       "      <td>-122.445465</td>\n",
       "      <td>37.790890</td>\n",
       "    </tr>\n",
       "    <tr>\n",
       "      <th>10</th>\n",
       "      <td>The Brandeis School of San Francisco</td>\n",
       "      <td>655 Brotherhood Way, San Francisco, CA 94132, ...</td>\n",
       "      <td>-122.475830</td>\n",
       "      <td>37.713408</td>\n",
       "    </tr>\n",
       "    <tr>\n",
       "      <th>11</th>\n",
       "      <td>Lawton Alternative School</td>\n",
       "      <td>1570 31st Ave, San Francisco, CA 94122, United...</td>\n",
       "      <td>-122.489267</td>\n",
       "      <td>37.757667</td>\n",
       "    </tr>\n",
       "    <tr>\n",
       "      <th>12</th>\n",
       "      <td>Lycee Francais de San Francisco - LFSF - Orteg...</td>\n",
       "      <td>1201 Ortega St, San Francisco, CA 94122, Unite...</td>\n",
       "      <td>-122.476474</td>\n",
       "      <td>37.751939</td>\n",
       "    </tr>\n",
       "    <tr>\n",
       "      <th>13</th>\n",
       "      <td>Alamo Elementary School</td>\n",
       "      <td>250 23rd Ave, San Francisco, CA 94121, United ...</td>\n",
       "      <td>-122.482525</td>\n",
       "      <td>37.783059</td>\n",
       "    </tr>\n",
       "    <tr>\n",
       "      <th>14</th>\n",
       "      <td>Grattan Elementary School</td>\n",
       "      <td>165 Grattan St, San Francisco, CA 94117, Unite...</td>\n",
       "      <td>-122.450509</td>\n",
       "      <td>37.763795</td>\n",
       "    </tr>\n",
       "    <tr>\n",
       "      <th>15</th>\n",
       "      <td>San Francisco Community Alternative School</td>\n",
       "      <td>125 Excelsior Ave, San Francisco, CA 94112, Un...</td>\n",
       "      <td>-122.432194</td>\n",
       "      <td>37.726005</td>\n",
       "    </tr>\n",
       "    <tr>\n",
       "      <th>16</th>\n",
       "      <td>McKinley Elementary School</td>\n",
       "      <td>1025 14th St, San Francisco, CA 94114, United ...</td>\n",
       "      <td>-122.436403</td>\n",
       "      <td>37.767158</td>\n",
       "    </tr>\n",
       "    <tr>\n",
       "      <th>17</th>\n",
       "      <td>Presidio Middle School</td>\n",
       "      <td>450 30th Ave, San Francisco, CA 94121, United ...</td>\n",
       "      <td>-122.489901</td>\n",
       "      <td>37.781005</td>\n",
       "    </tr>\n",
       "    <tr>\n",
       "      <th>18</th>\n",
       "      <td>Ida B Wells High School</td>\n",
       "      <td>1099 Hayes St, San Francisco, CA 94117, United...</td>\n",
       "      <td>-122.434028</td>\n",
       "      <td>37.775089</td>\n",
       "    </tr>\n",
       "    <tr>\n",
       "      <th>19</th>\n",
       "      <td>George Peabody Elementary School</td>\n",
       "      <td>251 6th Ave, San Francisco, CA 94118, United S...</td>\n",
       "      <td>-122.465103</td>\n",
       "      <td>37.783854</td>\n",
       "    </tr>\n",
       "  </tbody>\n",
       "</table>\n",
       "</div>"
      ],
      "text/plain": [
       "                                                 name  \\\n",
       "0          International High School of San Francisco   \n",
       "1                            The San Francisco School   \n",
       "2                     The Bay School of San Francisco   \n",
       "3                       Urban School of San Francisco   \n",
       "4                            Sunset Elementary School   \n",
       "5                             Ulloa Elementary School   \n",
       "6            Robert Louis Stevenson Elementary School   \n",
       "7                       June Jordan School for Equity   \n",
       "8   Claire Lilienthal Elementary School - Scott Ca...   \n",
       "9                San Francisco University High School   \n",
       "10               The Brandeis School of San Francisco   \n",
       "11                          Lawton Alternative School   \n",
       "12  Lycee Francais de San Francisco - LFSF - Orteg...   \n",
       "13                            Alamo Elementary School   \n",
       "14                          Grattan Elementary School   \n",
       "15         San Francisco Community Alternative School   \n",
       "16                         McKinley Elementary School   \n",
       "17                             Presidio Middle School   \n",
       "18                            Ida B Wells High School   \n",
       "19                   George Peabody Elementary School   \n",
       "\n",
       "                                              address        long        lat  \n",
       "0   150 Oak St, San Francisco, CA 94102, United St... -122.421637  37.775382  \n",
       "1   300 Gaven St, San Francisco, CA 94134, United ... -122.411353  37.732782  \n",
       "2   35 Keyes Ave, San Francisco, CA 94129, United ... -122.455646  37.800779  \n",
       "3   1563 Page St, San Francisco, CA 94117, United ... -122.446084  37.770938  \n",
       "4   1920 41st Ave, San Francisco, CA 94116, United... -122.499563  37.750897  \n",
       "5   2650 42nd Ave, San Francisco, CA 94116, United... -122.499702  37.737181  \n",
       "6   2051 34th Ave, San Francisco, CA 94116, United... -122.492849  37.748710  \n",
       "7   325 La Grande Ave, San Francisco, CA 94112, Un... -122.424877  37.719373  \n",
       "8   3630 Divisadero St, San Francisco, CA 94118, U... -122.443406  37.803386  \n",
       "9   3065 Jackson St, San Francisco, CA 94115, Unit... -122.445465  37.790890  \n",
       "10  655 Brotherhood Way, San Francisco, CA 94132, ... -122.475830  37.713408  \n",
       "11  1570 31st Ave, San Francisco, CA 94122, United... -122.489267  37.757667  \n",
       "12  1201 Ortega St, San Francisco, CA 94122, Unite... -122.476474  37.751939  \n",
       "13  250 23rd Ave, San Francisco, CA 94121, United ... -122.482525  37.783059  \n",
       "14  165 Grattan St, San Francisco, CA 94117, Unite... -122.450509  37.763795  \n",
       "15  125 Excelsior Ave, San Francisco, CA 94112, Un... -122.432194  37.726005  \n",
       "16  1025 14th St, San Francisco, CA 94114, United ... -122.436403  37.767158  \n",
       "17  450 30th Ave, San Francisco, CA 94121, United ... -122.489901  37.781005  \n",
       "18  1099 Hayes St, San Francisco, CA 94117, United... -122.434028  37.775089  \n",
       "19  251 6th Ave, San Francisco, CA 94118, United S... -122.465103  37.783854  "
      ]
     },
     "execution_count": 61,
     "metadata": {},
     "output_type": "execute_result"
    }
   ],
   "source": [
    "starDf"
   ]
  },
  {
   "cell_type": "code",
   "execution_count": 62,
   "metadata": {},
   "outputs": [],
   "source": [
    "export_csv = starDf.to_csv('schoolSF.csv', index=None, header=True)"
   ]
  },
  {
   "cell_type": "code",
   "execution_count": 11,
   "metadata": {},
   "outputs": [],
   "source": [
    "'''\n",
    "def getLocation(comp):\n",
    "        longitude = comp['offices'][0]['longitude']\n",
    "        latitude = comp['offices'][0]['latitude']\n",
    "        loc = {\n",
    "            'type':'Point',\n",
    "            'coordinates':[longitude,latitude]\n",
    "        }\n",
    "        return loc\n",
    "'''"
   ]
  },
  {
   "cell_type": "code",
   "execution_count": 30,
   "metadata": {},
   "outputs": [
    {
     "data": {
      "text/plain": [
       "37.790431"
      ]
     },
     "execution_count": 30,
     "metadata": {},
     "output_type": "execute_result"
    }
   ],
   "source": [
    "stars[0]['lat']"
   ]
  },
  {
   "cell_type": "code",
   "execution_count": 70,
   "metadata": {},
   "outputs": [],
   "source": [
    "def getApiLoc(off):\n",
    "    longitude = off['long']\n",
    "    latitude = off['lat']\n",
    "    loc=({\n",
    "        'type':'Point',\n",
    "        'coordinates':[longitude,latitude]\n",
    "    })\n",
    "    return loc"
   ]
  },
  {
   "cell_type": "code",
   "execution_count": 71,
   "metadata": {},
   "outputs": [
    {
     "data": {
      "text/plain": [
       "{'type': 'Point', 'coordinates': [-122.4995634, 37.7508971]}"
      ]
     },
     "execution_count": 71,
     "metadata": {},
     "output_type": "execute_result"
    }
   ],
   "source": [
    "getApiLoc(stars[0])"
   ]
  },
  {
   "cell_type": "code",
   "execution_count": 72,
   "metadata": {},
   "outputs": [],
   "source": [
    "for star in stars:\n",
    "    value={\"$set\":{'location':getApiLoc(star)}}\n",
    "    coll.update_one(star,value)"
   ]
  },
  {
   "cell_type": "code",
   "execution_count": 12,
   "metadata": {},
   "outputs": [],
   "source": [
    "'''\n",
    "def setValue(query,loc):\n",
    "    for company in query:\n",
    "        value={\"$set\":{'location':getApiLoc(loc)}}\n",
    "    return coll.update_one(company,value)\n",
    "'''\n",
    "        "
   ]
  },
  {
   "cell_type": "code",
   "execution_count": 18,
   "metadata": {},
   "outputs": [],
   "source": [
    "'''\n",
    "def setValue(query,loc):\n",
    "    value=getApiLoc(loc)\n",
    "    for company in query:\n",
    "         return company,value\n",
    "'''"
   ]
  },
  {
   "cell_type": "code",
   "execution_count": null,
   "metadata": {},
   "outputs": [],
   "source": [
    "'''\n",
    "#borrar\n",
    "pin=\n",
    "for company in results:\n",
    "    pin.append(getApiLoc(company))\n",
    "'''"
   ]
  },
  {
   "cell_type": "code",
   "execution_count": null,
   "metadata": {},
   "outputs": [],
   "source": [
    "getApiLoc(results[0])"
   ]
  },
  {
   "cell_type": "code",
   "execution_count": null,
   "metadata": {},
   "outputs": [],
   "source": [
    "for star in stars:\n",
    "    value = {\"$set\": {'location':getApiLoc(result)}}\n",
    "    coll.update_one(star,value)"
   ]
  },
  {
   "cell_type": "code",
   "execution_count": null,
   "metadata": {},
   "outputs": [],
   "source": [
    "'''\n",
    "for star in stars:\n",
    "    value = {\"$unset\": {'location':''}}\n",
    "    coll.update_one(star,value)\n",
    "'''"
   ]
  },
  {
   "cell_type": "code",
   "execution_count": null,
   "metadata": {},
   "outputs": [],
   "source": []
  }
 ],
 "metadata": {
  "kernelspec": {
   "display_name": "Python 3",
   "language": "python",
   "name": "python3"
  },
  "language_info": {
   "codemirror_mode": {
    "name": "ipython",
    "version": 3
   },
   "file_extension": ".py",
   "mimetype": "text/x-python",
   "name": "python",
   "nbconvert_exporter": "python",
   "pygments_lexer": "ipython3",
   "version": "3.7.5rc1"
  }
 },
 "nbformat": 4,
 "nbformat_minor": 2
}
