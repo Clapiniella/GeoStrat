{
 "cells": [
  {
   "cell_type": "code",
   "execution_count": 4,
   "metadata": {},
   "outputs": [],
   "source": [
    "import googlemaps\n",
    "from datetime import datetime\n",
    "import os\n",
    "from dotenv import load_dotenv\n",
    "load_dotenv()\n",
    "import requests, json \n",
    "import pandas as pd\n",
    "from pymongo import MongoClient"
   ]
  },
  {
   "cell_type": "code",
   "execution_count": 5,
   "metadata": {},
   "outputs": [],
   "source": [
    "def connectCollection(database, collection):\n",
    "    client = MongoClient()\n",
    "    db = client[database]\n",
    "    coll = db[collection]\n",
    "    return db, coll"
   ]
  },
  {
   "cell_type": "code",
   "execution_count": 42,
   "metadata": {},
   "outputs": [],
   "source": [
    "#para crear nuevas collections\n",
    "myclient = MongoClient(\"mongodb://localhost/\")\n",
    "mydb = myclient[\"companies\"]\n",
    "mycol = mydb[\"nightclub\"]\n",
    "#para importar el contenido de un csv a mongo\n",
    "#mongoimport --db companies --collection kindergarten --type csv --file kindergarten.csv --headerline"
   ]
  },
  {
   "cell_type": "code",
   "execution_count": null,
   "metadata": {},
   "outputs": [],
   "source": [
    "#https://stackoverflow.com/questions/5681851/mongodb-combine-data-from-multiple-collections-into-one-how"
   ]
  },
  {
   "cell_type": "code",
   "execution_count": 63,
   "metadata": {},
   "outputs": [],
   "source": [
    "db, coll = connectCollection('companies','schools')"
   ]
  },
  {
   "cell_type": "code",
   "execution_count": 67,
   "metadata": {},
   "outputs": [],
   "source": [
    "stars = list(coll.find({\"location\": {\"$exists\": False }}))"
   ]
  },
  {
   "cell_type": "code",
   "execution_count": 68,
   "metadata": {},
   "outputs": [],
   "source": [
    "#stars = list(coll.find())"
   ]
  },
  {
   "cell_type": "code",
   "execution_count": 69,
   "metadata": {},
   "outputs": [
    {
     "name": "stdout",
     "output_type": "stream",
     "text": [
      "20\n"
     ]
    }
   ],
   "source": [
    "print(len(stars))"
   ]
  },
  {
   "cell_type": "code",
   "execution_count": null,
   "metadata": {},
   "outputs": [],
   "source": [
    "'''\n",
    "gmaps = googlemaps.Client(key=os.getenv('API_KEY'))\n",
    "geocode_result = gmaps.places('starbucks palo alto')\n",
    "'''"
   ]
  },
  {
   "cell_type": "code",
   "execution_count": 6,
   "metadata": {},
   "outputs": [],
   "source": [
    "api_key = os.getenv(\"API_KEY\")\n",
    "url = \"https://maps.googleapis.com/maps/api/place/textsearch/json?\""
   ]
  },
  {
   "cell_type": "code",
   "execution_count": 56,
   "metadata": {},
   "outputs": [
    {
     "name": "stdout",
     "output_type": "stream",
     "text": [
      "Search query: schools in san francisco\n"
     ]
    }
   ],
   "source": [
    "query = input('Search query: ') \n",
    "r = requests.get(url + 'query=' + query + '&key=' + api_key) \n",
    "x = r.json() \n",
    "y = x['results'] \n",
    "results=[]\n",
    "for i in range(len(y)): \n",
    "    results.append((y[i]['name'],y[i]['formatted_address'],y[i]['geometry']['location']))\n",
    "\n",
    "#PULSA ENTER"
   ]
  },
  {
   "cell_type": "code",
   "execution_count": 57,
   "metadata": {},
   "outputs": [
    {
     "data": {
      "text/plain": [
       "[('International High School of San Francisco',\n",
       "  '150 Oak St, San Francisco, CA 94102, United States',\n",
       "  {'lat': 37.7753816, 'lng': -122.4216371}),\n",
       " ('The San Francisco School',\n",
       "  '300 Gaven St, San Francisco, CA 94134, United States',\n",
       "  {'lat': 37.7327817, 'lng': -122.4113534}),\n",
       " ('The Bay School of San Francisco',\n",
       "  '35 Keyes Ave, San Francisco, CA 94129, United States',\n",
       "  {'lat': 37.8007795, 'lng': -122.455646}),\n",
       " ('Urban School of San Francisco',\n",
       "  '1563 Page St, San Francisco, CA 94117, United States',\n",
       "  {'lat': 37.7709383, 'lng': -122.4460845}),\n",
       " ('Sunset Elementary School',\n",
       "  '1920 41st Ave, San Francisco, CA 94116, United States',\n",
       "  {'lat': 37.7508971, 'lng': -122.4995634}),\n",
       " ('Ulloa Elementary School',\n",
       "  '2650 42nd Ave, San Francisco, CA 94116, United States',\n",
       "  {'lat': 37.73718059999999, 'lng': -122.4997017}),\n",
       " ('Robert Louis Stevenson Elementary School',\n",
       "  '2051 34th Ave, San Francisco, CA 94116, United States',\n",
       "  {'lat': 37.7487104, 'lng': -122.4928488}),\n",
       " ('June Jordan School for Equity',\n",
       "  '325 La Grande Ave, San Francisco, CA 94112, United States',\n",
       "  {'lat': 37.7193732, 'lng': -122.4248772}),\n",
       " ('Claire Lilienthal Elementary School - Scott Campus',\n",
       "  '3630 Divisadero St, San Francisco, CA 94118, United States',\n",
       "  {'lat': 37.80338640000001, 'lng': -122.4434063}),\n",
       " ('San Francisco University High School',\n",
       "  '3065 Jackson St, San Francisco, CA 94115, United States',\n",
       "  {'lat': 37.7908898, 'lng': -122.4454646}),\n",
       " ('The Brandeis School of San Francisco',\n",
       "  '655 Brotherhood Way, San Francisco, CA 94132, United States',\n",
       "  {'lat': 37.7134077, 'lng': -122.4758295}),\n",
       " ('Lawton Alternative School',\n",
       "  '1570 31st Ave, San Francisco, CA 94122, United States',\n",
       "  {'lat': 37.7576672, 'lng': -122.4892675}),\n",
       " ('Lycee Francais de San Francisco - LFSF - Ortega Campus',\n",
       "  '1201 Ortega St, San Francisco, CA 94122, United States',\n",
       "  {'lat': 37.7519388, 'lng': -122.4764738}),\n",
       " ('Alamo Elementary School',\n",
       "  '250 23rd Ave, San Francisco, CA 94121, United States',\n",
       "  {'lat': 37.7830586, 'lng': -122.4825251}),\n",
       " ('Grattan Elementary School',\n",
       "  '165 Grattan St, San Francisco, CA 94117, United States',\n",
       "  {'lat': 37.7637948, 'lng': -122.4505091}),\n",
       " ('San Francisco Community Alternative School',\n",
       "  '125 Excelsior Ave, San Francisco, CA 94112, United States',\n",
       "  {'lat': 37.726005, 'lng': -122.4321939}),\n",
       " ('McKinley Elementary School',\n",
       "  '1025 14th St, San Francisco, CA 94114, United States',\n",
       "  {'lat': 37.7671582, 'lng': -122.4364032}),\n",
       " ('Presidio Middle School',\n",
       "  '450 30th Ave, San Francisco, CA 94121, United States',\n",
       "  {'lat': 37.7810048, 'lng': -122.4899008}),\n",
       " ('Ida B Wells High School',\n",
       "  '1099 Hayes St, San Francisco, CA 94117, United States',\n",
       "  {'lat': 37.7750892, 'lng': -122.4340281}),\n",
       " ('George Peabody Elementary School',\n",
       "  '251 6th Ave, San Francisco, CA 94118, United States',\n",
       "  {'lat': 37.7838537, 'lng': -122.4651034})]"
      ]
     },
     "execution_count": 57,
     "metadata": {},
     "output_type": "execute_result"
    }
   ],
   "source": [
    "results"
   ]
  },
  {
   "cell_type": "code",
   "execution_count": 58,
   "metadata": {},
   "outputs": [
    {
     "data": {
      "text/plain": [
       "-122.4216371"
      ]
     },
     "execution_count": 58,
     "metadata": {},
     "output_type": "execute_result"
    }
   ],
   "source": [
    "results[0][2]['lng']"
   ]
  },
  {
   "cell_type": "code",
   "execution_count": 59,
   "metadata": {},
   "outputs": [],
   "source": [
    "def createApiDf(query):\n",
    "    name=[]\n",
    "    address=[]\n",
    "    long=[]\n",
    "    lat=[]\n",
    "    for cia in results:\n",
    "        name.append(cia[0])\n",
    "        address.append(cia[1])\n",
    "        long.append(cia[2]['lng'])\n",
    "        lat.append(cia[2]['lat'])\n",
    "    dic2={\"name\":name,\"address\":address,\"long\":long,\"lat\":lat}\n",
    "    lil_DF=pd.DataFrame(dic2)\n",
    "    return lil_DF    "
   ]
  },
  {
   "cell_type": "code",
   "execution_count": 60,
   "metadata": {},
   "outputs": [],
   "source": [
    "starDf=createApiDf(results)"
   ]
  },
  {
   "cell_type": "code",
   "execution_count": 61,
   "metadata": {},
   "outputs": [
    {
     "data": {
      "text/html": [
       "<div>\n",
       "<style scoped>\n",
       "    .dataframe tbody tr th:only-of-type {\n",
       "        vertical-align: middle;\n",
       "    }\n",
       "\n",
       "    .dataframe tbody tr th {\n",
       "        vertical-align: top;\n",
       "    }\n",
       "\n",
       "    .dataframe thead th {\n",
       "        text-align: right;\n",
       "    }\n",
       "</style>\n",
       "<table border=\"1\" class=\"dataframe\">\n",
       "  <thead>\n",
       "    <tr style=\"text-align: right;\">\n",
       "      <th></th>\n",
       "      <th>name</th>\n",
       "      <th>address</th>\n",
       "      <th>long</th>\n",
       "      <th>lat</th>\n",
       "    </tr>\n",
       "  </thead>\n",
       "  <tbody>\n",
       "    <tr>\n",
       "      <th>0</th>\n",
       "      <td>International High School of San Francisco</td>\n",
       "      <td>150 Oak St, San Francisco, CA 94102, United St...</td>\n",
       "      <td>-122.421637</td>\n",
       "      <td>37.775382</td>\n",
       "    </tr>\n",
       "    <tr>\n",
       "      <th>1</th>\n",
       "      <td>The San Francisco School</td>\n",
       "      <td>300 Gaven St, San Francisco, CA 94134, United ...</td>\n",
       "      <td>-122.411353</td>\n",
       "      <td>37.732782</td>\n",
       "    </tr>\n",
       "    <tr>\n",
       "      <th>2</th>\n",
       "      <td>The Bay School of San Francisco</td>\n",
       "      <td>35 Keyes Ave, San Francisco, CA 94129, United ...</td>\n",
       "      <td>-122.455646</td>\n",
       "      <td>37.800779</td>\n",
       "    </tr>\n",
       "    <tr>\n",
       "      <th>3</th>\n",
       "      <td>Urban School of San Francisco</td>\n",
       "      <td>1563 Page St, San Francisco, CA 94117, United ...</td>\n",
       "      <td>-122.446084</td>\n",
       "      <td>37.770938</td>\n",
       "    </tr>\n",
       "    <tr>\n",
       "      <th>4</th>\n",
       "      <td>Sunset Elementary School</td>\n",
       "      <td>1920 41st Ave, San Francisco, CA 94116, United...</td>\n",
       "      <td>-122.499563</td>\n",
       "      <td>37.750897</td>\n",
       "    </tr>\n",
       "    <tr>\n",
       "      <th>5</th>\n",
       "      <td>Ulloa Elementary School</td>\n",
       "      <td>2650 42nd Ave, San Francisco, CA 94116, United...</td>\n",
       "      <td>-122.499702</td>\n",
       "      <td>37.737181</td>\n",
       "    </tr>\n",
       "    <tr>\n",
       "      <th>6</th>\n",
       "      <td>Robert Louis Stevenson Elementary School</td>\n",
       "      <td>2051 34th Ave, San Francisco, CA 94116, United...</td>\n",
       "      <td>-122.492849</td>\n",
       "      <td>37.748710</td>\n",
       "    </tr>\n",
       "    <tr>\n",
       "      <th>7</th>\n",
       "      <td>June Jordan School for Equity</td>\n",
       "      <td>325 La Grande Ave, San Francisco, CA 94112, Un...</td>\n",
       "      <td>-122.424877</td>\n",
       "      <td>37.719373</td>\n",
       "    </tr>\n",
       "    <tr>\n",
       "      <th>8</th>\n",
       "      <td>Claire Lilienthal Elementary School - Scott Ca...</td>\n",
       "      <td>3630 Divisadero St, San Francisco, CA 94118, U...</td>\n",
       "      <td>-122.443406</td>\n",
       "      <td>37.803386</td>\n",
       "    </tr>\n",
       "    <tr>\n",
       "      <th>9</th>\n",
       "      <td>San Francisco University High School</td>\n",
       "      <td>3065 Jackson St, San Francisco, CA 94115, Unit...</td>\n",
       "      <td>-122.445465</td>\n",
       "      <td>37.790890</td>\n",
       "    </tr>\n",
       "    <tr>\n",
       "      <th>10</th>\n",
       "      <td>The Brandeis School of San Francisco</td>\n",
       "      <td>655 Brotherhood Way, San Francisco, CA 94132, ...</td>\n",
       "      <td>-122.475830</td>\n",
       "      <td>37.713408</td>\n",
       "    </tr>\n",
       "    <tr>\n",
       "      <th>11</th>\n",
       "      <td>Lawton Alternative School</td>\n",
       "      <td>1570 31st Ave, San Francisco, CA 94122, United...</td>\n",
       "      <td>-122.489267</td>\n",
       "      <td>37.757667</td>\n",
       "    </tr>\n",
       "    <tr>\n",
       "      <th>12</th>\n",
       "      <td>Lycee Francais de San Francisco - LFSF - Orteg...</td>\n",
       "      <td>1201 Ortega St, San Francisco, CA 94122, Unite...</td>\n",
       "      <td>-122.476474</td>\n",
       "      <td>37.751939</td>\n",
       "    </tr>\n",
       "    <tr>\n",
       "      <th>13</th>\n",
       "      <td>Alamo Elementary School</td>\n",
       "      <td>250 23rd Ave, San Francisco, CA 94121, United ...</td>\n",
       "      <td>-122.482525</td>\n",
       "      <td>37.783059</td>\n",
       "    </tr>\n",
       "    <tr>\n",
       "      <th>14</th>\n",
       "      <td>Grattan Elementary School</td>\n",
       "      <td>165 Grattan St, San Francisco, CA 94117, Unite...</td>\n",
       "      <td>-122.450509</td>\n",
       "      <td>37.763795</td>\n",
       "    </tr>\n",
       "    <tr>\n",
       "      <th>15</th>\n",
       "      <td>San Francisco Community Alternative School</td>\n",
       "      <td>125 Excelsior Ave, San Francisco, CA 94112, Un...</td>\n",
       "      <td>-122.432194</td>\n",
       "      <td>37.726005</td>\n",
       "    </tr>\n",
       "    <tr>\n",
       "      <th>16</th>\n",
       "      <td>McKinley Elementary School</td>\n",
       "      <td>1025 14th St, San Francisco, CA 94114, United ...</td>\n",
       "      <td>-122.436403</td>\n",
       "      <td>37.767158</td>\n",
       "    </tr>\n",
       "    <tr>\n",
       "      <th>17</th>\n",
       "      <td>Presidio Middle School</td>\n",
       "      <td>450 30th Ave, San Francisco, CA 94121, United ...</td>\n",
       "      <td>-122.489901</td>\n",
       "      <td>37.781005</td>\n",
       "    </tr>\n",
       "    <tr>\n",
       "      <th>18</th>\n",
       "      <td>Ida B Wells High School</td>\n",
       "      <td>1099 Hayes St, San Francisco, CA 94117, United...</td>\n",
       "      <td>-122.434028</td>\n",
       "      <td>37.775089</td>\n",
       "    </tr>\n",
       "    <tr>\n",
       "      <th>19</th>\n",
       "      <td>George Peabody Elementary School</td>\n",
       "      <td>251 6th Ave, San Francisco, CA 94118, United S...</td>\n",
       "      <td>-122.465103</td>\n",
       "      <td>37.783854</td>\n",
       "    </tr>\n",
       "  </tbody>\n",
       "</table>\n",
       "</div>"
      ],
      "text/plain": [
       "                                                 name  \\\n",
       "0          International High School of San Francisco   \n",
       "1                            The San Francisco School   \n",
       "2                     The Bay School of San Francisco   \n",
       "3                       Urban School of San Francisco   \n",
       "4                            Sunset Elementary School   \n",
       "5                             Ulloa Elementary School   \n",
       "6            Robert Louis Stevenson Elementary School   \n",
       "7                       June Jordan School for Equity   \n",
       "8   Claire Lilienthal Elementary School - Scott Ca...   \n",
       "9                San Francisco University High School   \n",
       "10               The Brandeis School of San Francisco   \n",
       "11                          Lawton Alternative School   \n",
       "12  Lycee Francais de San Francisco - LFSF - Orteg...   \n",
       "13                            Alamo Elementary School   \n",
       "14                          Grattan Elementary School   \n",
       "15         San Francisco Community Alternative School   \n",
       "16                         McKinley Elementary School   \n",
       "17                             Presidio Middle School   \n",
       "18                            Ida B Wells High School   \n",
       "19                   George Peabody Elementary School   \n",
       "\n",
       "                                              address        long        lat  \n",
       "0   150 Oak St, San Francisco, CA 94102, United St... -122.421637  37.775382  \n",
       "1   300 Gaven St, San Francisco, CA 94134, United ... -122.411353  37.732782  \n",
       "2   35 Keyes Ave, San Francisco, CA 94129, United ... -122.455646  37.800779  \n",
       "3   1563 Page St, San Francisco, CA 94117, United ... -122.446084  37.770938  \n",
       "4   1920 41st Ave, San Francisco, CA 94116, United... -122.499563  37.750897  \n",
       "5   2650 42nd Ave, San Francisco, CA 94116, United... -122.499702  37.737181  \n",
       "6   2051 34th Ave, San Francisco, CA 94116, United... -122.492849  37.748710  \n",
       "7   325 La Grande Ave, San Francisco, CA 94112, Un... -122.424877  37.719373  \n",
       "8   3630 Divisadero St, San Francisco, CA 94118, U... -122.443406  37.803386  \n",
       "9   3065 Jackson St, San Francisco, CA 94115, Unit... -122.445465  37.790890  \n",
       "10  655 Brotherhood Way, San Francisco, CA 94132, ... -122.475830  37.713408  \n",
       "11  1570 31st Ave, San Francisco, CA 94122, United... -122.489267  37.757667  \n",
       "12  1201 Ortega St, San Francisco, CA 94122, Unite... -122.476474  37.751939  \n",
       "13  250 23rd Ave, San Francisco, CA 94121, United ... -122.482525  37.783059  \n",
       "14  165 Grattan St, San Francisco, CA 94117, Unite... -122.450509  37.763795  \n",
       "15  125 Excelsior Ave, San Francisco, CA 94112, Un... -122.432194  37.726005  \n",
       "16  1025 14th St, San Francisco, CA 94114, United ... -122.436403  37.767158  \n",
       "17  450 30th Ave, San Francisco, CA 94121, United ... -122.489901  37.781005  \n",
       "18  1099 Hayes St, San Francisco, CA 94117, United... -122.434028  37.775089  \n",
       "19  251 6th Ave, San Francisco, CA 94118, United S... -122.465103  37.783854  "
      ]
     },
     "execution_count": 61,
     "metadata": {},
     "output_type": "execute_result"
    }
   ],
   "source": [
    "starDf"
   ]
  },
  {
   "cell_type": "code",
   "execution_count": 62,
   "metadata": {},
   "outputs": [],
   "source": [
    "export_csv = starDf.to_csv('schoolSF.csv', index=None, header=True)"
   ]
  },
  {
   "cell_type": "code",
   "execution_count": 11,
   "metadata": {},
   "outputs": [],
   "source": [
    "'''\n",
    "def getLocation(comp):\n",
    "        longitude = comp['offices'][0]['longitude']\n",
    "        latitude = comp['offices'][0]['latitude']\n",
    "        loc = {\n",
    "            'type':'Point',\n",
    "            'coordinates':[longitude,latitude]\n",
    "        }\n",
    "        return loc\n",
    "'''"
   ]
  },
  {
   "cell_type": "code",
   "execution_count": 30,
   "metadata": {},
   "outputs": [
    {
     "data": {
      "text/plain": [
       "37.790431"
      ]
     },
     "execution_count": 30,
     "metadata": {},
     "output_type": "execute_result"
    }
   ],
   "source": [
    "stars[0]['lat']"
   ]
  },
  {
   "cell_type": "code",
   "execution_count": 70,
   "metadata": {},
   "outputs": [],
   "source": [
    "def getApiLoc(off):\n",
    "    longitude = off['long']\n",
    "    latitude = off['lat']\n",
    "    loc=({\n",
    "        'type':'Point',\n",
    "        'coordinates':[longitude,latitude]\n",
    "    })\n",
    "    return loc"
   ]
  },
  {
   "cell_type": "code",
   "execution_count": 71,
   "metadata": {},
   "outputs": [
    {
     "data": {
      "text/plain": [
       "{'type': 'Point', 'coordinates': [-122.4995634, 37.7508971]}"
      ]
     },
     "execution_count": 71,
     "metadata": {},
     "output_type": "execute_result"
    }
   ],
   "source": [
    "getApiLoc(stars[0])"
   ]
  },
  {
   "cell_type": "code",
   "execution_count": 72,
   "metadata": {},
   "outputs": [],
   "source": [
    "for star in stars:\n",
    "    value={\"$set\":{'location':getApiLoc(star)}}\n",
    "    coll.update_one(star,value)"
   ]
  },
  {
   "cell_type": "code",
   "execution_count": 12,
   "metadata": {},
   "outputs": [],
   "source": [
    "'''\n",
    "def setValue(query,loc):\n",
    "    for company in query:\n",
    "        value={\"$set\":{'location':getApiLoc(loc)}}\n",
    "    return coll.update_one(company,value)\n",
    "'''\n",
    "        "
   ]
  },
  {
   "cell_type": "code",
   "execution_count": 18,
   "metadata": {},
   "outputs": [],
   "source": [
    "'''\n",
    "def setValue(query,loc):\n",
    "    value=getApiLoc(loc)\n",
    "    for company in query:\n",
    "         return company,value\n",
    "'''"
   ]
  },
  {
   "cell_type": "code",
   "execution_count": null,
   "metadata": {},
   "outputs": [],
   "source": [
    "'''\n",
    "#borrar\n",
    "pin=\n",
    "for company in results:\n",
    "    pin.append(getApiLoc(company))\n",
    "'''"
   ]
  },
  {
   "cell_type": "code",
   "execution_count": null,
   "metadata": {},
   "outputs": [],
   "source": [
    "getApiLoc(results[0])"
   ]
  },
  {
   "cell_type": "code",
   "execution_count": null,
   "metadata": {},
   "outputs": [],
   "source": [
    "for star in stars:\n",
    "    value = {\"$set\": {'location':getApiLoc(result)}}\n",
    "    coll.update_one(star,value)"
   ]
  },
  {
   "cell_type": "code",
   "execution_count": null,
   "metadata": {},
   "outputs": [],
   "source": [
    "'''\n",
    "for star in stars:\n",
    "    value = {\"$unset\": {'location':''}}\n",
    "    coll.update_one(star,value)\n",
    "'''"
   ]
  },
  {
   "cell_type": "code",
   "execution_count": null,
   "metadata": {},
   "outputs": [],
   "source": []
  }
 ],
 "metadata": {
  "kernelspec": {
   "display_name": "Python 3",
   "language": "python",
   "name": "python3"
  },
  "language_info": {
   "codemirror_mode": {
    "name": "ipython",
    "version": 3
   },
   "file_extension": ".py",
   "mimetype": "text/x-python",
   "name": "python",
   "nbconvert_exporter": "python",
   "pygments_lexer": "ipython3",
   "version": "3.7.5rc1"
  }
 },
 "nbformat": 4,
 "nbformat_minor": 2
}
