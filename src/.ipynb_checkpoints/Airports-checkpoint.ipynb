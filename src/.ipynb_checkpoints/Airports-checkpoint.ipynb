{
 "cells": [
  {
   "cell_type": "code",
   "execution_count": 2,
   "metadata": {},
   "outputs": [],
   "source": [
    "import pandas as pd\n",
    "from pymongo import MongoClient\n",
    "import re\n",
    "from haversine import haversine"
   ]
  },
  {
   "cell_type": "code",
   "execution_count": 5,
   "metadata": {},
   "outputs": [
    {
     "name": "stdout",
     "output_type": "stream",
     "text": [
      "Requirement already satisfied: haversine in /home/clara/.local/lib/python3.7/site-packages (2.1.2)\r\n"
     ]
    }
   ],
   "source": [
    "#!pip3 install --user haversine"
   ]
  },
  {
   "cell_type": "code",
   "execution_count": 6,
   "metadata": {},
   "outputs": [],
   "source": [
    "def connectCollection(database, collection):\n",
    "    client = MongoClient()\n",
    "    db = client[database]\n",
    "    coll = db[collection]\n",
    "    return db, coll"
   ]
  },
  {
   "cell_type": "code",
   "execution_count": 7,
   "metadata": {},
   "outputs": [],
   "source": [
    "db, coll = connectCollection('companies','airports')\n",
    "db, coll1 = connectCollection('companies','preferred')"
   ]
  },
  {
   "cell_type": "code",
   "execution_count": 8,
   "metadata": {},
   "outputs": [],
   "source": [
    "airports = list(coll.find({\"type\": 'large_airport'}))"
   ]
  },
  {
   "cell_type": "code",
   "execution_count": 9,
   "metadata": {},
   "outputs": [],
   "source": [
    "business = list(coll1.find({\"$and\":[{\"money_raised\":{\"$ne\":\"$0\"}},{\"year\":{\"$gte\":2009}}]}))"
   ]
  },
  {
   "cell_type": "code",
   "execution_count": 10,
   "metadata": {},
   "outputs": [],
   "source": [
    "#business = list(coll1.find({\"distance\":{\"$exists\":True}}))"
   ]
  },
  {
   "cell_type": "code",
   "execution_count": null,
   "metadata": {},
   "outputs": [],
   "source": [
    "'''\n",
    ",{\"money_raised\":{\"$regex\":\"k$\"}}\n",
    "import re\n",
    "for noMatch in db.inventory.find( { \"item\": { \"$not\": re.compile(\"^p.*\") } } ):\n",
    "    print noMatch\n",
    "'''"
   ]
  },
  {
   "cell_type": "code",
   "execution_count": 12,
   "metadata": {},
   "outputs": [
    {
     "name": "stdout",
     "output_type": "stream",
     "text": [
      "614\n"
     ]
    }
   ],
   "source": [
    "print(len(airports))"
   ]
  },
  {
   "cell_type": "code",
   "execution_count": 38,
   "metadata": {},
   "outputs": [
    {
     "name": "stdout",
     "output_type": "stream",
     "text": [
      "99\n"
     ]
    }
   ],
   "source": [
    "print(len(business))"
   ]
  },
  {
   "cell_type": "code",
   "execution_count": 17,
   "metadata": {},
   "outputs": [
    {
     "data": {
      "text/plain": [
       "-73.985506"
      ]
     },
     "execution_count": 17,
     "metadata": {},
     "output_type": "execute_result"
    }
   ],
   "source": [
    "business[0]['location']['coordinates'][0]"
   ]
  },
  {
   "cell_type": "code",
   "execution_count": 19,
   "metadata": {},
   "outputs": [],
   "source": [
    "name=[]\n",
    "for bus in business:\n",
    "    name.append(bus['name'])\n",
    "    "
   ]
  },
  {
   "cell_type": "code",
   "execution_count": 18,
   "metadata": {},
   "outputs": [
    {
     "data": {
      "text/plain": [
       "40.757929"
      ]
     },
     "execution_count": 18,
     "metadata": {},
     "output_type": "execute_result"
    }
   ],
   "source": [
    "business[0]['location']['coordinates'][1]"
   ]
  },
  {
   "cell_type": "code",
   "execution_count": 8,
   "metadata": {},
   "outputs": [
    {
     "data": {
      "text/plain": [
       "{'_id': ObjectId('5dd2e1992519448a75e6bc9a'),\n",
       " 'id': 67,\n",
       " 'ident': 'AYPY',\n",
       " 'type': 'large_airport',\n",
       " 'name': 'Port Moresby Jacksons International Airport',\n",
       " 'latitude_deg': -9.443380355834961,\n",
       " 'longitude_deg': 147.22000122070312,\n",
       " 'elevation_ft': 146,\n",
       " 'continent': 'OC',\n",
       " 'iso_country': 'PG',\n",
       " 'iso_region': 'PG-NCD',\n",
       " 'municipality': 'Port Moresby',\n",
       " 'scheduled_service': 'yes',\n",
       " 'gps_code': 'AYPY',\n",
       " 'iata_code': 'POM',\n",
       " 'local_code': '',\n",
       " 'home_link': '',\n",
       " 'wikipedia_link': 'https://en.wikipedia.org/wiki/Jacksons_International_Airport',\n",
       " 'keywords': '',\n",
       " 'location': {'type': 'Point',\n",
       "  'coordinates': [147.22000122070312, -9.443380355834961]}}"
      ]
     },
     "execution_count": 8,
     "metadata": {},
     "output_type": "execute_result"
    }
   ],
   "source": [
    "airports[0]"
   ]
  },
  {
   "cell_type": "code",
   "execution_count": 15,
   "metadata": {},
   "outputs": [
    {
     "data": {
      "text/plain": [
       "147.22000122070312"
      ]
     },
     "execution_count": 15,
     "metadata": {},
     "output_type": "execute_result"
    }
   ],
   "source": [
    "#long 0\n",
    "airports[0]['location']['coordinates'][0]"
   ]
  },
  {
   "cell_type": "code",
   "execution_count": 16,
   "metadata": {},
   "outputs": [
    {
     "data": {
      "text/plain": [
       "-9.443380355834961"
      ]
     },
     "execution_count": 16,
     "metadata": {},
     "output_type": "execute_result"
    }
   ],
   "source": [
    "#lat 1\n",
    "airports[0]['location']['coordinates'][1]"
   ]
  },
  {
   "cell_type": "code",
   "execution_count": 9,
   "metadata": {},
   "outputs": [],
   "source": [
    "def getcoord(query,lat,long):\n",
    "    for que in query: \n",
    "        lat.append(que['location']['coordinates'][1])\n",
    "        long.append(que['location']['coordinates'][0])\n",
    "    return len(lat),len(long)       "
   ]
  },
  {
   "cell_type": "code",
   "execution_count": 10,
   "metadata": {},
   "outputs": [
    {
     "data": {
      "text/plain": [
       "(99, 99)"
      ]
     },
     "execution_count": 10,
     "metadata": {},
     "output_type": "execute_result"
    }
   ],
   "source": [
    "lat1=[]\n",
    "long1=[]\n",
    "getcoord(business,lat1,long1)"
   ]
  },
  {
   "cell_type": "code",
   "execution_count": 11,
   "metadata": {},
   "outputs": [],
   "source": [
    "bus=list(zip(lat1,long1))"
   ]
  },
  {
   "cell_type": "code",
   "execution_count": 13,
   "metadata": {},
   "outputs": [
    {
     "data": {
      "text/plain": [
       "(614, 614)"
      ]
     },
     "execution_count": 13,
     "metadata": {},
     "output_type": "execute_result"
    }
   ],
   "source": [
    "lat2=[]\n",
    "long2=[]\n",
    "getcoord(airports,lat2,long2)"
   ]
  },
  {
   "cell_type": "code",
   "execution_count": 14,
   "metadata": {},
   "outputs": [],
   "source": [
    "air=list(zip(lat2,long2))"
   ]
  },
  {
   "cell_type": "code",
   "execution_count": 31,
   "metadata": {},
   "outputs": [],
   "source": [
    "# (lat, lon)\n",
    "#haversine((45.7597, 4.8422),(48.8567, 2.3508))\n",
    "#243.71209416020253"
   ]
  },
  {
   "cell_type": "code",
   "execution_count": 47,
   "metadata": {},
   "outputs": [
    {
     "data": {
      "text/plain": [
       "1"
      ]
     },
     "execution_count": 47,
     "metadata": {},
     "output_type": "execute_result"
    }
   ],
   "source": [
    "l=[1,2,3,5]\n",
    "min(l)"
   ]
  },
  {
   "cell_type": "code",
   "execution_count": 16,
   "metadata": {},
   "outputs": [],
   "source": [
    "def harver(elem,zipi):\n",
    "    comparator=[]\n",
    "    for a in air:\n",
    "        comparator.append(haversine(elem,a))\n",
    "    return min(comparator)"
   ]
  },
  {
   "cell_type": "code",
   "execution_count": 17,
   "metadata": {},
   "outputs": [],
   "source": [
    "futcol=[]\n",
    "#futcol tiene que tener 99 elemento\n",
    "for i in bus:\n",
    "    futcol.append(harver(i,air))"
   ]
  },
  {
   "cell_type": "code",
   "execution_count": 20,
   "metadata": {},
   "outputs": [],
   "source": [
    "dfair=pd.DataFrame({\"name\":name,\"long\":long1,\"lat\":lat1,\"dis to an airport\":futcol})"
   ]
  },
  {
   "cell_type": "code",
   "execution_count": 31,
   "metadata": {},
   "outputs": [],
   "source": [
    "actuali=list(zip(business,futcol))"
   ]
  },
  {
   "cell_type": "code",
   "execution_count": 35,
   "metadata": {},
   "outputs": [],
   "source": [
    "for i in actuali[:]:\n",
    "    print(i[0])"
   ]
  },
  {
   "cell_type": "code",
   "execution_count": 36,
   "metadata": {},
   "outputs": [],
   "source": [
    "for i in actuali:\n",
    "    value={\"$set\":{'distance':i[1]}}\n",
    "    coll1.update_one(i[0],value)"
   ]
  },
  {
   "cell_type": "code",
   "execution_count": 62,
   "metadata": {},
   "outputs": [
    {
     "data": {
      "text/html": [
       "<div>\n",
       "<style scoped>\n",
       "    .dataframe tbody tr th:only-of-type {\n",
       "        vertical-align: middle;\n",
       "    }\n",
       "\n",
       "    .dataframe tbody tr th {\n",
       "        vertical-align: top;\n",
       "    }\n",
       "\n",
       "    .dataframe thead th {\n",
       "        text-align: right;\n",
       "    }\n",
       "</style>\n",
       "<table border=\"1\" class=\"dataframe\">\n",
       "  <thead>\n",
       "    <tr style=\"text-align: right;\">\n",
       "      <th></th>\n",
       "      <th>name</th>\n",
       "      <th>long</th>\n",
       "      <th>lat</th>\n",
       "      <th>dis to an airport</th>\n",
       "    </tr>\n",
       "  </thead>\n",
       "  <tbody>\n",
       "    <tr>\n",
       "      <th>0</th>\n",
       "      <td>PeekYou</td>\n",
       "      <td>-73.985506</td>\n",
       "      <td>40.757929</td>\n",
       "      <td>9.747112</td>\n",
       "    </tr>\n",
       "    <tr>\n",
       "      <th>1</th>\n",
       "      <td>GENWI</td>\n",
       "      <td>-111.903500</td>\n",
       "      <td>33.817100</td>\n",
       "      <td>43.734956</td>\n",
       "    </tr>\n",
       "    <tr>\n",
       "      <th>2</th>\n",
       "      <td>Fixya</td>\n",
       "      <td>-122.323895</td>\n",
       "      <td>37.566879</td>\n",
       "      <td>7.339122</td>\n",
       "    </tr>\n",
       "    <tr>\n",
       "      <th>3</th>\n",
       "      <td>Widgetbox</td>\n",
       "      <td>-122.398599</td>\n",
       "      <td>37.798853</td>\n",
       "      <td>17.835823</td>\n",
       "    </tr>\n",
       "    <tr>\n",
       "      <th>4</th>\n",
       "      <td>RazorGator</td>\n",
       "      <td>-118.445243</td>\n",
       "      <td>34.047312</td>\n",
       "      <td>12.149767</td>\n",
       "    </tr>\n",
       "    <tr>\n",
       "      <th>...</th>\n",
       "      <td>...</td>\n",
       "      <td>...</td>\n",
       "      <td>...</td>\n",
       "      <td>...</td>\n",
       "    </tr>\n",
       "    <tr>\n",
       "      <th>94</th>\n",
       "      <td>ticketea</td>\n",
       "      <td>-3.706176</td>\n",
       "      <td>40.445515</td>\n",
       "      <td>12.493996</td>\n",
       "    </tr>\n",
       "    <tr>\n",
       "      <th>95</th>\n",
       "      <td>Delphi</td>\n",
       "      <td>-83.161340</td>\n",
       "      <td>42.603532</td>\n",
       "      <td>46.262413</td>\n",
       "    </tr>\n",
       "    <tr>\n",
       "      <th>96</th>\n",
       "      <td>ChallengePost</td>\n",
       "      <td>-74.007170</td>\n",
       "      <td>40.740804</td>\n",
       "      <td>12.035367</td>\n",
       "    </tr>\n",
       "    <tr>\n",
       "      <th>97</th>\n",
       "      <td>Getyoo</td>\n",
       "      <td>4.346472</td>\n",
       "      <td>50.839970</td>\n",
       "      <td>11.848726</td>\n",
       "    </tr>\n",
       "    <tr>\n",
       "      <th>98</th>\n",
       "      <td>Tiny Speck</td>\n",
       "      <td>-123.109217</td>\n",
       "      <td>49.282455</td>\n",
       "      <td>11.244331</td>\n",
       "    </tr>\n",
       "  </tbody>\n",
       "</table>\n",
       "<p>99 rows × 4 columns</p>\n",
       "</div>"
      ],
      "text/plain": [
       "             name        long        lat  dis to an airport\n",
       "0         PeekYou  -73.985506  40.757929           9.747112\n",
       "1           GENWI -111.903500  33.817100          43.734956\n",
       "2           Fixya -122.323895  37.566879           7.339122\n",
       "3       Widgetbox -122.398599  37.798853          17.835823\n",
       "4      RazorGator -118.445243  34.047312          12.149767\n",
       "..            ...         ...        ...                ...\n",
       "94       ticketea   -3.706176  40.445515          12.493996\n",
       "95         Delphi  -83.161340  42.603532          46.262413\n",
       "96  ChallengePost  -74.007170  40.740804          12.035367\n",
       "97         Getyoo    4.346472  50.839970          11.848726\n",
       "98     Tiny Speck -123.109217  49.282455          11.244331\n",
       "\n",
       "[99 rows x 4 columns]"
      ]
     },
     "execution_count": 62,
     "metadata": {},
     "output_type": "execute_result"
    }
   ],
   "source": [
    "dfair"
   ]
  },
  {
   "cell_type": "code",
   "execution_count": 23,
   "metadata": {},
   "outputs": [],
   "source": [
    "export_csv = dfair.to_csv('distoair.csv', index=None, header=True)"
   ]
  },
  {
   "cell_type": "code",
   "execution_count": null,
   "metadata": {},
   "outputs": [],
   "source": [
    "#getAirLoc(airports[0])"
   ]
  },
  {
   "cell_type": "code",
   "execution_count": null,
   "metadata": {},
   "outputs": [],
   "source": [
    "#for air in airports:\n",
    "    #value={\"$set\":{'location':getAirLoc(air)}}\n",
    "    #coll.update_one(air,value)   "
   ]
  },
  {
   "cell_type": "markdown",
   "metadata": {},
   "source": [
    "# GEOQUERIES"
   ]
  },
  {
   "cell_type": "code",
   "execution_count": 10,
   "metadata": {},
   "outputs": [
    {
     "data": {
      "text/plain": [
       "{'type': 'Point', 'coordinates': [-73.985506, 40.757929]}"
      ]
     },
     "execution_count": 10,
     "metadata": {},
     "output_type": "execute_result"
    }
   ],
   "source": [
    "business[0]['location']"
   ]
  },
  {
   "cell_type": "code",
   "execution_count": 20,
   "metadata": {},
   "outputs": [],
   "source": [
    "def geoquery(geoindex,distance,col):\n",
    "    points= col.find(\n",
    "        {\"location\": \n",
    "         {\"$near\": \n",
    "          {\"$geometry\":\n",
    "           geoindex,\n",
    "           \"$maxDistance\":distance\n",
    "            }\n",
    "        }\n",
    "    })\n",
    "    return list(points)\n",
    "#que la función me devuelva la len(list(points))"
   ]
  },
  {
   "cell_type": "code",
   "execution_count": 21,
   "metadata": {},
   "outputs": [],
   "source": [
    "#coll de aeropuertos\n",
    "#coll1 de empresas\n",
    "comparatorDosPuntoCero=[]\n",
    "for bus in business:\n",
    "    comparatorDosPuntoCero.append(geoquery(bus['location'],40000,coll))\n"
   ]
  },
  {
   "cell_type": "code",
   "execution_count": 22,
   "metadata": {},
   "outputs": [
    {
     "name": "stdout",
     "output_type": "stream",
     "text": [
      "99\n"
     ]
    }
   ],
   "source": [
    "numero=[]\n",
    "for i in comparatorDosPuntoCero:\n",
    "    numero.append(len(i))\n",
    "print(len(numero))"
   ]
  },
  {
   "cell_type": "code",
   "execution_count": 17,
   "metadata": {},
   "outputs": [
    {
     "data": {
      "text/html": [
       "<div>\n",
       "<style scoped>\n",
       "    .dataframe tbody tr th:only-of-type {\n",
       "        vertical-align: middle;\n",
       "    }\n",
       "\n",
       "    .dataframe tbody tr th {\n",
       "        vertical-align: top;\n",
       "    }\n",
       "\n",
       "    .dataframe thead th {\n",
       "        text-align: right;\n",
       "    }\n",
       "</style>\n",
       "<table border=\"1\" class=\"dataframe\">\n",
       "  <thead>\n",
       "    <tr style=\"text-align: right;\">\n",
       "      <th></th>\n",
       "      <th>name</th>\n",
       "      <th>long</th>\n",
       "      <th>lat</th>\n",
       "      <th>dis to an airport</th>\n",
       "      <th>range</th>\n",
       "    </tr>\n",
       "  </thead>\n",
       "  <tbody>\n",
       "    <tr>\n",
       "      <th>0</th>\n",
       "      <td>PeekYou</td>\n",
       "      <td>-73.985506</td>\n",
       "      <td>40.757929</td>\n",
       "      <td>9.747112</td>\n",
       "      <td>0-10km</td>\n",
       "    </tr>\n",
       "    <tr>\n",
       "      <th>1</th>\n",
       "      <td>GENWI</td>\n",
       "      <td>-111.903500</td>\n",
       "      <td>33.817100</td>\n",
       "      <td>43.734956</td>\n",
       "      <td>20-50km</td>\n",
       "    </tr>\n",
       "    <tr>\n",
       "      <th>2</th>\n",
       "      <td>Fixya</td>\n",
       "      <td>-122.323895</td>\n",
       "      <td>37.566879</td>\n",
       "      <td>7.339122</td>\n",
       "      <td>0-10km</td>\n",
       "    </tr>\n",
       "    <tr>\n",
       "      <th>3</th>\n",
       "      <td>Widgetbox</td>\n",
       "      <td>-122.398599</td>\n",
       "      <td>37.798853</td>\n",
       "      <td>17.835823</td>\n",
       "      <td>10-20km</td>\n",
       "    </tr>\n",
       "    <tr>\n",
       "      <th>4</th>\n",
       "      <td>RazorGator</td>\n",
       "      <td>-118.445243</td>\n",
       "      <td>34.047312</td>\n",
       "      <td>12.149767</td>\n",
       "      <td>10-20km</td>\n",
       "    </tr>\n",
       "  </tbody>\n",
       "</table>\n",
       "</div>"
      ],
      "text/plain": [
       "         name        long        lat  dis to an airport    range\n",
       "0     PeekYou  -73.985506  40.757929           9.747112   0-10km\n",
       "1       GENWI -111.903500  33.817100          43.734956  20-50km\n",
       "2       Fixya -122.323895  37.566879           7.339122   0-10km\n",
       "3   Widgetbox -122.398599  37.798853          17.835823  10-20km\n",
       "4  RazorGator -118.445243  34.047312          12.149767  10-20km"
      ]
     },
     "execution_count": 17,
     "metadata": {},
     "output_type": "execute_result"
    }
   ],
   "source": [
    "#traer la columna NO SORTED\n",
    "data = pd.read_csv(\"punctuation.csv\") \n",
    "data.head()"
   ]
  },
  {
   "cell_type": "code",
   "execution_count": 23,
   "metadata": {},
   "outputs": [],
   "source": [
    "data[\"airports 40km\"]=numero"
   ]
  },
  {
   "cell_type": "code",
   "execution_count": 24,
   "metadata": {},
   "outputs": [
    {
     "data": {
      "text/html": [
       "<div>\n",
       "<style scoped>\n",
       "    .dataframe tbody tr th:only-of-type {\n",
       "        vertical-align: middle;\n",
       "    }\n",
       "\n",
       "    .dataframe tbody tr th {\n",
       "        vertical-align: top;\n",
       "    }\n",
       "\n",
       "    .dataframe thead th {\n",
       "        text-align: right;\n",
       "    }\n",
       "</style>\n",
       "<table border=\"1\" class=\"dataframe\">\n",
       "  <thead>\n",
       "    <tr style=\"text-align: right;\">\n",
       "      <th></th>\n",
       "      <th>name</th>\n",
       "      <th>long</th>\n",
       "      <th>lat</th>\n",
       "      <th>dis to an airport</th>\n",
       "      <th>range</th>\n",
       "      <th>airports 10km</th>\n",
       "      <th>airports 40km</th>\n",
       "    </tr>\n",
       "  </thead>\n",
       "  <tbody>\n",
       "    <tr>\n",
       "      <th>0</th>\n",
       "      <td>PeekYou</td>\n",
       "      <td>-73.985506</td>\n",
       "      <td>40.757929</td>\n",
       "      <td>9.747112</td>\n",
       "      <td>0-10km</td>\n",
       "      <td>1</td>\n",
       "      <td>3</td>\n",
       "    </tr>\n",
       "    <tr>\n",
       "      <th>1</th>\n",
       "      <td>GENWI</td>\n",
       "      <td>-111.903500</td>\n",
       "      <td>33.817100</td>\n",
       "      <td>43.734956</td>\n",
       "      <td>20-50km</td>\n",
       "      <td>0</td>\n",
       "      <td>0</td>\n",
       "    </tr>\n",
       "    <tr>\n",
       "      <th>2</th>\n",
       "      <td>Fixya</td>\n",
       "      <td>-122.323895</td>\n",
       "      <td>37.566879</td>\n",
       "      <td>7.339122</td>\n",
       "      <td>0-10km</td>\n",
       "      <td>1</td>\n",
       "      <td>2</td>\n",
       "    </tr>\n",
       "    <tr>\n",
       "      <th>3</th>\n",
       "      <td>Widgetbox</td>\n",
       "      <td>-122.398599</td>\n",
       "      <td>37.798853</td>\n",
       "      <td>17.835823</td>\n",
       "      <td>10-20km</td>\n",
       "      <td>0</td>\n",
       "      <td>2</td>\n",
       "    </tr>\n",
       "    <tr>\n",
       "      <th>4</th>\n",
       "      <td>RazorGator</td>\n",
       "      <td>-118.445243</td>\n",
       "      <td>34.047312</td>\n",
       "      <td>12.149767</td>\n",
       "      <td>10-20km</td>\n",
       "      <td>0</td>\n",
       "      <td>1</td>\n",
       "    </tr>\n",
       "  </tbody>\n",
       "</table>\n",
       "</div>"
      ],
      "text/plain": [
       "         name        long        lat  dis to an airport    range  \\\n",
       "0     PeekYou  -73.985506  40.757929           9.747112   0-10km   \n",
       "1       GENWI -111.903500  33.817100          43.734956  20-50km   \n",
       "2       Fixya -122.323895  37.566879           7.339122   0-10km   \n",
       "3   Widgetbox -122.398599  37.798853          17.835823  10-20km   \n",
       "4  RazorGator -118.445243  34.047312          12.149767  10-20km   \n",
       "\n",
       "   airports 10km  airports 40km  \n",
       "0              1              3  \n",
       "1              0              0  \n",
       "2              1              2  \n",
       "3              0              2  \n",
       "4              0              1  "
      ]
     },
     "execution_count": 24,
     "metadata": {},
     "output_type": "execute_result"
    }
   ],
   "source": [
    "data.head()"
   ]
  },
  {
   "cell_type": "code",
   "execution_count": null,
   "metadata": {},
   "outputs": [],
   "source": []
  }
 ],
 "metadata": {
  "kernelspec": {
   "display_name": "Python 3",
   "language": "python",
   "name": "python3"
  },
  "language_info": {
   "codemirror_mode": {
    "name": "ipython",
    "version": 3
   },
   "file_extension": ".py",
   "mimetype": "text/x-python",
   "name": "python",
   "nbconvert_exporter": "python",
   "pygments_lexer": "ipython3",
   "version": "3.7.5rc1"
  }
 },
 "nbformat": 4,
 "nbformat_minor": 2
}
