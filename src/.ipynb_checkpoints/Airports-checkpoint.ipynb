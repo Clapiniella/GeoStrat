{
 "cells": [
  {
   "cell_type": "code",
   "execution_count": 13,
   "metadata": {},
   "outputs": [],
   "source": [
    "import pandas as pd\n",
    "from pymongo import MongoClient\n",
    "import re\n",
    "from haversine import haversine"
   ]
  },
  {
   "cell_type": "code",
   "execution_count": 12,
   "metadata": {},
   "outputs": [
    {
     "name": "stdout",
     "output_type": "stream",
     "text": [
      "Collecting haversine\n",
      "  Downloading https://files.pythonhosted.org/packages/d7/26/78d4fadc73b7e4c3543f9d5401892cb9a3f4202be789984826033922ec5a/haversine-2.1.2-py2.py3-none-any.whl\n",
      "Installing collected packages: haversine\n",
      "Successfully installed haversine-2.1.2\n"
     ]
    }
   ],
   "source": [
    "!pip3 install --user haversine"
   ]
  },
  {
   "cell_type": "code",
   "execution_count": 2,
   "metadata": {},
   "outputs": [],
   "source": [
    "def connectCollection(database, collection):\n",
    "    client = MongoClient()\n",
    "    db = client[database]\n",
    "    coll = db[collection]\n",
    "    return db, coll"
   ]
  },
  {
   "cell_type": "code",
   "execution_count": 3,
   "metadata": {},
   "outputs": [],
   "source": [
    "db, coll = connectCollection('companies','airports')\n",
    "db, coll1 = connectCollection('companies','preferred')"
   ]
  },
  {
   "cell_type": "code",
   "execution_count": 4,
   "metadata": {},
   "outputs": [],
   "source": [
    "airports = list(coll.find({\"type\": 'large_airport'}))"
   ]
  },
  {
   "cell_type": "code",
   "execution_count": 5,
   "metadata": {},
   "outputs": [],
   "source": [
    "business = list(coll1.find({\"$and\":[{\"money_raised\":{\"$ne\":\"$0\"}},{\"year\":{\"$gte\":2009}}]}))"
   ]
  },
  {
   "cell_type": "code",
   "execution_count": null,
   "metadata": {},
   "outputs": [],
   "source": [
    "'''\n",
    "import re\n",
    "for noMatch in db.inventory.find( { \"item\": { \"$not\": re.compile(\"^p.*\") } } ):\n",
    "    print noMatch\n",
    "'''"
   ]
  },
  {
   "cell_type": "code",
   "execution_count": 6,
   "metadata": {},
   "outputs": [
    {
     "name": "stdout",
     "output_type": "stream",
     "text": [
      "614\n"
     ]
    }
   ],
   "source": [
    "print(len(airports))"
   ]
  },
  {
   "cell_type": "code",
   "execution_count": 7,
   "metadata": {},
   "outputs": [
    {
     "name": "stdout",
     "output_type": "stream",
     "text": [
      "99\n"
     ]
    }
   ],
   "source": [
    "print(len(business))"
   ]
  },
  {
   "cell_type": "code",
   "execution_count": 9,
   "metadata": {},
   "outputs": [
    {
     "data": {
      "text/plain": [
       "{'_id': ObjectId('5dd05cc6754df22b96b8c84b'),\n",
       " 'Id': '52cdef7c4bab8bd675297f94',\n",
       " 'name': 'PeekYou',\n",
       " 'category': 'search',\n",
       " 'description': '',\n",
       " 'long': -73.985506,\n",
       " 'year': 2012,\n",
       " 'money_raised': '$1.83M',\n",
       " 'location': {'type': 'Point', 'coordinates': [-73.985506, 40.757929]}}"
      ]
     },
     "execution_count": 9,
     "metadata": {},
     "output_type": "execute_result"
    }
   ],
   "source": [
    "business[0]"
   ]
  },
  {
   "cell_type": "code",
   "execution_count": 17,
   "metadata": {},
   "outputs": [
    {
     "data": {
      "text/plain": [
       "-73.985506"
      ]
     },
     "execution_count": 17,
     "metadata": {},
     "output_type": "execute_result"
    }
   ],
   "source": [
    "business[0]['location']['coordinates'][0]"
   ]
  },
  {
   "cell_type": "code",
   "execution_count": 58,
   "metadata": {},
   "outputs": [],
   "source": [
    "name=[]\n",
    "for bus in business:\n",
    "    name.append(bus['name'])\n",
    "    "
   ]
  },
  {
   "cell_type": "code",
   "execution_count": 18,
   "metadata": {},
   "outputs": [
    {
     "data": {
      "text/plain": [
       "40.757929"
      ]
     },
     "execution_count": 18,
     "metadata": {},
     "output_type": "execute_result"
    }
   ],
   "source": [
    "business[0]['location']['coordinates'][1]"
   ]
  },
  {
   "cell_type": "code",
   "execution_count": 8,
   "metadata": {},
   "outputs": [
    {
     "data": {
      "text/plain": [
       "{'_id': ObjectId('5dd2e1992519448a75e6bc9a'),\n",
       " 'id': 67,\n",
       " 'ident': 'AYPY',\n",
       " 'type': 'large_airport',\n",
       " 'name': 'Port Moresby Jacksons International Airport',\n",
       " 'latitude_deg': -9.443380355834961,\n",
       " 'longitude_deg': 147.22000122070312,\n",
       " 'elevation_ft': 146,\n",
       " 'continent': 'OC',\n",
       " 'iso_country': 'PG',\n",
       " 'iso_region': 'PG-NCD',\n",
       " 'municipality': 'Port Moresby',\n",
       " 'scheduled_service': 'yes',\n",
       " 'gps_code': 'AYPY',\n",
       " 'iata_code': 'POM',\n",
       " 'local_code': '',\n",
       " 'home_link': '',\n",
       " 'wikipedia_link': 'https://en.wikipedia.org/wiki/Jacksons_International_Airport',\n",
       " 'keywords': '',\n",
       " 'location': {'type': 'Point',\n",
       "  'coordinates': [147.22000122070312, -9.443380355834961]}}"
      ]
     },
     "execution_count": 8,
     "metadata": {},
     "output_type": "execute_result"
    }
   ],
   "source": [
    "airports[0]"
   ]
  },
  {
   "cell_type": "code",
   "execution_count": 15,
   "metadata": {},
   "outputs": [
    {
     "data": {
      "text/plain": [
       "147.22000122070312"
      ]
     },
     "execution_count": 15,
     "metadata": {},
     "output_type": "execute_result"
    }
   ],
   "source": [
    "#long 0\n",
    "airports[0]['location']['coordinates'][0]"
   ]
  },
  {
   "cell_type": "code",
   "execution_count": 16,
   "metadata": {},
   "outputs": [
    {
     "data": {
      "text/plain": [
       "-9.443380355834961"
      ]
     },
     "execution_count": 16,
     "metadata": {},
     "output_type": "execute_result"
    }
   ],
   "source": [
    "#lat 1\n",
    "airports[0]['location']['coordinates'][1]"
   ]
  },
  {
   "cell_type": "code",
   "execution_count": 21,
   "metadata": {},
   "outputs": [],
   "source": [
    "def getcoord(query,lat,long):\n",
    "    for que in query: \n",
    "        lat.append(que['location']['coordinates'][1])\n",
    "        long.append(que['location']['coordinates'][0])\n",
    "    return len(lat),len(long)       "
   ]
  },
  {
   "cell_type": "code",
   "execution_count": 22,
   "metadata": {},
   "outputs": [
    {
     "data": {
      "text/plain": [
       "(99, 99)"
      ]
     },
     "execution_count": 22,
     "metadata": {},
     "output_type": "execute_result"
    }
   ],
   "source": [
    "lat1=[]\n",
    "long1=[]\n",
    "getcoord(business,lat1,long1)"
   ]
  },
  {
   "cell_type": "code",
   "execution_count": 27,
   "metadata": {},
   "outputs": [],
   "source": [
    "bus=list(zip(lat1,long1))"
   ]
  },
  {
   "cell_type": "code",
   "execution_count": 28,
   "metadata": {},
   "outputs": [
    {
     "data": {
      "text/plain": [
       "(40.757929, -73.985506)"
      ]
     },
     "execution_count": 28,
     "metadata": {},
     "output_type": "execute_result"
    }
   ],
   "source": [
    "bus[0]"
   ]
  },
  {
   "cell_type": "code",
   "execution_count": 23,
   "metadata": {},
   "outputs": [
    {
     "data": {
      "text/plain": [
       "(614, 614)"
      ]
     },
     "execution_count": 23,
     "metadata": {},
     "output_type": "execute_result"
    }
   ],
   "source": [
    "lat2=[]\n",
    "long2=[]\n",
    "getcoord(airports,lat2,long2)"
   ]
  },
  {
   "cell_type": "code",
   "execution_count": 29,
   "metadata": {},
   "outputs": [],
   "source": [
    "air=list(zip(lat2,long2))"
   ]
  },
  {
   "cell_type": "code",
   "execution_count": 30,
   "metadata": {},
   "outputs": [
    {
     "data": {
      "text/plain": [
       "(-9.443380355834961, 147.22000122070312)"
      ]
     },
     "execution_count": 30,
     "metadata": {},
     "output_type": "execute_result"
    }
   ],
   "source": [
    "air[0]"
   ]
  },
  {
   "cell_type": "code",
   "execution_count": 31,
   "metadata": {},
   "outputs": [],
   "source": [
    "# (lat, lon)\n",
    "#haversine((45.7597, 4.8422),(48.8567, 2.3508))\n",
    "#243.71209416020253"
   ]
  },
  {
   "cell_type": "code",
   "execution_count": 47,
   "metadata": {},
   "outputs": [
    {
     "data": {
      "text/plain": [
       "1"
      ]
     },
     "execution_count": 47,
     "metadata": {},
     "output_type": "execute_result"
    }
   ],
   "source": [
    "l=[1,2,3,5]\n",
    "min(l)"
   ]
  },
  {
   "cell_type": "code",
   "execution_count": 54,
   "metadata": {},
   "outputs": [],
   "source": [
    "def harver(elem,zipi):\n",
    "    comparator=[]\n",
    "    for a in air:\n",
    "        comparator.append(haversine(elem,a))\n",
    "    return min(comparator)"
   ]
  },
  {
   "cell_type": "code",
   "execution_count": 55,
   "metadata": {},
   "outputs": [],
   "source": [
    "futcol=[]\n",
    "#futcol tiene que tener 99 elemento\n",
    "for i in bus:\n",
    "    futcol.append(harver(i,air))"
   ]
  },
  {
   "cell_type": "code",
   "execution_count": 61,
   "metadata": {},
   "outputs": [],
   "source": [
    "dfair=pd.DataFrame({\"name\":name,\"long\":long1,\"lat\":lat1,\"dis to an airport\":futcol})"
   ]
  },
  {
   "cell_type": "code",
   "execution_count": null,
   "metadata": {},
   "outputs": [],
   "source": [
    "#mirar HOY\n",
    "for bus in business:\n",
    "    value={\"$set\":{'distance to an airport':}}\n",
    "    coll.update_one(bus,value)"
   ]
  },
  {
   "cell_type": "code",
   "execution_count": 62,
   "metadata": {},
   "outputs": [
    {
     "data": {
      "text/html": [
       "<div>\n",
       "<style scoped>\n",
       "    .dataframe tbody tr th:only-of-type {\n",
       "        vertical-align: middle;\n",
       "    }\n",
       "\n",
       "    .dataframe tbody tr th {\n",
       "        vertical-align: top;\n",
       "    }\n",
       "\n",
       "    .dataframe thead th {\n",
       "        text-align: right;\n",
       "    }\n",
       "</style>\n",
       "<table border=\"1\" class=\"dataframe\">\n",
       "  <thead>\n",
       "    <tr style=\"text-align: right;\">\n",
       "      <th></th>\n",
       "      <th>name</th>\n",
       "      <th>long</th>\n",
       "      <th>lat</th>\n",
       "      <th>dis to an airport</th>\n",
       "    </tr>\n",
       "  </thead>\n",
       "  <tbody>\n",
       "    <tr>\n",
       "      <th>0</th>\n",
       "      <td>PeekYou</td>\n",
       "      <td>-73.985506</td>\n",
       "      <td>40.757929</td>\n",
       "      <td>9.747112</td>\n",
       "    </tr>\n",
       "    <tr>\n",
       "      <th>1</th>\n",
       "      <td>GENWI</td>\n",
       "      <td>-111.903500</td>\n",
       "      <td>33.817100</td>\n",
       "      <td>43.734956</td>\n",
       "    </tr>\n",
       "    <tr>\n",
       "      <th>2</th>\n",
       "      <td>Fixya</td>\n",
       "      <td>-122.323895</td>\n",
       "      <td>37.566879</td>\n",
       "      <td>7.339122</td>\n",
       "    </tr>\n",
       "    <tr>\n",
       "      <th>3</th>\n",
       "      <td>Widgetbox</td>\n",
       "      <td>-122.398599</td>\n",
       "      <td>37.798853</td>\n",
       "      <td>17.835823</td>\n",
       "    </tr>\n",
       "    <tr>\n",
       "      <th>4</th>\n",
       "      <td>RazorGator</td>\n",
       "      <td>-118.445243</td>\n",
       "      <td>34.047312</td>\n",
       "      <td>12.149767</td>\n",
       "    </tr>\n",
       "    <tr>\n",
       "      <th>...</th>\n",
       "      <td>...</td>\n",
       "      <td>...</td>\n",
       "      <td>...</td>\n",
       "      <td>...</td>\n",
       "    </tr>\n",
       "    <tr>\n",
       "      <th>94</th>\n",
       "      <td>ticketea</td>\n",
       "      <td>-3.706176</td>\n",
       "      <td>40.445515</td>\n",
       "      <td>12.493996</td>\n",
       "    </tr>\n",
       "    <tr>\n",
       "      <th>95</th>\n",
       "      <td>Delphi</td>\n",
       "      <td>-83.161340</td>\n",
       "      <td>42.603532</td>\n",
       "      <td>46.262413</td>\n",
       "    </tr>\n",
       "    <tr>\n",
       "      <th>96</th>\n",
       "      <td>ChallengePost</td>\n",
       "      <td>-74.007170</td>\n",
       "      <td>40.740804</td>\n",
       "      <td>12.035367</td>\n",
       "    </tr>\n",
       "    <tr>\n",
       "      <th>97</th>\n",
       "      <td>Getyoo</td>\n",
       "      <td>4.346472</td>\n",
       "      <td>50.839970</td>\n",
       "      <td>11.848726</td>\n",
       "    </tr>\n",
       "    <tr>\n",
       "      <th>98</th>\n",
       "      <td>Tiny Speck</td>\n",
       "      <td>-123.109217</td>\n",
       "      <td>49.282455</td>\n",
       "      <td>11.244331</td>\n",
       "    </tr>\n",
       "  </tbody>\n",
       "</table>\n",
       "<p>99 rows × 4 columns</p>\n",
       "</div>"
      ],
      "text/plain": [
       "             name        long        lat  dis to an airport\n",
       "0         PeekYou  -73.985506  40.757929           9.747112\n",
       "1           GENWI -111.903500  33.817100          43.734956\n",
       "2           Fixya -122.323895  37.566879           7.339122\n",
       "3       Widgetbox -122.398599  37.798853          17.835823\n",
       "4      RazorGator -118.445243  34.047312          12.149767\n",
       "..            ...         ...        ...                ...\n",
       "94       ticketea   -3.706176  40.445515          12.493996\n",
       "95         Delphi  -83.161340  42.603532          46.262413\n",
       "96  ChallengePost  -74.007170  40.740804          12.035367\n",
       "97         Getyoo    4.346472  50.839970          11.848726\n",
       "98     Tiny Speck -123.109217  49.282455          11.244331\n",
       "\n",
       "[99 rows x 4 columns]"
      ]
     },
     "execution_count": 62,
     "metadata": {},
     "output_type": "execute_result"
    }
   ],
   "source": [
    "dfair"
   ]
  },
  {
   "cell_type": "code",
   "execution_count": null,
   "metadata": {},
   "outputs": [],
   "source": [
    "'''\n",
    "def getAirLoc(off):\n",
    "    longitude = off['longitude_deg']\n",
    "    latitude = off['latitude_deg']\n",
    "    loc=({\n",
    "        'type':'Point',\n",
    "        'coordinates':[longitude,latitude]\n",
    "    })\n",
    "    return loc\n",
    "'''"
   ]
  },
  {
   "cell_type": "code",
   "execution_count": null,
   "metadata": {},
   "outputs": [],
   "source": [
    "#getAirLoc(airports[0])"
   ]
  },
  {
   "cell_type": "code",
   "execution_count": null,
   "metadata": {},
   "outputs": [],
   "source": [
    "#for air in airports:\n",
    "    #value={\"$set\":{'location':getAirLoc(air)}}\n",
    "    #coll.update_one(air,value)   "
   ]
  },
  {
   "cell_type": "code",
   "execution_count": null,
   "metadata": {},
   "outputs": [],
   "source": []
  }
 ],
 "metadata": {
  "kernelspec": {
   "display_name": "Python 3",
   "language": "python",
   "name": "python3"
  },
  "language_info": {
   "codemirror_mode": {
    "name": "ipython",
    "version": 3
   },
   "file_extension": ".py",
   "mimetype": "text/x-python",
   "name": "python",
   "nbconvert_exporter": "python",
   "pygments_lexer": "ipython3",
   "version": "3.7.5rc1"
  }
 },
 "nbformat": 4,
 "nbformat_minor": 2
}
