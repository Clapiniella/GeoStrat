{
 "cells": [
  {
   "cell_type": "code",
   "execution_count": 5,
   "metadata": {},
   "outputs": [],
   "source": [
    "import googlemaps\n",
    "from datetime import datetime\n",
    "import os\n",
    "from dotenv import load_dotenv\n",
    "load_dotenv()\n",
    "import requests, json \n",
    "import pandas as pd\n",
    "from pymongo import MongoClient\n",
    "import time"
   ]
  },
  {
   "cell_type": "code",
   "execution_count": 6,
   "metadata": {},
   "outputs": [],
   "source": [
    "def connectCollection(database, collection):\n",
    "    client = MongoClient()\n",
    "    db = client[database]\n",
    "    coll = db[collection]\n",
    "    return db, coll"
   ]
  },
  {
   "cell_type": "code",
   "execution_count": 60,
   "metadata": {},
   "outputs": [],
   "source": [
    "#para crear nuevas collections\n",
    "myclient = MongoClient(\"mongodb://localhost/\")\n",
    "mydb = myclient[\"companies\"]\n",
    "mycol = mydb[\"schools\"]\n",
    "#para importar el contenido de un csv a mongo\n",
    "#mongoimport --db companies --collection kindergarten --type csv --file kindergarten.csv --headerline"
   ]
  },
  {
   "cell_type": "code",
   "execution_count": 30,
   "metadata": {},
   "outputs": [],
   "source": [
    "#https://stackoverflow.com/questions/5681851/mongodb-combine-data-from-multiple-collections-into-one-how"
   ]
  },
  {
   "cell_type": "code",
   "execution_count": 8,
   "metadata": {},
   "outputs": [],
   "source": [
    "db, coll = connectCollection('companies','preferred')"
   ]
  },
  {
   "cell_type": "code",
   "execution_count": 9,
   "metadata": {},
   "outputs": [],
   "source": [
    "#stars = list(coll.find{\"location\": {\"$exists\": False }}))"
   ]
  },
  {
   "cell_type": "code",
   "execution_count": 10,
   "metadata": {},
   "outputs": [],
   "source": [
    "business = list(coll.find({\"$and\":[{\"money_raised\":{\"$ne\":\"$0\"}},{\"year\":{\"$gte\":2009}}]}))"
   ]
  },
  {
   "cell_type": "code",
   "execution_count": 11,
   "metadata": {},
   "outputs": [
    {
     "name": "stdout",
     "output_type": "stream",
     "text": [
      "99\n"
     ]
    }
   ],
   "source": [
    "print(len(business))"
   ]
  },
  {
   "cell_type": "code",
   "execution_count": 35,
   "metadata": {},
   "outputs": [
    {
     "data": {
      "text/plain": [
       "\"\\ngmaps = googlemaps.Client(key=os.getenv('API_KEY'))\\ngeocode_result = gmaps.places('starbucks palo alto')\\n\""
      ]
     },
     "execution_count": 35,
     "metadata": {},
     "output_type": "execute_result"
    }
   ],
   "source": [
    "'''\n",
    "gmaps = googlemaps.Client(key=os.getenv('API_KEY'))\n",
    "geocode_result = gmaps.places('starbucks palo alto')\n",
    "'''"
   ]
  },
  {
   "cell_type": "code",
   "execution_count": 36,
   "metadata": {},
   "outputs": [
    {
     "data": {
      "text/plain": [
       "\"\\nfor i in range(len(y)): \\n        results.append((y[i]['name'],y[i]['formatted_address'],y[i]['geometry']['location']))\\n\""
      ]
     },
     "execution_count": 36,
     "metadata": {},
     "output_type": "execute_result"
    }
   ],
   "source": [
    "'''\n",
    "for i in range(len(y)): \n",
    "        results.append((y[i]['name'],y[i]['formatted_address'],y[i]['geometry']['location']))\n",
    "'''"
   ]
  },
  {
   "cell_type": "code",
   "execution_count": 10,
   "metadata": {},
   "outputs": [],
   "source": [
    "#location=-33.8670522,151.1957362&radius=1500&type=restaurant&keyword=cruise&key=YOUR_API_KEY"
   ]
  },
  {
   "cell_type": "code",
   "execution_count": 12,
   "metadata": {},
   "outputs": [],
   "source": [
    "#query = \"{}location={},{}&radius={}&type={}&keyword=cruise&key={api_key}\".format(url,lat,long,radius,what,api_key)"
   ]
  },
  {
   "cell_type": "code",
   "execution_count": 12,
   "metadata": {},
   "outputs": [],
   "source": [
    "def search_places_by_coordinate(location, radius, keyword):\n",
    "        url = \"https://maps.googleapis.com/maps/api/place/nearbysearch/json\"\n",
    "        places = []\n",
    "        params = {\n",
    "            'location': location,\n",
    "            'radius': radius,\n",
    "            'keyword': keyword,\n",
    "            'key': os.getenv(\"API_KEY\")\n",
    "        }\n",
    "        res = requests.get(url, params = params)\n",
    "        results =  json.loads(res.content)\n",
    "        places.extend(results['results'])\n",
    "        while \"next_page_token\" in results:\n",
    "            params['pagetoken'] = results['next_page_token'],\n",
    "            res = requests.get(url, params = params)\n",
    "            results = json.loads(res.content)\n",
    "            places.extend(results['results'])\n",
    "        return places"
   ]
  },
  {
   "cell_type": "code",
   "execution_count": 21,
   "metadata": {},
   "outputs": [],
   "source": [
    "#encontrar la función que saca la lat y long"
   ]
  },
  {
   "cell_type": "code",
   "execution_count": 13,
   "metadata": {},
   "outputs": [],
   "source": [
    "def getcoord(query, lat, long):\n",
    "    for que in query: \n",
    "        lat.append(que['location']['coordinates'][1])\n",
    "        long.append(que['location']['coordinates'][0])\n",
    "    return len(lat),len(long)   "
   ]
  },
  {
   "cell_type": "code",
   "execution_count": 14,
   "metadata": {},
   "outputs": [
    {
     "data": {
      "text/plain": [
       "(99, 99)"
      ]
     },
     "execution_count": 14,
     "metadata": {},
     "output_type": "execute_result"
    }
   ],
   "source": [
    "lat=[]\n",
    "long=[]\n",
    "getcoord(business,lat,long)"
   ]
  },
  {
   "cell_type": "code",
   "execution_count": 15,
   "metadata": {},
   "outputs": [],
   "source": [
    "lista=[]\n",
    "busines=list(zip(lat,long))"
   ]
  },
  {
   "cell_type": "code",
   "execution_count": 16,
   "metadata": {},
   "outputs": [],
   "source": [
    "for i in busines:\n",
    "    lista.append(\"{},{}\".format(i[0],i[1]))"
   ]
  },
  {
   "cell_type": "code",
   "execution_count": 50,
   "metadata": {},
   "outputs": [
    {
     "name": "stdout",
     "output_type": "stream",
     "text": [
      "137.12168312072754\n"
     ]
    }
   ],
   "source": [
    "start=time.time()\n",
    "results=[]\n",
    "for i in lista:    \n",
    "    results.append(search_places_by_coordinate(i, \"2000\", \"pub\"))\n",
    "end=time.time()\n",
    "print(end - start)"
   ]
  },
  {
   "cell_type": "code",
   "execution_count": 51,
   "metadata": {},
   "outputs": [
    {
     "data": {
      "text/plain": [
       "40.7649588"
      ]
     },
     "execution_count": 51,
     "metadata": {},
     "output_type": "execute_result"
    }
   ],
   "source": [
    "results[0][0]['geometry']['location']['lat']"
   ]
  },
  {
   "cell_type": "code",
   "execution_count": 52,
   "metadata": {},
   "outputs": [
    {
     "data": {
      "text/plain": [
       "'Wirströms Pub'"
      ]
     },
     "execution_count": 52,
     "metadata": {},
     "output_type": "execute_result"
    }
   ],
   "source": [
    "results[18][0]['name']"
   ]
  },
  {
   "cell_type": "code",
   "execution_count": 53,
   "metadata": {},
   "outputs": [
    {
     "data": {
      "text/plain": [
       "20"
      ]
     },
     "execution_count": 53,
     "metadata": {},
     "output_type": "execute_result"
    }
   ],
   "source": [
    "len(results[89])"
   ]
  },
  {
   "cell_type": "code",
   "execution_count": 54,
   "metadata": {},
   "outputs": [],
   "source": [
    "def createApiDf(query):\n",
    "    name=[]\n",
    "    long=[]\n",
    "    lat=[]\n",
    "    for location in query:\n",
    "        for starbucks in location:\n",
    "            name.append(starbucks['name'])\n",
    "            long.append(starbucks['geometry']['location']['lng'])\n",
    "            lat.append(starbucks['geometry']['location']['lat'])\n",
    "    dic2={\"name\":name,\"long\":long,\"lat\":lat}\n",
    "    lil_DF=pd.DataFrame(dic2)\n",
    "    return lil_DF "
   ]
  },
  {
   "cell_type": "code",
   "execution_count": 55,
   "metadata": {},
   "outputs": [
    {
     "data": {
      "text/html": [
       "<div>\n",
       "<style scoped>\n",
       "    .dataframe tbody tr th:only-of-type {\n",
       "        vertical-align: middle;\n",
       "    }\n",
       "\n",
       "    .dataframe tbody tr th {\n",
       "        vertical-align: top;\n",
       "    }\n",
       "\n",
       "    .dataframe thead th {\n",
       "        text-align: right;\n",
       "    }\n",
       "</style>\n",
       "<table border=\"1\" class=\"dataframe\">\n",
       "  <thead>\n",
       "    <tr style=\"text-align: right;\">\n",
       "      <th></th>\n",
       "      <th>name</th>\n",
       "      <th>long</th>\n",
       "      <th>lat</th>\n",
       "    </tr>\n",
       "  </thead>\n",
       "  <tbody>\n",
       "    <tr>\n",
       "      <th>0</th>\n",
       "      <td>McGee's pub.</td>\n",
       "      <td>-73.982874</td>\n",
       "      <td>40.764959</td>\n",
       "    </tr>\n",
       "    <tr>\n",
       "      <th>1</th>\n",
       "      <td>The Irish Pub</td>\n",
       "      <td>-73.981356</td>\n",
       "      <td>40.763262</td>\n",
       "    </tr>\n",
       "    <tr>\n",
       "      <th>2</th>\n",
       "      <td>O'Reilly's Pub</td>\n",
       "      <td>-73.988872</td>\n",
       "      <td>40.747580</td>\n",
       "    </tr>\n",
       "    <tr>\n",
       "      <th>3</th>\n",
       "      <td>Playwright Celtic Pub</td>\n",
       "      <td>-73.988032</td>\n",
       "      <td>40.759381</td>\n",
       "    </tr>\n",
       "    <tr>\n",
       "      <th>4</th>\n",
       "      <td>O'Lunney's</td>\n",
       "      <td>-73.984334</td>\n",
       "      <td>40.757641</td>\n",
       "    </tr>\n",
       "    <tr>\n",
       "      <th>...</th>\n",
       "      <td>...</td>\n",
       "      <td>...</td>\n",
       "      <td>...</td>\n",
       "    </tr>\n",
       "    <tr>\n",
       "      <th>1654</th>\n",
       "      <td>London Pub</td>\n",
       "      <td>-123.099576</td>\n",
       "      <td>49.278461</td>\n",
       "    </tr>\n",
       "    <tr>\n",
       "      <th>1655</th>\n",
       "      <td>The Fountainhead Pub</td>\n",
       "      <td>-123.129690</td>\n",
       "      <td>49.279683</td>\n",
       "    </tr>\n",
       "    <tr>\n",
       "      <th>1656</th>\n",
       "      <td>St Regis Bar and Grill</td>\n",
       "      <td>-123.115944</td>\n",
       "      <td>49.283176</td>\n",
       "    </tr>\n",
       "    <tr>\n",
       "      <th>1657</th>\n",
       "      <td>Cardero's Restaurant</td>\n",
       "      <td>-123.127482</td>\n",
       "      <td>49.291610</td>\n",
       "    </tr>\n",
       "    <tr>\n",
       "      <th>1658</th>\n",
       "      <td>Johnnie Fox's Irish Snug</td>\n",
       "      <td>-123.123771</td>\n",
       "      <td>49.278983</td>\n",
       "    </tr>\n",
       "  </tbody>\n",
       "</table>\n",
       "<p>1659 rows × 3 columns</p>\n",
       "</div>"
      ],
      "text/plain": [
       "                          name        long        lat\n",
       "0                 McGee's pub.  -73.982874  40.764959\n",
       "1                The Irish Pub  -73.981356  40.763262\n",
       "2               O'Reilly's Pub  -73.988872  40.747580\n",
       "3        Playwright Celtic Pub  -73.988032  40.759381\n",
       "4                   O'Lunney's  -73.984334  40.757641\n",
       "...                        ...         ...        ...\n",
       "1654                London Pub -123.099576  49.278461\n",
       "1655      The Fountainhead Pub -123.129690  49.279683\n",
       "1656    St Regis Bar and Grill -123.115944  49.283176\n",
       "1657      Cardero's Restaurant -123.127482  49.291610\n",
       "1658  Johnnie Fox's Irish Snug -123.123771  49.278983\n",
       "\n",
       "[1659 rows x 3 columns]"
      ]
     },
     "execution_count": 55,
     "metadata": {},
     "output_type": "execute_result"
    }
   ],
   "source": [
    "df_molona = createApiDf(results)\n",
    "df_molona"
   ]
  },
  {
   "cell_type": "code",
   "execution_count": 56,
   "metadata": {},
   "outputs": [
    {
     "data": {
      "text/html": [
       "<div>\n",
       "<style scoped>\n",
       "    .dataframe tbody tr th:only-of-type {\n",
       "        vertical-align: middle;\n",
       "    }\n",
       "\n",
       "    .dataframe tbody tr th {\n",
       "        vertical-align: top;\n",
       "    }\n",
       "\n",
       "    .dataframe thead th {\n",
       "        text-align: right;\n",
       "    }\n",
       "</style>\n",
       "<table border=\"1\" class=\"dataframe\">\n",
       "  <thead>\n",
       "    <tr style=\"text-align: right;\">\n",
       "      <th></th>\n",
       "      <th>name</th>\n",
       "      <th>long</th>\n",
       "      <th>lat</th>\n",
       "    </tr>\n",
       "  </thead>\n",
       "  <tbody>\n",
       "    <tr>\n",
       "      <th>0</th>\n",
       "      <td>McGee's pub.</td>\n",
       "      <td>-73.982874</td>\n",
       "      <td>40.764959</td>\n",
       "    </tr>\n",
       "    <tr>\n",
       "      <th>1</th>\n",
       "      <td>The Irish Pub</td>\n",
       "      <td>-73.981356</td>\n",
       "      <td>40.763262</td>\n",
       "    </tr>\n",
       "    <tr>\n",
       "      <th>2</th>\n",
       "      <td>O'Reilly's Pub</td>\n",
       "      <td>-73.988872</td>\n",
       "      <td>40.747580</td>\n",
       "    </tr>\n",
       "    <tr>\n",
       "      <th>3</th>\n",
       "      <td>Playwright Celtic Pub</td>\n",
       "      <td>-73.988032</td>\n",
       "      <td>40.759381</td>\n",
       "    </tr>\n",
       "    <tr>\n",
       "      <th>4</th>\n",
       "      <td>O'Lunney's</td>\n",
       "      <td>-73.984334</td>\n",
       "      <td>40.757641</td>\n",
       "    </tr>\n",
       "    <tr>\n",
       "      <th>...</th>\n",
       "      <td>...</td>\n",
       "      <td>...</td>\n",
       "      <td>...</td>\n",
       "    </tr>\n",
       "    <tr>\n",
       "      <th>1654</th>\n",
       "      <td>London Pub</td>\n",
       "      <td>-123.099576</td>\n",
       "      <td>49.278461</td>\n",
       "    </tr>\n",
       "    <tr>\n",
       "      <th>1655</th>\n",
       "      <td>The Fountainhead Pub</td>\n",
       "      <td>-123.129690</td>\n",
       "      <td>49.279683</td>\n",
       "    </tr>\n",
       "    <tr>\n",
       "      <th>1656</th>\n",
       "      <td>St Regis Bar and Grill</td>\n",
       "      <td>-123.115944</td>\n",
       "      <td>49.283176</td>\n",
       "    </tr>\n",
       "    <tr>\n",
       "      <th>1657</th>\n",
       "      <td>Cardero's Restaurant</td>\n",
       "      <td>-123.127482</td>\n",
       "      <td>49.291610</td>\n",
       "    </tr>\n",
       "    <tr>\n",
       "      <th>1658</th>\n",
       "      <td>Johnnie Fox's Irish Snug</td>\n",
       "      <td>-123.123771</td>\n",
       "      <td>49.278983</td>\n",
       "    </tr>\n",
       "  </tbody>\n",
       "</table>\n",
       "<p>1175 rows × 3 columns</p>\n",
       "</div>"
      ],
      "text/plain": [
       "                          name        long        lat\n",
       "0                 McGee's pub.  -73.982874  40.764959\n",
       "1                The Irish Pub  -73.981356  40.763262\n",
       "2               O'Reilly's Pub  -73.988872  40.747580\n",
       "3        Playwright Celtic Pub  -73.988032  40.759381\n",
       "4                   O'Lunney's  -73.984334  40.757641\n",
       "...                        ...         ...        ...\n",
       "1654                London Pub -123.099576  49.278461\n",
       "1655      The Fountainhead Pub -123.129690  49.279683\n",
       "1656    St Regis Bar and Grill -123.115944  49.283176\n",
       "1657      Cardero's Restaurant -123.127482  49.291610\n",
       "1658  Johnnie Fox's Irish Snug -123.123771  49.278983\n",
       "\n",
       "[1175 rows x 3 columns]"
      ]
     },
     "execution_count": 56,
     "metadata": {},
     "output_type": "execute_result"
    }
   ],
   "source": [
    "df_molona=df_molona.drop_duplicates()\n",
    "df_molona"
   ]
  },
  {
   "cell_type": "code",
   "execution_count": 57,
   "metadata": {},
   "outputs": [],
   "source": [
    "export_csv = df_molona.to_csv('pubs99.csv', index=None, header=True)"
   ]
  },
  {
   "cell_type": "code",
   "execution_count": 55,
   "metadata": {},
   "outputs": [],
   "source": [
    "'''\n",
    "def getStarbucks(query):\n",
    "    for location in query:\n",
    "        for starbucks in location:\n",
    "            starb = {'name': starbucks['name'],\n",
    "                     'long': starbucks['geometry']['location']['lng'],\n",
    "                     'lat': starbucks['geometry']['location']['lat']}\n",
    "    df = pd.DataFrame(starb)\n",
    "    return df\n",
    "'''"
   ]
  },
  {
   "cell_type": "code",
   "execution_count": 45,
   "metadata": {},
   "outputs": [],
   "source": [
    "starbucks=createApiDf(results)"
   ]
  },
  {
   "cell_type": "code",
   "execution_count": 46,
   "metadata": {},
   "outputs": [
    {
     "data": {
      "text/html": [
       "<div>\n",
       "<style scoped>\n",
       "    .dataframe tbody tr th:only-of-type {\n",
       "        vertical-align: middle;\n",
       "    }\n",
       "\n",
       "    .dataframe tbody tr th {\n",
       "        vertical-align: top;\n",
       "    }\n",
       "\n",
       "    .dataframe thead th {\n",
       "        text-align: right;\n",
       "    }\n",
       "</style>\n",
       "<table border=\"1\" class=\"dataframe\">\n",
       "  <thead>\n",
       "    <tr style=\"text-align: right;\">\n",
       "      <th></th>\n",
       "      <th>name</th>\n",
       "      <th>long</th>\n",
       "      <th>lat</th>\n",
       "    </tr>\n",
       "  </thead>\n",
       "  <tbody>\n",
       "    <tr>\n",
       "      <th>0</th>\n",
       "      <td>Starbucks</td>\n",
       "      <td>-73.985880</td>\n",
       "      <td>40.756727</td>\n",
       "    </tr>\n",
       "    <tr>\n",
       "      <th>1</th>\n",
       "      <td>Starbucks</td>\n",
       "      <td>-73.985080</td>\n",
       "      <td>40.757660</td>\n",
       "    </tr>\n",
       "    <tr>\n",
       "      <th>2</th>\n",
       "      <td>Starbucks Reserve</td>\n",
       "      <td>-73.985222</td>\n",
       "      <td>40.759636</td>\n",
       "    </tr>\n",
       "    <tr>\n",
       "      <th>3</th>\n",
       "      <td>Starbucks</td>\n",
       "      <td>-73.985313</td>\n",
       "      <td>40.763714</td>\n",
       "    </tr>\n",
       "    <tr>\n",
       "      <th>4</th>\n",
       "      <td>Starbucks</td>\n",
       "      <td>-73.987535</td>\n",
       "      <td>40.762192</td>\n",
       "    </tr>\n",
       "    <tr>\n",
       "      <th>5</th>\n",
       "      <td>Starbucks</td>\n",
       "      <td>-73.992483</td>\n",
       "      <td>40.759020</td>\n",
       "    </tr>\n",
       "    <tr>\n",
       "      <th>6</th>\n",
       "      <td>Starbucks</td>\n",
       "      <td>-73.990935</td>\n",
       "      <td>40.755344</td>\n",
       "    </tr>\n",
       "    <tr>\n",
       "      <th>7</th>\n",
       "      <td>Starbucks</td>\n",
       "      <td>-73.982344</td>\n",
       "      <td>40.763735</td>\n",
       "    </tr>\n",
       "    <tr>\n",
       "      <th>8</th>\n",
       "      <td>Starbucks</td>\n",
       "      <td>-73.983782</td>\n",
       "      <td>40.760737</td>\n",
       "    </tr>\n",
       "    <tr>\n",
       "      <th>9</th>\n",
       "      <td>Starbucks</td>\n",
       "      <td>-73.987257</td>\n",
       "      <td>40.754361</td>\n",
       "    </tr>\n",
       "    <tr>\n",
       "      <th>10</th>\n",
       "      <td>Starbucks</td>\n",
       "      <td>-73.985083</td>\n",
       "      <td>40.753126</td>\n",
       "    </tr>\n",
       "    <tr>\n",
       "      <th>11</th>\n",
       "      <td>Starbucks</td>\n",
       "      <td>-73.988402</td>\n",
       "      <td>40.753668</td>\n",
       "    </tr>\n",
       "    <tr>\n",
       "      <th>12</th>\n",
       "      <td>Starbucks</td>\n",
       "      <td>-73.980208</td>\n",
       "      <td>40.755599</td>\n",
       "    </tr>\n",
       "    <tr>\n",
       "      <th>13</th>\n",
       "      <td>Starbucks</td>\n",
       "      <td>-73.989035</td>\n",
       "      <td>40.758001</td>\n",
       "    </tr>\n",
       "    <tr>\n",
       "      <th>14</th>\n",
       "      <td>Starbucks Coffee</td>\n",
       "      <td>-73.979674</td>\n",
       "      <td>40.761789</td>\n",
       "    </tr>\n",
       "    <tr>\n",
       "      <th>15</th>\n",
       "      <td>Starbucks</td>\n",
       "      <td>-73.978301</td>\n",
       "      <td>40.756425</td>\n",
       "    </tr>\n",
       "    <tr>\n",
       "      <th>16</th>\n",
       "      <td>Starbucks</td>\n",
       "      <td>-73.987177</td>\n",
       "      <td>40.760489</td>\n",
       "    </tr>\n",
       "    <tr>\n",
       "      <th>17</th>\n",
       "      <td>Starbucks</td>\n",
       "      <td>-73.983630</td>\n",
       "      <td>40.762426</td>\n",
       "    </tr>\n",
       "    <tr>\n",
       "      <th>18</th>\n",
       "      <td>Starbucks</td>\n",
       "      <td>-73.978954</td>\n",
       "      <td>40.758856</td>\n",
       "    </tr>\n",
       "    <tr>\n",
       "      <th>19</th>\n",
       "      <td>Starbucks</td>\n",
       "      <td>-73.979798</td>\n",
       "      <td>40.753204</td>\n",
       "    </tr>\n",
       "    <tr>\n",
       "      <th>20</th>\n",
       "      <td>Starbucks</td>\n",
       "      <td>-111.922889</td>\n",
       "      <td>33.821715</td>\n",
       "    </tr>\n",
       "    <tr>\n",
       "      <th>21</th>\n",
       "      <td>Starbucks</td>\n",
       "      <td>-111.922831</td>\n",
       "      <td>33.779028</td>\n",
       "    </tr>\n",
       "    <tr>\n",
       "      <th>22</th>\n",
       "      <td>Starbucks</td>\n",
       "      <td>-111.922309</td>\n",
       "      <td>33.781056</td>\n",
       "    </tr>\n",
       "  </tbody>\n",
       "</table>\n",
       "</div>"
      ],
      "text/plain": [
       "                 name        long        lat\n",
       "0           Starbucks  -73.985880  40.756727\n",
       "1           Starbucks  -73.985080  40.757660\n",
       "2   Starbucks Reserve  -73.985222  40.759636\n",
       "3           Starbucks  -73.985313  40.763714\n",
       "4           Starbucks  -73.987535  40.762192\n",
       "5           Starbucks  -73.992483  40.759020\n",
       "6           Starbucks  -73.990935  40.755344\n",
       "7           Starbucks  -73.982344  40.763735\n",
       "8           Starbucks  -73.983782  40.760737\n",
       "9           Starbucks  -73.987257  40.754361\n",
       "10          Starbucks  -73.985083  40.753126\n",
       "11          Starbucks  -73.988402  40.753668\n",
       "12          Starbucks  -73.980208  40.755599\n",
       "13          Starbucks  -73.989035  40.758001\n",
       "14   Starbucks Coffee  -73.979674  40.761789\n",
       "15          Starbucks  -73.978301  40.756425\n",
       "16          Starbucks  -73.987177  40.760489\n",
       "17          Starbucks  -73.983630  40.762426\n",
       "18          Starbucks  -73.978954  40.758856\n",
       "19          Starbucks  -73.979798  40.753204\n",
       "20          Starbucks -111.922889  33.821715\n",
       "21          Starbucks -111.922831  33.779028\n",
       "22          Starbucks -111.922309  33.781056"
      ]
     },
     "execution_count": 46,
     "metadata": {},
     "output_type": "execute_result"
    }
   ],
   "source": [
    "starbucks"
   ]
  },
  {
   "cell_type": "code",
   "execution_count": 31,
   "metadata": {},
   "outputs": [],
   "source": [
    "'''\n",
    "def requestAPI(lat,long,radius,what):\n",
    "    api_key = os.getenv(\"API_KEY\")\n",
    "    url = \"https://maps.googleapis.com/maps/api/place/nearbysearch/json?\"\n",
    "    query = \"{}location={},{}&radius={}&keyword={}&key={}\".format(url,lat,long,radius,what,api_key)\n",
    "    r = requests.get(query) \n",
    "    x = r.json() \n",
    "    y = x['results'] \n",
    "    results=[]\n",
    "    return results\n",
    "'''"
   ]
  },
  {
   "cell_type": "code",
   "execution_count": 16,
   "metadata": {},
   "outputs": [
    {
     "data": {
      "text/plain": [
       "{'_id': ObjectId('5dd05cc6754df22b96b8c84b'),\n",
       " 'Id': '52cdef7c4bab8bd675297f94',\n",
       " 'name': 'PeekYou',\n",
       " 'category': 'search',\n",
       " 'description': '',\n",
       " 'long': -73.985506,\n",
       " 'year': 2012,\n",
       " 'money_raised': '$1.83M',\n",
       " 'location': {'type': 'Point', 'coordinates': [-73.985506, 40.757929]},\n",
       " 'distance': 9.747111732704937}"
      ]
     },
     "execution_count": 16,
     "metadata": {},
     "output_type": "execute_result"
    }
   ],
   "source": [
    "business"
   ]
  },
  {
   "cell_type": "code",
   "execution_count": 14,
   "metadata": {},
   "outputs": [
    {
     "data": {
      "text/plain": [
       "-73.985506"
      ]
     },
     "execution_count": 14,
     "metadata": {},
     "output_type": "execute_result"
    }
   ],
   "source": [
    "#long\n",
    "business[0]['location']['coordinates'][0]"
   ]
  },
  {
   "cell_type": "code",
   "execution_count": 15,
   "metadata": {},
   "outputs": [
    {
     "data": {
      "text/plain": [
       "40.757929"
      ]
     },
     "execution_count": 15,
     "metadata": {},
     "output_type": "execute_result"
    }
   ],
   "source": [
    "#lat\n",
    "business[0]['location']['coordinates'][1]"
   ]
  },
  {
   "cell_type": "code",
   "execution_count": 19,
   "metadata": {},
   "outputs": [],
   "source": [
    "def getcoord(query, lat, long):\n",
    "    for que in query: \n",
    "        lat.append(que['location']['coordinates'][1])\n",
    "        long.append(que['location']['coordinates'][0])\n",
    "    return len(lat),len(long)      "
   ]
  },
  {
   "cell_type": "code",
   "execution_count": 20,
   "metadata": {},
   "outputs": [
    {
     "data": {
      "text/plain": [
       "(99, 99)"
      ]
     },
     "execution_count": 20,
     "metadata": {},
     "output_type": "execute_result"
    }
   ],
   "source": [
    "lat=[]\n",
    "long=[]\n",
    "getcoord(business,lat,long)"
   ]
  },
  {
   "cell_type": "code",
   "execution_count": 21,
   "metadata": {},
   "outputs": [],
   "source": [
    "lista=[]\n",
    "busines=list(zip(lat,long))"
   ]
  },
  {
   "cell_type": "code",
   "execution_count": 22,
   "metadata": {},
   "outputs": [],
   "source": [
    "for i in busines:\n",
    "    lista.append(\"{},{}\".format(i[0],i[1]))"
   ]
  },
  {
   "cell_type": "code",
   "execution_count": 35,
   "metadata": {},
   "outputs": [
    {
     "data": {
      "text/plain": [
       "[[], []]"
      ]
     },
     "execution_count": 35,
     "metadata": {},
     "output_type": "execute_result"
    }
   ],
   "source": [
    "starbucks"
   ]
  },
  {
   "cell_type": "code",
   "execution_count": null,
   "metadata": {},
   "outputs": [],
   "source": [
    "requestAPI(lat,long,radius,what)"
   ]
  },
  {
   "cell_type": "code",
   "execution_count": 59,
   "metadata": {},
   "outputs": [],
   "source": [
    "'''\n",
    "def createApiDf(query):\n",
    "    name=[]\n",
    "    address=[]\n",
    "    long=[]\n",
    "    lat=[]\n",
    "    for cia in results:\n",
    "        name.append(cia[0])\n",
    "        address.append(cia[1])\n",
    "        long.append(cia[2]['lng'])\n",
    "        lat.append(cia[2]['lat'])\n",
    "    dic2={\"name\":name,\"address\":address,\"long\":long,\"lat\":lat}\n",
    "    lil_DF=pd.DataFrame(dic2)\n",
    "    return lil_DF  \n",
    "'''"
   ]
  },
  {
   "cell_type": "code",
   "execution_count": 60,
   "metadata": {},
   "outputs": [],
   "source": [
    "starDf=createApiDf(results)"
   ]
  },
  {
   "cell_type": "code",
   "execution_count": 61,
   "metadata": {},
   "outputs": [
    {
     "data": {
      "text/html": [
       "<div>\n",
       "<style scoped>\n",
       "    .dataframe tbody tr th:only-of-type {\n",
       "        vertical-align: middle;\n",
       "    }\n",
       "\n",
       "    .dataframe tbody tr th {\n",
       "        vertical-align: top;\n",
       "    }\n",
       "\n",
       "    .dataframe thead th {\n",
       "        text-align: right;\n",
       "    }\n",
       "</style>\n",
       "<table border=\"1\" class=\"dataframe\">\n",
       "  <thead>\n",
       "    <tr style=\"text-align: right;\">\n",
       "      <th></th>\n",
       "      <th>name</th>\n",
       "      <th>address</th>\n",
       "      <th>long</th>\n",
       "      <th>lat</th>\n",
       "    </tr>\n",
       "  </thead>\n",
       "  <tbody>\n",
       "    <tr>\n",
       "      <th>0</th>\n",
       "      <td>International High School of San Francisco</td>\n",
       "      <td>150 Oak St, San Francisco, CA 94102, United St...</td>\n",
       "      <td>-122.421637</td>\n",
       "      <td>37.775382</td>\n",
       "    </tr>\n",
       "    <tr>\n",
       "      <th>1</th>\n",
       "      <td>The San Francisco School</td>\n",
       "      <td>300 Gaven St, San Francisco, CA 94134, United ...</td>\n",
       "      <td>-122.411353</td>\n",
       "      <td>37.732782</td>\n",
       "    </tr>\n",
       "    <tr>\n",
       "      <th>2</th>\n",
       "      <td>The Bay School of San Francisco</td>\n",
       "      <td>35 Keyes Ave, San Francisco, CA 94129, United ...</td>\n",
       "      <td>-122.455646</td>\n",
       "      <td>37.800779</td>\n",
       "    </tr>\n",
       "    <tr>\n",
       "      <th>3</th>\n",
       "      <td>Urban School of San Francisco</td>\n",
       "      <td>1563 Page St, San Francisco, CA 94117, United ...</td>\n",
       "      <td>-122.446084</td>\n",
       "      <td>37.770938</td>\n",
       "    </tr>\n",
       "    <tr>\n",
       "      <th>4</th>\n",
       "      <td>Sunset Elementary School</td>\n",
       "      <td>1920 41st Ave, San Francisco, CA 94116, United...</td>\n",
       "      <td>-122.499563</td>\n",
       "      <td>37.750897</td>\n",
       "    </tr>\n",
       "    <tr>\n",
       "      <th>5</th>\n",
       "      <td>Ulloa Elementary School</td>\n",
       "      <td>2650 42nd Ave, San Francisco, CA 94116, United...</td>\n",
       "      <td>-122.499702</td>\n",
       "      <td>37.737181</td>\n",
       "    </tr>\n",
       "    <tr>\n",
       "      <th>6</th>\n",
       "      <td>Robert Louis Stevenson Elementary School</td>\n",
       "      <td>2051 34th Ave, San Francisco, CA 94116, United...</td>\n",
       "      <td>-122.492849</td>\n",
       "      <td>37.748710</td>\n",
       "    </tr>\n",
       "    <tr>\n",
       "      <th>7</th>\n",
       "      <td>June Jordan School for Equity</td>\n",
       "      <td>325 La Grande Ave, San Francisco, CA 94112, Un...</td>\n",
       "      <td>-122.424877</td>\n",
       "      <td>37.719373</td>\n",
       "    </tr>\n",
       "    <tr>\n",
       "      <th>8</th>\n",
       "      <td>Claire Lilienthal Elementary School - Scott Ca...</td>\n",
       "      <td>3630 Divisadero St, San Francisco, CA 94118, U...</td>\n",
       "      <td>-122.443406</td>\n",
       "      <td>37.803386</td>\n",
       "    </tr>\n",
       "    <tr>\n",
       "      <th>9</th>\n",
       "      <td>San Francisco University High School</td>\n",
       "      <td>3065 Jackson St, San Francisco, CA 94115, Unit...</td>\n",
       "      <td>-122.445465</td>\n",
       "      <td>37.790890</td>\n",
       "    </tr>\n",
       "    <tr>\n",
       "      <th>10</th>\n",
       "      <td>The Brandeis School of San Francisco</td>\n",
       "      <td>655 Brotherhood Way, San Francisco, CA 94132, ...</td>\n",
       "      <td>-122.475830</td>\n",
       "      <td>37.713408</td>\n",
       "    </tr>\n",
       "    <tr>\n",
       "      <th>11</th>\n",
       "      <td>Lawton Alternative School</td>\n",
       "      <td>1570 31st Ave, San Francisco, CA 94122, United...</td>\n",
       "      <td>-122.489267</td>\n",
       "      <td>37.757667</td>\n",
       "    </tr>\n",
       "    <tr>\n",
       "      <th>12</th>\n",
       "      <td>Lycee Francais de San Francisco - LFSF - Orteg...</td>\n",
       "      <td>1201 Ortega St, San Francisco, CA 94122, Unite...</td>\n",
       "      <td>-122.476474</td>\n",
       "      <td>37.751939</td>\n",
       "    </tr>\n",
       "    <tr>\n",
       "      <th>13</th>\n",
       "      <td>Alamo Elementary School</td>\n",
       "      <td>250 23rd Ave, San Francisco, CA 94121, United ...</td>\n",
       "      <td>-122.482525</td>\n",
       "      <td>37.783059</td>\n",
       "    </tr>\n",
       "    <tr>\n",
       "      <th>14</th>\n",
       "      <td>Grattan Elementary School</td>\n",
       "      <td>165 Grattan St, San Francisco, CA 94117, Unite...</td>\n",
       "      <td>-122.450509</td>\n",
       "      <td>37.763795</td>\n",
       "    </tr>\n",
       "    <tr>\n",
       "      <th>15</th>\n",
       "      <td>San Francisco Community Alternative School</td>\n",
       "      <td>125 Excelsior Ave, San Francisco, CA 94112, Un...</td>\n",
       "      <td>-122.432194</td>\n",
       "      <td>37.726005</td>\n",
       "    </tr>\n",
       "    <tr>\n",
       "      <th>16</th>\n",
       "      <td>McKinley Elementary School</td>\n",
       "      <td>1025 14th St, San Francisco, CA 94114, United ...</td>\n",
       "      <td>-122.436403</td>\n",
       "      <td>37.767158</td>\n",
       "    </tr>\n",
       "    <tr>\n",
       "      <th>17</th>\n",
       "      <td>Presidio Middle School</td>\n",
       "      <td>450 30th Ave, San Francisco, CA 94121, United ...</td>\n",
       "      <td>-122.489901</td>\n",
       "      <td>37.781005</td>\n",
       "    </tr>\n",
       "    <tr>\n",
       "      <th>18</th>\n",
       "      <td>Ida B Wells High School</td>\n",
       "      <td>1099 Hayes St, San Francisco, CA 94117, United...</td>\n",
       "      <td>-122.434028</td>\n",
       "      <td>37.775089</td>\n",
       "    </tr>\n",
       "    <tr>\n",
       "      <th>19</th>\n",
       "      <td>George Peabody Elementary School</td>\n",
       "      <td>251 6th Ave, San Francisco, CA 94118, United S...</td>\n",
       "      <td>-122.465103</td>\n",
       "      <td>37.783854</td>\n",
       "    </tr>\n",
       "  </tbody>\n",
       "</table>\n",
       "</div>"
      ],
      "text/plain": [
       "                                                 name  \\\n",
       "0          International High School of San Francisco   \n",
       "1                            The San Francisco School   \n",
       "2                     The Bay School of San Francisco   \n",
       "3                       Urban School of San Francisco   \n",
       "4                            Sunset Elementary School   \n",
       "5                             Ulloa Elementary School   \n",
       "6            Robert Louis Stevenson Elementary School   \n",
       "7                       June Jordan School for Equity   \n",
       "8   Claire Lilienthal Elementary School - Scott Ca...   \n",
       "9                San Francisco University High School   \n",
       "10               The Brandeis School of San Francisco   \n",
       "11                          Lawton Alternative School   \n",
       "12  Lycee Francais de San Francisco - LFSF - Orteg...   \n",
       "13                            Alamo Elementary School   \n",
       "14                          Grattan Elementary School   \n",
       "15         San Francisco Community Alternative School   \n",
       "16                         McKinley Elementary School   \n",
       "17                             Presidio Middle School   \n",
       "18                            Ida B Wells High School   \n",
       "19                   George Peabody Elementary School   \n",
       "\n",
       "                                              address        long        lat  \n",
       "0   150 Oak St, San Francisco, CA 94102, United St... -122.421637  37.775382  \n",
       "1   300 Gaven St, San Francisco, CA 94134, United ... -122.411353  37.732782  \n",
       "2   35 Keyes Ave, San Francisco, CA 94129, United ... -122.455646  37.800779  \n",
       "3   1563 Page St, San Francisco, CA 94117, United ... -122.446084  37.770938  \n",
       "4   1920 41st Ave, San Francisco, CA 94116, United... -122.499563  37.750897  \n",
       "5   2650 42nd Ave, San Francisco, CA 94116, United... -122.499702  37.737181  \n",
       "6   2051 34th Ave, San Francisco, CA 94116, United... -122.492849  37.748710  \n",
       "7   325 La Grande Ave, San Francisco, CA 94112, Un... -122.424877  37.719373  \n",
       "8   3630 Divisadero St, San Francisco, CA 94118, U... -122.443406  37.803386  \n",
       "9   3065 Jackson St, San Francisco, CA 94115, Unit... -122.445465  37.790890  \n",
       "10  655 Brotherhood Way, San Francisco, CA 94132, ... -122.475830  37.713408  \n",
       "11  1570 31st Ave, San Francisco, CA 94122, United... -122.489267  37.757667  \n",
       "12  1201 Ortega St, San Francisco, CA 94122, Unite... -122.476474  37.751939  \n",
       "13  250 23rd Ave, San Francisco, CA 94121, United ... -122.482525  37.783059  \n",
       "14  165 Grattan St, San Francisco, CA 94117, Unite... -122.450509  37.763795  \n",
       "15  125 Excelsior Ave, San Francisco, CA 94112, Un... -122.432194  37.726005  \n",
       "16  1025 14th St, San Francisco, CA 94114, United ... -122.436403  37.767158  \n",
       "17  450 30th Ave, San Francisco, CA 94121, United ... -122.489901  37.781005  \n",
       "18  1099 Hayes St, San Francisco, CA 94117, United... -122.434028  37.775089  \n",
       "19  251 6th Ave, San Francisco, CA 94118, United S... -122.465103  37.783854  "
      ]
     },
     "execution_count": 61,
     "metadata": {},
     "output_type": "execute_result"
    }
   ],
   "source": [
    "starDf"
   ]
  },
  {
   "cell_type": "code",
   "execution_count": 62,
   "metadata": {},
   "outputs": [],
   "source": [
    "export_csv = starDf.to_csv('schoolSF.csv', index=None, header=True)"
   ]
  },
  {
   "cell_type": "code",
   "execution_count": 11,
   "metadata": {},
   "outputs": [],
   "source": [
    "'''\n",
    "def getLocation(comp):\n",
    "        longitude = comp['offices'][0]['longitude']\n",
    "        latitude = comp['offices'][0]['latitude']\n",
    "        loc = {\n",
    "            'type':'Point',\n",
    "            'coordinates':[longitude,latitude]\n",
    "        }\n",
    "        return loc\n",
    "'''"
   ]
  },
  {
   "cell_type": "code",
   "execution_count": 30,
   "metadata": {},
   "outputs": [
    {
     "data": {
      "text/plain": [
       "37.790431"
      ]
     },
     "execution_count": 30,
     "metadata": {},
     "output_type": "execute_result"
    }
   ],
   "source": [
    "stars[0]['lat']"
   ]
  },
  {
   "cell_type": "code",
   "execution_count": 70,
   "metadata": {},
   "outputs": [],
   "source": [
    "def getApiLoc(off):\n",
    "    longitude = off['long']\n",
    "    latitude = off['lat']\n",
    "    loc=({\n",
    "        'type':'Point',\n",
    "        'coordinates':[longitude,latitude]\n",
    "    })\n",
    "    return loc"
   ]
  },
  {
   "cell_type": "code",
   "execution_count": 71,
   "metadata": {},
   "outputs": [
    {
     "data": {
      "text/plain": [
       "{'type': 'Point', 'coordinates': [-122.4995634, 37.7508971]}"
      ]
     },
     "execution_count": 71,
     "metadata": {},
     "output_type": "execute_result"
    }
   ],
   "source": [
    "getApiLoc(stars[0])"
   ]
  },
  {
   "cell_type": "code",
   "execution_count": 72,
   "metadata": {},
   "outputs": [],
   "source": [
    "for star in stars:\n",
    "    value={\"$set\":{'location':getApiLoc(star)}}\n",
    "    coll.update_one(star,value)"
   ]
  },
  {
   "cell_type": "code",
   "execution_count": 12,
   "metadata": {},
   "outputs": [],
   "source": [
    "'''\n",
    "def setValue(query,loc):\n",
    "    for company in query:\n",
    "        value={\"$set\":{'location':getApiLoc(loc)}}\n",
    "    return coll.update_one(company,value)\n",
    "'''\n",
    "        "
   ]
  },
  {
   "cell_type": "code",
   "execution_count": 18,
   "metadata": {},
   "outputs": [],
   "source": [
    "'''\n",
    "def setValue(query,loc):\n",
    "    value=getApiLoc(loc)\n",
    "    for company in query:\n",
    "         return company,value\n",
    "'''"
   ]
  },
  {
   "cell_type": "code",
   "execution_count": null,
   "metadata": {},
   "outputs": [],
   "source": [
    "'''\n",
    "#borrar\n",
    "pin=\n",
    "for company in results:\n",
    "    pin.append(getApiLoc(company))\n",
    "'''"
   ]
  },
  {
   "cell_type": "code",
   "execution_count": null,
   "metadata": {},
   "outputs": [],
   "source": [
    "getApiLoc(results[0])"
   ]
  },
  {
   "cell_type": "code",
   "execution_count": null,
   "metadata": {},
   "outputs": [],
   "source": [
    "for star in stars:\n",
    "    value = {\"$set\": {'location':getApiLoc(result)}}\n",
    "    coll.update_one(star,value)"
   ]
  },
  {
   "cell_type": "code",
   "execution_count": null,
   "metadata": {},
   "outputs": [],
   "source": [
    "'''\n",
    "for star in stars:\n",
    "    value = {\"$unset\": {'location':''}}\n",
    "    coll.update_one(star,value)\n",
    "'''"
   ]
  },
  {
   "cell_type": "code",
   "execution_count": null,
   "metadata": {},
   "outputs": [],
   "source": []
  }
 ],
 "metadata": {
  "kernelspec": {
   "display_name": "Python 3",
   "language": "python",
   "name": "python3"
  },
  "language_info": {
   "codemirror_mode": {
    "name": "ipython",
    "version": 3
   },
   "file_extension": ".py",
   "mimetype": "text/x-python",
   "name": "python",
   "nbconvert_exporter": "python",
   "pygments_lexer": "ipython3",
   "version": "3.7.5rc1"
  }
 },
 "nbformat": 4,
 "nbformat_minor": 2
}
