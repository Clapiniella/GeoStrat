{
 "cells": [
  {
   "cell_type": "code",
   "execution_count": 2,
   "metadata": {},
   "outputs": [],
   "source": [
    "import pandas as pd\n",
    "from pymongo import MongoClient\n",
    "import re\n",
    "from haversine import haversine"
   ]
  },
  {
   "cell_type": "code",
   "execution_count": null,
   "metadata": {},
   "outputs": [],
   "source": [
    "#!pip3 install --user haversine"
   ]
  },
  {
   "cell_type": "code",
   "execution_count": 3,
   "metadata": {},
   "outputs": [],
   "source": [
    "def connectCollection(database, collection):\n",
    "    client = MongoClient()\n",
    "    db = client[database]\n",
    "    coll = db[collection]\n",
    "    return db, coll"
   ]
  },
  {
   "cell_type": "code",
   "execution_count": 4,
   "metadata": {},
   "outputs": [],
   "source": [
    "db, coll = connectCollection('companies','airports')\n",
    "db, coll1 = connectCollection('companies','preferred')"
   ]
  },
  {
   "cell_type": "code",
   "execution_count": 5,
   "metadata": {},
   "outputs": [],
   "source": [
    "airports = list(coll.find({\"type\": 'large_airport'}))"
   ]
  },
  {
   "cell_type": "code",
   "execution_count": 6,
   "metadata": {},
   "outputs": [],
   "source": [
    "business = list(coll1.find({\"$and\":[{\"money_raised\":{\"$ne\":\"$0\"}},{\"year\":{\"$gte\":2009}}]}))"
   ]
  },
  {
   "cell_type": "code",
   "execution_count": null,
   "metadata": {},
   "outputs": [],
   "source": [
    "#business = list(coll1.find({\"distance\":{\"$exists\":True}}))"
   ]
  },
  {
   "cell_type": "code",
   "execution_count": null,
   "metadata": {},
   "outputs": [],
   "source": [
    "'''\n",
    ",{\"money_raised\":{\"$regex\":\"k$\"}}\n",
    "import re\n",
    "for noMatch in db.inventory.find( { \"item\": { \"$not\": re.compile(\"^p.*\") } } ):\n",
    "    print noMatch\n",
    "'''"
   ]
  },
  {
   "cell_type": "code",
   "execution_count": null,
   "metadata": {},
   "outputs": [],
   "source": [
    "print(len(airports))"
   ]
  },
  {
   "cell_type": "code",
   "execution_count": null,
   "metadata": {},
   "outputs": [],
   "source": [
    "print(len(business))"
   ]
  },
  {
   "cell_type": "code",
   "execution_count": null,
   "metadata": {},
   "outputs": [],
   "source": [
    "business[0]['location']['coordinates'][0]"
   ]
  },
  {
   "cell_type": "code",
   "execution_count": null,
   "metadata": {},
   "outputs": [],
   "source": [
    "name=[]\n",
    "for bus in business:\n",
    "    name.append(bus['name'])\n",
    "    "
   ]
  },
  {
   "cell_type": "code",
   "execution_count": null,
   "metadata": {},
   "outputs": [],
   "source": [
    "business[0]['location']['coordinates'][1]"
   ]
  },
  {
   "cell_type": "code",
   "execution_count": null,
   "metadata": {},
   "outputs": [],
   "source": [
    "airports[0]"
   ]
  },
  {
   "cell_type": "code",
   "execution_count": null,
   "metadata": {},
   "outputs": [],
   "source": [
    "#long 0\n",
    "airports[0]['location']['coordinates'][0]"
   ]
  },
  {
   "cell_type": "code",
   "execution_count": null,
   "metadata": {},
   "outputs": [],
   "source": [
    "#lat 1\n",
    "airports[0]['location']['coordinates'][1]"
   ]
  },
  {
   "cell_type": "code",
   "execution_count": null,
   "metadata": {},
   "outputs": [],
   "source": [
    "def getcoord(query,lat,long):\n",
    "    for que in query: \n",
    "        lat.append(que['location']['coordinates'][1])\n",
    "        long.append(que['location']['coordinates'][0])\n",
    "    return len(lat),len(long)       "
   ]
  },
  {
   "cell_type": "code",
   "execution_count": null,
   "metadata": {},
   "outputs": [],
   "source": [
    "lat1=[]\n",
    "long1=[]\n",
    "getcoord(business,lat1,long1)"
   ]
  },
  {
   "cell_type": "code",
   "execution_count": null,
   "metadata": {},
   "outputs": [],
   "source": [
    "bus=list(zip(lat1,long1))"
   ]
  },
  {
   "cell_type": "code",
   "execution_count": null,
   "metadata": {},
   "outputs": [],
   "source": [
    "lat2=[]\n",
    "long2=[]\n",
    "getcoord(airports,lat2,long2)"
   ]
  },
  {
   "cell_type": "code",
   "execution_count": null,
   "metadata": {},
   "outputs": [],
   "source": [
    "air=list(zip(lat2,long2))"
   ]
  },
  {
   "cell_type": "code",
   "execution_count": null,
   "metadata": {},
   "outputs": [],
   "source": [
    "# (lat, lon)\n",
    "#haversine((45.7597, 4.8422),(48.8567, 2.3508))\n",
    "#243.71209416020253"
   ]
  },
  {
   "cell_type": "code",
   "execution_count": null,
   "metadata": {},
   "outputs": [],
   "source": [
    "l=[1,2,3,5]\n",
    "min(l)"
   ]
  },
  {
   "cell_type": "code",
   "execution_count": null,
   "metadata": {},
   "outputs": [],
   "source": [
    "def harver(elem,zipi):\n",
    "    comparator=[]\n",
    "    for a in air:\n",
    "        comparator.append(haversine(elem,a))\n",
    "    return min(comparator)"
   ]
  },
  {
   "cell_type": "code",
   "execution_count": null,
   "metadata": {},
   "outputs": [],
   "source": [
    "futcol=[]\n",
    "#futcol tiene que tener 99 elemento\n",
    "for i in bus:\n",
    "    futcol.append(harver(i,air))"
   ]
  },
  {
   "cell_type": "code",
   "execution_count": null,
   "metadata": {},
   "outputs": [],
   "source": [
    "dfair=pd.DataFrame({\"name\":name,\"long\":long1,\"lat\":lat1,\"dis to an airport\":futcol})"
   ]
  },
  {
   "cell_type": "code",
   "execution_count": null,
   "metadata": {},
   "outputs": [],
   "source": [
    "actuali=list(zip(business,futcol))"
   ]
  },
  {
   "cell_type": "code",
   "execution_count": null,
   "metadata": {},
   "outputs": [],
   "source": [
    "for i in actuali[:]:\n",
    "    print(i[0])"
   ]
  },
  {
   "cell_type": "code",
   "execution_count": null,
   "metadata": {},
   "outputs": [],
   "source": [
    "for i in actuali:\n",
    "    value={\"$set\":{'distance':i[1]}}\n",
    "    coll1.update_one(i[0],value)"
   ]
  },
  {
   "cell_type": "code",
   "execution_count": null,
   "metadata": {},
   "outputs": [],
   "source": [
    "cutoffs = [0,10,20,50,100,300]\n",
    "km_labels = ['0-10km', '10-20km', '20-50km','50-100km','100-300km']\n",
    "punt['range'] = pd.cut(punt['dis to an airport'], cutoffs, labels = km_labels)\n",
    "punt['range'].value_counts()"
   ]
  },
  {
   "cell_type": "code",
   "execution_count": null,
   "metadata": {},
   "outputs": [],
   "source": [
    "dfair"
   ]
  },
  {
   "cell_type": "code",
   "execution_count": null,
   "metadata": {},
   "outputs": [],
   "source": [
    "export_csv = dfair.to_csv('distoair.csv', index=None, header=True)"
   ]
  },
  {
   "cell_type": "code",
   "execution_count": null,
   "metadata": {},
   "outputs": [],
   "source": [
    "#getAirLoc(airports[0])"
   ]
  },
  {
   "cell_type": "code",
   "execution_count": null,
   "metadata": {},
   "outputs": [],
   "source": [
    "#for air in airports:\n",
    "    #value={\"$set\":{'location':getAirLoc(air)}}\n",
    "    #coll.update_one(air,value)   "
   ]
  },
  {
   "cell_type": "markdown",
   "metadata": {},
   "source": [
    "# GEOQUERIES"
   ]
  },
  {
   "cell_type": "code",
   "execution_count": 166,
   "metadata": {},
   "outputs": [],
   "source": [
    "db, coll = connectCollection('companies','starbucks')\n",
    "db, coll1 = connectCollection('companies','preferred')"
   ]
  },
  {
   "cell_type": "code",
   "execution_count": 167,
   "metadata": {},
   "outputs": [],
   "source": [
    "star= list(coll.find())"
   ]
  },
  {
   "cell_type": "code",
   "execution_count": 73,
   "metadata": {},
   "outputs": [],
   "source": [
    "business = list(coll1.find({\"$and\":[{\"money_raised\":{\"$ne\":\"$0\"}},{\"year\":{\"$gte\":2009}}]}))"
   ]
  },
  {
   "cell_type": "code",
   "execution_count": 168,
   "metadata": {},
   "outputs": [
    {
     "data": {
      "text/plain": [
       "{'_id': ObjectId('5dd672703fe4b24ba1eaecf0'),\n",
       " 'name': 'Starbucks',\n",
       " 'long': -73.9858802,\n",
       " 'lat': 40.7567274,\n",
       " 'location': {'type': 'Point', 'coordinates': [-73.9858802, 40.7567274]}}"
      ]
     },
     "execution_count": 168,
     "metadata": {},
     "output_type": "execute_result"
    }
   ],
   "source": [
    "star[0]"
   ]
  },
  {
   "cell_type": "code",
   "execution_count": 7,
   "metadata": {},
   "outputs": [
    {
     "data": {
      "text/plain": [
       "{'_id': ObjectId('5dd05cc6754df22b96b8c84b'),\n",
       " 'Id': '52cdef7c4bab8bd675297f94',\n",
       " 'name': 'PeekYou',\n",
       " 'category': 'search',\n",
       " 'description': '',\n",
       " 'long': -73.985506,\n",
       " 'year': 2012,\n",
       " 'money_raised': '$1.83M',\n",
       " 'location': {'type': 'Point', 'coordinates': [-73.985506, 40.757929]},\n",
       " 'distance': 9.747111732704937}"
      ]
     },
     "execution_count": 7,
     "metadata": {},
     "output_type": "execute_result"
    }
   ],
   "source": [
    "business[0]"
   ]
  },
  {
   "cell_type": "code",
   "execution_count": 158,
   "metadata": {},
   "outputs": [],
   "source": [
    "def geoquery(geoindex,distance,col):\n",
    "    points= coll.find(\n",
    "        {\"location\": \n",
    "         {\"$near\": \n",
    "          {\"$geometry\":\n",
    "           geoindex,\n",
    "           \"$maxDistance\":distance\n",
    "            }\n",
    "        }\n",
    "    })\n",
    "    return list(points)\n",
    "#que la función me devuelva la len(list(points))"
   ]
  },
  {
   "cell_type": "code",
   "execution_count": 182,
   "metadata": {},
   "outputs": [],
   "source": [
    "#coll de whatever\n",
    "#coll1 de empresas\n",
    "comparatorDosPuntoCero=[]\n",
    "for bu in business:\n",
    "    comparatorDosPuntoCero.append(geoquery(bu['location'],100,coll))\n"
   ]
  },
  {
   "cell_type": "code",
   "execution_count": 183,
   "metadata": {},
   "outputs": [
    {
     "name": "stdout",
     "output_type": "stream",
     "text": [
      "99\n"
     ]
    }
   ],
   "source": [
    "cuantos=[]\n",
    "for i in comparatorDosPuntoCero:\n",
    "    cuantos.append(len(i))\n",
    "print(len(cuantos))"
   ]
  },
  {
   "cell_type": "code",
   "execution_count": 60,
   "metadata": {},
   "outputs": [
    {
     "data": {
      "text/html": [
       "<div>\n",
       "<style scoped>\n",
       "    .dataframe tbody tr th:only-of-type {\n",
       "        vertical-align: middle;\n",
       "    }\n",
       "\n",
       "    .dataframe tbody tr th {\n",
       "        vertical-align: top;\n",
       "    }\n",
       "\n",
       "    .dataframe thead th {\n",
       "        text-align: right;\n",
       "    }\n",
       "</style>\n",
       "<table border=\"1\" class=\"dataframe\">\n",
       "  <thead>\n",
       "    <tr style=\"text-align: right;\">\n",
       "      <th></th>\n",
       "      <th>name</th>\n",
       "      <th>long</th>\n",
       "      <th>lat</th>\n",
       "      <th>dis to an airport</th>\n",
       "      <th>range</th>\n",
       "      <th>airports 40km</th>\n",
       "      <th>airports 10km</th>\n",
       "      <th>starbucks 500m</th>\n",
       "      <th>starbucks 1km</th>\n",
       "      <th>drunk af 500m</th>\n",
       "      <th>drunk af 1km</th>\n",
       "      <th>schools 5km</th>\n",
       "      <th>veggies 100m</th>\n",
       "      <th>veggies 500m</th>\n",
       "    </tr>\n",
       "  </thead>\n",
       "  <tbody>\n",
       "    <tr>\n",
       "      <th>0</th>\n",
       "      <td>PeekYou</td>\n",
       "      <td>-73.985506</td>\n",
       "      <td>40.757929</td>\n",
       "      <td>9.747112</td>\n",
       "      <td>0-10km</td>\n",
       "      <td>3</td>\n",
       "      <td>1</td>\n",
       "      <td>16</td>\n",
       "      <td>56</td>\n",
       "      <td>65</td>\n",
       "      <td>130</td>\n",
       "      <td>376</td>\n",
       "      <td>0</td>\n",
       "      <td>6</td>\n",
       "    </tr>\n",
       "    <tr>\n",
       "      <th>1</th>\n",
       "      <td>GENWI</td>\n",
       "      <td>-111.903500</td>\n",
       "      <td>33.817100</td>\n",
       "      <td>43.734956</td>\n",
       "      <td>20-50km</td>\n",
       "      <td>0</td>\n",
       "      <td>0</td>\n",
       "      <td>0</td>\n",
       "      <td>0</td>\n",
       "      <td>0</td>\n",
       "      <td>0</td>\n",
       "      <td>6</td>\n",
       "      <td>0</td>\n",
       "      <td>0</td>\n",
       "    </tr>\n",
       "    <tr>\n",
       "      <th>2</th>\n",
       "      <td>Fixya</td>\n",
       "      <td>-122.323895</td>\n",
       "      <td>37.566879</td>\n",
       "      <td>7.339122</td>\n",
       "      <td>0-10km</td>\n",
       "      <td>2</td>\n",
       "      <td>1</td>\n",
       "      <td>4</td>\n",
       "      <td>4</td>\n",
       "      <td>87</td>\n",
       "      <td>87</td>\n",
       "      <td>128</td>\n",
       "      <td>16</td>\n",
       "      <td>76</td>\n",
       "    </tr>\n",
       "    <tr>\n",
       "      <th>3</th>\n",
       "      <td>Widgetbox</td>\n",
       "      <td>-122.398599</td>\n",
       "      <td>37.798853</td>\n",
       "      <td>17.835823</td>\n",
       "      <td>10-20km</td>\n",
       "      <td>2</td>\n",
       "      <td>0</td>\n",
       "      <td>6</td>\n",
       "      <td>16</td>\n",
       "      <td>7</td>\n",
       "      <td>27</td>\n",
       "      <td>148</td>\n",
       "      <td>0</td>\n",
       "      <td>1</td>\n",
       "    </tr>\n",
       "    <tr>\n",
       "      <th>4</th>\n",
       "      <td>RazorGator</td>\n",
       "      <td>-118.445243</td>\n",
       "      <td>34.047312</td>\n",
       "      <td>12.149767</td>\n",
       "      <td>10-20km</td>\n",
       "      <td>1</td>\n",
       "      <td>0</td>\n",
       "      <td>3</td>\n",
       "      <td>4</td>\n",
       "      <td>0</td>\n",
       "      <td>10</td>\n",
       "      <td>98</td>\n",
       "      <td>0</td>\n",
       "      <td>1</td>\n",
       "    </tr>\n",
       "  </tbody>\n",
       "</table>\n",
       "</div>"
      ],
      "text/plain": [
       "         name        long        lat  dis to an airport    range  \\\n",
       "0     PeekYou  -73.985506  40.757929           9.747112   0-10km   \n",
       "1       GENWI -111.903500  33.817100          43.734956  20-50km   \n",
       "2       Fixya -122.323895  37.566879           7.339122   0-10km   \n",
       "3   Widgetbox -122.398599  37.798853          17.835823  10-20km   \n",
       "4  RazorGator -118.445243  34.047312          12.149767  10-20km   \n",
       "\n",
       "   airports 40km  airports 10km  starbucks 500m  starbucks 1km  drunk af 500m  \\\n",
       "0              3              1              16             56             65   \n",
       "1              0              0               0              0              0   \n",
       "2              2              1               4              4             87   \n",
       "3              2              0               6             16              7   \n",
       "4              1              0               3              4              0   \n",
       "\n",
       "   drunk af 1km  schools 5km  veggies 100m  veggies 500m  \n",
       "0           130          376             0             6  \n",
       "1             0            6             0             0  \n",
       "2            87          128            16            76  \n",
       "3            27          148             0             1  \n",
       "4            10           98             0             1  "
      ]
     },
     "execution_count": 60,
     "metadata": {},
     "output_type": "execute_result"
    }
   ],
   "source": [
    "#traer la columna NO SORTED\n",
    "data = pd.read_csv(\"master99.csv\") \n",
    "data.head()"
   ]
  },
  {
   "cell_type": "code",
   "execution_count": 184,
   "metadata": {},
   "outputs": [],
   "source": [
    "data[\"starbucks 100m\"]=cuantos"
   ]
  },
  {
   "cell_type": "code",
   "execution_count": 186,
   "metadata": {},
   "outputs": [],
   "source": [
    "data=data.drop([\"party 100m\"], axis=1)"
   ]
  },
  {
   "cell_type": "code",
   "execution_count": 187,
   "metadata": {},
   "outputs": [
    {
     "data": {
      "text/html": [
       "<div>\n",
       "<style scoped>\n",
       "    .dataframe tbody tr th:only-of-type {\n",
       "        vertical-align: middle;\n",
       "    }\n",
       "\n",
       "    .dataframe tbody tr th {\n",
       "        vertical-align: top;\n",
       "    }\n",
       "\n",
       "    .dataframe thead th {\n",
       "        text-align: right;\n",
       "    }\n",
       "</style>\n",
       "<table border=\"1\" class=\"dataframe\">\n",
       "  <thead>\n",
       "    <tr style=\"text-align: right;\">\n",
       "      <th></th>\n",
       "      <th>name</th>\n",
       "      <th>long</th>\n",
       "      <th>lat</th>\n",
       "      <th>dis to an airport</th>\n",
       "      <th>range</th>\n",
       "      <th>airports 40km</th>\n",
       "      <th>airports 10km</th>\n",
       "      <th>schools 5km</th>\n",
       "      <th>schools 2km</th>\n",
       "      <th>veggies 500m</th>\n",
       "      <th>veggies 100m</th>\n",
       "      <th>party 1km</th>\n",
       "      <th>party 500m</th>\n",
       "      <th>starbucks 500m</th>\n",
       "      <th>starbucks 100m</th>\n",
       "    </tr>\n",
       "  </thead>\n",
       "  <tbody>\n",
       "    <tr>\n",
       "      <th>0</th>\n",
       "      <td>PeekYou</td>\n",
       "      <td>-73.985506</td>\n",
       "      <td>40.757929</td>\n",
       "      <td>9.747112</td>\n",
       "      <td>0-10km</td>\n",
       "      <td>3</td>\n",
       "      <td>1</td>\n",
       "      <td>88</td>\n",
       "      <td>17</td>\n",
       "      <td>3</td>\n",
       "      <td>0</td>\n",
       "      <td>26</td>\n",
       "      <td>9</td>\n",
       "      <td>9</td>\n",
       "      <td>1</td>\n",
       "    </tr>\n",
       "    <tr>\n",
       "      <th>1</th>\n",
       "      <td>GENWI</td>\n",
       "      <td>-111.903500</td>\n",
       "      <td>33.817100</td>\n",
       "      <td>43.734956</td>\n",
       "      <td>20-50km</td>\n",
       "      <td>0</td>\n",
       "      <td>0</td>\n",
       "      <td>5</td>\n",
       "      <td>2</td>\n",
       "      <td>0</td>\n",
       "      <td>0</td>\n",
       "      <td>0</td>\n",
       "      <td>0</td>\n",
       "      <td>0</td>\n",
       "      <td>0</td>\n",
       "    </tr>\n",
       "    <tr>\n",
       "      <th>2</th>\n",
       "      <td>Fixya</td>\n",
       "      <td>-122.323895</td>\n",
       "      <td>37.566879</td>\n",
       "      <td>7.339122</td>\n",
       "      <td>0-10km</td>\n",
       "      <td>2</td>\n",
       "      <td>1</td>\n",
       "      <td>40</td>\n",
       "      <td>21</td>\n",
       "      <td>22</td>\n",
       "      <td>6</td>\n",
       "      <td>26</td>\n",
       "      <td>25</td>\n",
       "      <td>1</td>\n",
       "      <td>0</td>\n",
       "    </tr>\n",
       "    <tr>\n",
       "      <th>3</th>\n",
       "      <td>Widgetbox</td>\n",
       "      <td>-122.398599</td>\n",
       "      <td>37.798853</td>\n",
       "      <td>17.835823</td>\n",
       "      <td>10-20km</td>\n",
       "      <td>2</td>\n",
       "      <td>0</td>\n",
       "      <td>54</td>\n",
       "      <td>12</td>\n",
       "      <td>0</td>\n",
       "      <td>0</td>\n",
       "      <td>12</td>\n",
       "      <td>3</td>\n",
       "      <td>4</td>\n",
       "      <td>0</td>\n",
       "    </tr>\n",
       "    <tr>\n",
       "      <th>4</th>\n",
       "      <td>RazorGator</td>\n",
       "      <td>-118.445243</td>\n",
       "      <td>34.047312</td>\n",
       "      <td>12.149767</td>\n",
       "      <td>10-20km</td>\n",
       "      <td>1</td>\n",
       "      <td>0</td>\n",
       "      <td>45</td>\n",
       "      <td>16</td>\n",
       "      <td>3</td>\n",
       "      <td>0</td>\n",
       "      <td>11</td>\n",
       "      <td>1</td>\n",
       "      <td>1</td>\n",
       "      <td>1</td>\n",
       "    </tr>\n",
       "  </tbody>\n",
       "</table>\n",
       "</div>"
      ],
      "text/plain": [
       "         name        long        lat  dis to an airport    range  \\\n",
       "0     PeekYou  -73.985506  40.757929           9.747112   0-10km   \n",
       "1       GENWI -111.903500  33.817100          43.734956  20-50km   \n",
       "2       Fixya -122.323895  37.566879           7.339122   0-10km   \n",
       "3   Widgetbox -122.398599  37.798853          17.835823  10-20km   \n",
       "4  RazorGator -118.445243  34.047312          12.149767  10-20km   \n",
       "\n",
       "   airports 40km  airports 10km  schools 5km  schools 2km  veggies 500m  \\\n",
       "0              3              1           88           17             3   \n",
       "1              0              0            5            2             0   \n",
       "2              2              1           40           21            22   \n",
       "3              2              0           54           12             0   \n",
       "4              1              0           45           16             3   \n",
       "\n",
       "   veggies 100m  party 1km  party 500m  starbucks 500m  starbucks 100m  \n",
       "0             0         26           9               9               1  \n",
       "1             0          0           0               0               0  \n",
       "2             6         26          25               1               0  \n",
       "3             0         12           3               4               0  \n",
       "4             0         11           1               1               1  "
      ]
     },
     "execution_count": 187,
     "metadata": {},
     "output_type": "execute_result"
    }
   ],
   "source": [
    "data.head()\n",
    "#raro pero si, hay 22 veggies a 500m de Fixya<<"
   ]
  },
  {
   "cell_type": "code",
   "execution_count": 188,
   "metadata": {},
   "outputs": [],
   "source": [
    "export_csv = data.to_csv('master99.csv', index=None, header=True)"
   ]
  },
  {
   "cell_type": "code",
   "execution_count": 61,
   "metadata": {},
   "outputs": [],
   "source": [
    "data=data.drop(['starbucks 500m', 'starbucks 1km', 'drunk af 500m', \"drunk af 1km\", \"schools 5km\", 'veggies 100m', 'veggies 500m'], axis=1)"
   ]
  },
  {
   "cell_type": "code",
   "execution_count": null,
   "metadata": {
    "scrolled": true
   },
   "outputs": [],
   "source": [
    "data"
   ]
  },
  {
   "cell_type": "code",
   "execution_count": null,
   "metadata": {},
   "outputs": [],
   "source": [
    "{\"location\":{\"$near\":{\"$geometry\":{'type': 'Point', 'coordinates': [-122.323895, 37.566879]},\"$maxDistance\":100}}}\n",
    "         "
   ]
  }
 ],
 "metadata": {
  "kernelspec": {
   "display_name": "Python 3",
   "language": "python",
   "name": "python3"
  },
  "language_info": {
   "codemirror_mode": {
    "name": "ipython",
    "version": 3
   },
   "file_extension": ".py",
   "mimetype": "text/x-python",
   "name": "python",
   "nbconvert_exporter": "python",
   "pygments_lexer": "ipython3",
   "version": "3.7.5rc1"
  }
 },
 "nbformat": 4,
 "nbformat_minor": 2
}
