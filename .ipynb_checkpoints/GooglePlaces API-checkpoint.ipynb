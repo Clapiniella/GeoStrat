{
 "cells": [
  {
   "cell_type": "code",
   "execution_count": 1,
   "metadata": {},
   "outputs": [],
   "source": [
    "import googlemaps\n",
    "from datetime import datetime\n",
    "import os\n",
    "from dotenv import load_dotenv\n",
    "load_dotenv()\n",
    "import requests, json \n",
    "import pandas as pd\n",
    "from pymongo import MongoClient"
   ]
  },
  {
   "cell_type": "code",
   "execution_count": 2,
   "metadata": {},
   "outputs": [],
   "source": [
    "def connectCollection(database, collection):\n",
    "    client = MongoClient()\n",
    "    db = client[database]\n",
    "    coll = db[collection]\n",
    "    return db, coll"
   ]
  },
  {
   "cell_type": "code",
   "execution_count": 99,
   "metadata": {},
   "outputs": [],
   "source": [
    "#para crear nuevas collections\n",
    "myclient = MongoClient(\"mongodb://localhost/\")\n",
    "mydb = myclient[\"companies\"]\n",
    "mycol = mydb[\"kindergarten\"]\n",
    "#para importar el contenido de un csv a mongo\n",
    "#mongoimport --db companies --collection kindergarten --type csv --file kindergarten.csv --headerline"
   ]
  },
  {
   "cell_type": "code",
   "execution_count": null,
   "metadata": {},
   "outputs": [],
   "source": [
    "#https://stackoverflow.com/questions/5681851/mongodb-combine-data-from-multiple-collections-into-one-how"
   ]
  },
  {
   "cell_type": "code",
   "execution_count": 78,
   "metadata": {},
   "outputs": [],
   "source": [
    "db, coll = connectCollection('companies','schools')"
   ]
  },
  {
   "cell_type": "code",
   "execution_count": 79,
   "metadata": {},
   "outputs": [],
   "source": [
    "stars = list(coll.find())"
   ]
  },
  {
   "cell_type": "code",
   "execution_count": null,
   "metadata": {},
   "outputs": [],
   "source": [
    "'''\n",
    "gmaps = googlemaps.Client(key=os.getenv('API_KEY'))\n",
    "geocode_result = gmaps.places('starbucks palo alto')\n",
    "'''"
   ]
  },
  {
   "cell_type": "code",
   "execution_count": 8,
   "metadata": {},
   "outputs": [],
   "source": [
    "api_key = os.getenv(\"API_KEY\")\n",
    "url = \"https://maps.googleapis.com/maps/api/place/textsearch/json?\""
   ]
  },
  {
   "cell_type": "code",
   "execution_count": 88,
   "metadata": {},
   "outputs": [
    {
     "name": "stdout",
     "output_type": "stream",
     "text": [
      "Search query: kindergarten in manhattan\n"
     ]
    }
   ],
   "source": [
    "query = input('Search query: ') \n",
    "r = requests.get(url + 'query=' + query + '&key=' + api_key) \n",
    "x = r.json() \n",
    "y = x['results'] \n",
    "results=[]\n",
    "for i in range(len(y)): \n",
    "    results.append((y[i]['name'],y[i]['formatted_address'],y[i]['geometry']['location']))\n",
    "\n",
    "#PULSA ENTER"
   ]
  },
  {
   "cell_type": "code",
   "execution_count": 89,
   "metadata": {},
   "outputs": [
    {
     "data": {
      "text/plain": [
       "[('Ps 101 Manhattan',\n",
       "  '141 E 111th St, New York, NY 10029, United States',\n",
       "  {'lat': 40.7959052, 'lng': -73.9443835}),\n",
       " ('Maryknoll Kindergarten',\n",
       "  '10 Confucius Plz, New York, NY 10002, United States',\n",
       "  {'lat': 40.7147169, 'lng': -73.9958123}),\n",
       " ('Dwight School Preschool & Kindergarten',\n",
       "  '144 Riverside Blvd, New York, NY 10069, United States',\n",
       "  {'lat': 40.7768249, 'lng': -73.98882189999999}),\n",
       " ('Elements Preschool Kindergarten New York',\n",
       "  '99 Suffolk St, New York, NY 10002, United States',\n",
       "  {'lat': 40.7187561, 'lng': -73.9863111}),\n",
       " (\"Lexington Childrens' Center\",\n",
       "  '115 E 98th St, New York, NY 10029, United States',\n",
       "  {'lat': 40.7880607, 'lng': -73.9508974}),\n",
       " ('Rodeph Sholom School:Pre-Kindergarten',\n",
       "  '10 W 84th St, New York, NY 10024, United States',\n",
       "  {'lat': 40.7841385, 'lng': -73.97116849999999}),\n",
       " ('Cathedral Parkway Tower Preschool',\n",
       "  '125 W 109th St #3, New York, NY 10025, United States',\n",
       "  {'lat': 40.8019255, 'lng': -73.9628267}),\n",
       " ('Public School 190',\n",
       "  '334 Greenwich St, New York, NY 10013, United States',\n",
       "  {'lat': 40.7180827, 'lng': -74.010942}),\n",
       " ('San Jose Day Nursery Inc',\n",
       "  '432 W 20th St, New York, NY 10011, United States',\n",
       "  {'lat': 40.7451148, 'lng': -74.00437099999999}),\n",
       " ('HOLA NYC',\n",
       "  '263 W 86th St, New York, NY 10024, United States',\n",
       "  {'lat': 40.7888908, 'lng': -73.9772512}),\n",
       " ('Escalera Head Start',\n",
       "  '169 W 87th St, New York, NY 10024, United States',\n",
       "  {'lat': 40.788186, 'lng': -73.973511}),\n",
       " ('Yorkville Kindergarten',\n",
       "  '352 E 78th St, New York, NY 10075, United States',\n",
       "  {'lat': 40.7717343, 'lng': -73.9539033}),\n",
       " ('East Calvary Nursery School',\n",
       "  '1 W 112th St, New York, NY 10026, United States',\n",
       "  {'lat': 40.7984982, 'lng': -73.9485097}),\n",
       " ('St Mark the Evangelist Preschool',\n",
       "  '67 W 138th St, New York, NY 10037, United States',\n",
       "  {'lat': 40.8159622, 'lng': -73.9387879}),\n",
       " ('St Ignatius Day Nursery',\n",
       "  '240 E 84th St, New York, NY 10028, United States',\n",
       "  {'lat': 40.7766019, 'lng': -73.95339299999999}),\n",
       " ('Manhattan Nursery School',\n",
       "  '38 W 32nd St #306, New York, NY 10001, United States',\n",
       "  {'lat': 40.7477712, 'lng': -73.9874152}),\n",
       " ('Horace Mann Nursery School',\n",
       "  '55 E 90th St, New York, NY 10128, United States',\n",
       "  {'lat': 40.7833056, 'lng': -73.95623739999999}),\n",
       " ('Town House International School',\n",
       "  '1209 Park Ave, New York, NY 10128, United States',\n",
       "  {'lat': 40.7854482, 'lng': -73.9529396}),\n",
       " (\"Harlem Children's Zone\",\n",
       "  '35 E 125th St, New York, NY 10035, United States',\n",
       "  {'lat': 40.8059549, 'lng': -73.9407498}),\n",
       " ('Morningside Montessori School',\n",
       "  '251 W 100th St #6, New York, NY 10025, United States',\n",
       "  {'lat': 40.7977685, 'lng': -73.9708053})]"
      ]
     },
     "execution_count": 89,
     "metadata": {},
     "output_type": "execute_result"
    }
   ],
   "source": [
    "results"
   ]
  },
  {
   "cell_type": "code",
   "execution_count": 93,
   "metadata": {},
   "outputs": [
    {
     "data": {
      "text/plain": [
       "-73.9443835"
      ]
     },
     "execution_count": 93,
     "metadata": {},
     "output_type": "execute_result"
    }
   ],
   "source": [
    "results[0][2]['lng']"
   ]
  },
  {
   "cell_type": "code",
   "execution_count": 94,
   "metadata": {},
   "outputs": [],
   "source": [
    "def createApiDf(query):\n",
    "    name=[]\n",
    "    address=[]\n",
    "    long=[]\n",
    "    lat=[]\n",
    "    for cia in results:\n",
    "        name.append(cia[0])\n",
    "        address.append(cia[1])\n",
    "        long.append(cia[2]['lng'])\n",
    "        lat.append(cia[2]['lat'])\n",
    "    dic2={\"name\":name,\"address\":address,\"long\":long,\"lat\":lat}\n",
    "    lil_DF=pd.DataFrame(dic2)\n",
    "    return lil_DF    "
   ]
  },
  {
   "cell_type": "code",
   "execution_count": 95,
   "metadata": {},
   "outputs": [],
   "source": [
    "starDf=createApiDf(results)"
   ]
  },
  {
   "cell_type": "code",
   "execution_count": 96,
   "metadata": {},
   "outputs": [
    {
     "data": {
      "text/html": [
       "<div>\n",
       "<style scoped>\n",
       "    .dataframe tbody tr th:only-of-type {\n",
       "        vertical-align: middle;\n",
       "    }\n",
       "\n",
       "    .dataframe tbody tr th {\n",
       "        vertical-align: top;\n",
       "    }\n",
       "\n",
       "    .dataframe thead th {\n",
       "        text-align: right;\n",
       "    }\n",
       "</style>\n",
       "<table border=\"1\" class=\"dataframe\">\n",
       "  <thead>\n",
       "    <tr style=\"text-align: right;\">\n",
       "      <th></th>\n",
       "      <th>name</th>\n",
       "      <th>address</th>\n",
       "      <th>long</th>\n",
       "      <th>lat</th>\n",
       "    </tr>\n",
       "  </thead>\n",
       "  <tbody>\n",
       "    <tr>\n",
       "      <th>0</th>\n",
       "      <td>Ps 101 Manhattan</td>\n",
       "      <td>141 E 111th St, New York, NY 10029, United States</td>\n",
       "      <td>-73.944384</td>\n",
       "      <td>40.795905</td>\n",
       "    </tr>\n",
       "    <tr>\n",
       "      <th>1</th>\n",
       "      <td>Maryknoll Kindergarten</td>\n",
       "      <td>10 Confucius Plz, New York, NY 10002, United S...</td>\n",
       "      <td>-73.995812</td>\n",
       "      <td>40.714717</td>\n",
       "    </tr>\n",
       "    <tr>\n",
       "      <th>2</th>\n",
       "      <td>Dwight School Preschool &amp; Kindergarten</td>\n",
       "      <td>144 Riverside Blvd, New York, NY 10069, United...</td>\n",
       "      <td>-73.988822</td>\n",
       "      <td>40.776825</td>\n",
       "    </tr>\n",
       "    <tr>\n",
       "      <th>3</th>\n",
       "      <td>Elements Preschool Kindergarten New York</td>\n",
       "      <td>99 Suffolk St, New York, NY 10002, United States</td>\n",
       "      <td>-73.986311</td>\n",
       "      <td>40.718756</td>\n",
       "    </tr>\n",
       "    <tr>\n",
       "      <th>4</th>\n",
       "      <td>Lexington Childrens' Center</td>\n",
       "      <td>115 E 98th St, New York, NY 10029, United States</td>\n",
       "      <td>-73.950897</td>\n",
       "      <td>40.788061</td>\n",
       "    </tr>\n",
       "    <tr>\n",
       "      <th>5</th>\n",
       "      <td>Rodeph Sholom School:Pre-Kindergarten</td>\n",
       "      <td>10 W 84th St, New York, NY 10024, United States</td>\n",
       "      <td>-73.971168</td>\n",
       "      <td>40.784138</td>\n",
       "    </tr>\n",
       "    <tr>\n",
       "      <th>6</th>\n",
       "      <td>Cathedral Parkway Tower Preschool</td>\n",
       "      <td>125 W 109th St #3, New York, NY 10025, United ...</td>\n",
       "      <td>-73.962827</td>\n",
       "      <td>40.801926</td>\n",
       "    </tr>\n",
       "    <tr>\n",
       "      <th>7</th>\n",
       "      <td>Public School 190</td>\n",
       "      <td>334 Greenwich St, New York, NY 10013, United S...</td>\n",
       "      <td>-74.010942</td>\n",
       "      <td>40.718083</td>\n",
       "    </tr>\n",
       "    <tr>\n",
       "      <th>8</th>\n",
       "      <td>San Jose Day Nursery Inc</td>\n",
       "      <td>432 W 20th St, New York, NY 10011, United States</td>\n",
       "      <td>-74.004371</td>\n",
       "      <td>40.745115</td>\n",
       "    </tr>\n",
       "    <tr>\n",
       "      <th>9</th>\n",
       "      <td>HOLA NYC</td>\n",
       "      <td>263 W 86th St, New York, NY 10024, United States</td>\n",
       "      <td>-73.977251</td>\n",
       "      <td>40.788891</td>\n",
       "    </tr>\n",
       "    <tr>\n",
       "      <th>10</th>\n",
       "      <td>Escalera Head Start</td>\n",
       "      <td>169 W 87th St, New York, NY 10024, United States</td>\n",
       "      <td>-73.973511</td>\n",
       "      <td>40.788186</td>\n",
       "    </tr>\n",
       "    <tr>\n",
       "      <th>11</th>\n",
       "      <td>Yorkville Kindergarten</td>\n",
       "      <td>352 E 78th St, New York, NY 10075, United States</td>\n",
       "      <td>-73.953903</td>\n",
       "      <td>40.771734</td>\n",
       "    </tr>\n",
       "    <tr>\n",
       "      <th>12</th>\n",
       "      <td>East Calvary Nursery School</td>\n",
       "      <td>1 W 112th St, New York, NY 10026, United States</td>\n",
       "      <td>-73.948510</td>\n",
       "      <td>40.798498</td>\n",
       "    </tr>\n",
       "    <tr>\n",
       "      <th>13</th>\n",
       "      <td>St Mark the Evangelist Preschool</td>\n",
       "      <td>67 W 138th St, New York, NY 10037, United States</td>\n",
       "      <td>-73.938788</td>\n",
       "      <td>40.815962</td>\n",
       "    </tr>\n",
       "    <tr>\n",
       "      <th>14</th>\n",
       "      <td>St Ignatius Day Nursery</td>\n",
       "      <td>240 E 84th St, New York, NY 10028, United States</td>\n",
       "      <td>-73.953393</td>\n",
       "      <td>40.776602</td>\n",
       "    </tr>\n",
       "    <tr>\n",
       "      <th>15</th>\n",
       "      <td>Manhattan Nursery School</td>\n",
       "      <td>38 W 32nd St #306, New York, NY 10001, United ...</td>\n",
       "      <td>-73.987415</td>\n",
       "      <td>40.747771</td>\n",
       "    </tr>\n",
       "    <tr>\n",
       "      <th>16</th>\n",
       "      <td>Horace Mann Nursery School</td>\n",
       "      <td>55 E 90th St, New York, NY 10128, United States</td>\n",
       "      <td>-73.956237</td>\n",
       "      <td>40.783306</td>\n",
       "    </tr>\n",
       "    <tr>\n",
       "      <th>17</th>\n",
       "      <td>Town House International School</td>\n",
       "      <td>1209 Park Ave, New York, NY 10128, United States</td>\n",
       "      <td>-73.952940</td>\n",
       "      <td>40.785448</td>\n",
       "    </tr>\n",
       "    <tr>\n",
       "      <th>18</th>\n",
       "      <td>Harlem Children's Zone</td>\n",
       "      <td>35 E 125th St, New York, NY 10035, United States</td>\n",
       "      <td>-73.940750</td>\n",
       "      <td>40.805955</td>\n",
       "    </tr>\n",
       "    <tr>\n",
       "      <th>19</th>\n",
       "      <td>Morningside Montessori School</td>\n",
       "      <td>251 W 100th St #6, New York, NY 10025, United ...</td>\n",
       "      <td>-73.970805</td>\n",
       "      <td>40.797768</td>\n",
       "    </tr>\n",
       "  </tbody>\n",
       "</table>\n",
       "</div>"
      ],
      "text/plain": [
       "                                        name  \\\n",
       "0                           Ps 101 Manhattan   \n",
       "1                     Maryknoll Kindergarten   \n",
       "2     Dwight School Preschool & Kindergarten   \n",
       "3   Elements Preschool Kindergarten New York   \n",
       "4                Lexington Childrens' Center   \n",
       "5      Rodeph Sholom School:Pre-Kindergarten   \n",
       "6          Cathedral Parkway Tower Preschool   \n",
       "7                          Public School 190   \n",
       "8                   San Jose Day Nursery Inc   \n",
       "9                                   HOLA NYC   \n",
       "10                       Escalera Head Start   \n",
       "11                    Yorkville Kindergarten   \n",
       "12               East Calvary Nursery School   \n",
       "13          St Mark the Evangelist Preschool   \n",
       "14                   St Ignatius Day Nursery   \n",
       "15                  Manhattan Nursery School   \n",
       "16                Horace Mann Nursery School   \n",
       "17           Town House International School   \n",
       "18                    Harlem Children's Zone   \n",
       "19             Morningside Montessori School   \n",
       "\n",
       "                                              address       long        lat  \n",
       "0   141 E 111th St, New York, NY 10029, United States -73.944384  40.795905  \n",
       "1   10 Confucius Plz, New York, NY 10002, United S... -73.995812  40.714717  \n",
       "2   144 Riverside Blvd, New York, NY 10069, United... -73.988822  40.776825  \n",
       "3    99 Suffolk St, New York, NY 10002, United States -73.986311  40.718756  \n",
       "4    115 E 98th St, New York, NY 10029, United States -73.950897  40.788061  \n",
       "5     10 W 84th St, New York, NY 10024, United States -73.971168  40.784138  \n",
       "6   125 W 109th St #3, New York, NY 10025, United ... -73.962827  40.801926  \n",
       "7   334 Greenwich St, New York, NY 10013, United S... -74.010942  40.718083  \n",
       "8    432 W 20th St, New York, NY 10011, United States -74.004371  40.745115  \n",
       "9    263 W 86th St, New York, NY 10024, United States -73.977251  40.788891  \n",
       "10   169 W 87th St, New York, NY 10024, United States -73.973511  40.788186  \n",
       "11   352 E 78th St, New York, NY 10075, United States -73.953903  40.771734  \n",
       "12    1 W 112th St, New York, NY 10026, United States -73.948510  40.798498  \n",
       "13   67 W 138th St, New York, NY 10037, United States -73.938788  40.815962  \n",
       "14   240 E 84th St, New York, NY 10028, United States -73.953393  40.776602  \n",
       "15  38 W 32nd St #306, New York, NY 10001, United ... -73.987415  40.747771  \n",
       "16    55 E 90th St, New York, NY 10128, United States -73.956237  40.783306  \n",
       "17   1209 Park Ave, New York, NY 10128, United States -73.952940  40.785448  \n",
       "18   35 E 125th St, New York, NY 10035, United States -73.940750  40.805955  \n",
       "19  251 W 100th St #6, New York, NY 10025, United ... -73.970805  40.797768  "
      ]
     },
     "execution_count": 96,
     "metadata": {},
     "output_type": "execute_result"
    }
   ],
   "source": [
    "starDf"
   ]
  },
  {
   "cell_type": "code",
   "execution_count": 97,
   "metadata": {},
   "outputs": [],
   "source": [
    "export_csv = starDf.to_csv('kindergarten.csv', index=None, header=True)"
   ]
  },
  {
   "cell_type": "code",
   "execution_count": 11,
   "metadata": {},
   "outputs": [],
   "source": [
    "'''\n",
    "def getLocation(comp):\n",
    "        longitude = comp['offices'][0]['longitude']\n",
    "        latitude = comp['offices'][0]['latitude']\n",
    "        loc = {\n",
    "            'type':'Point',\n",
    "            'coordinates':[longitude,latitude]\n",
    "        }\n",
    "        return loc\n",
    "'''"
   ]
  },
  {
   "cell_type": "code",
   "execution_count": 98,
   "metadata": {},
   "outputs": [
    {
     "data": {
      "text/plain": [
       "40.7057417"
      ]
     },
     "execution_count": 98,
     "metadata": {},
     "output_type": "execute_result"
    }
   ],
   "source": [
    "stars[0]['lat']"
   ]
  },
  {
   "cell_type": "code",
   "execution_count": 81,
   "metadata": {},
   "outputs": [],
   "source": [
    "def getApiLoc(off):\n",
    "    longitude = off['long']\n",
    "    latitude = off['lat']\n",
    "    loc=({\n",
    "        'type':'Point',\n",
    "        'coordinates':[longitude,latitude]\n",
    "    })\n",
    "    return loc"
   ]
  },
  {
   "cell_type": "code",
   "execution_count": 82,
   "metadata": {},
   "outputs": [
    {
     "data": {
      "text/plain": [
       "{'type': 'Point', 'coordinates': [-74.011207, 40.7057417]}"
      ]
     },
     "execution_count": 82,
     "metadata": {},
     "output_type": "execute_result"
    }
   ],
   "source": [
    "getApiLoc(stars[0])"
   ]
  },
  {
   "cell_type": "code",
   "execution_count": 83,
   "metadata": {},
   "outputs": [],
   "source": [
    "for star in stars:\n",
    "    value={\"$set\":{'location':getApiLoc(star)}}\n",
    "    coll.update_one(star,value)"
   ]
  },
  {
   "cell_type": "code",
   "execution_count": 12,
   "metadata": {},
   "outputs": [],
   "source": [
    "'''\n",
    "def setValue(query,loc):\n",
    "    for company in query:\n",
    "        value={\"$set\":{'location':getApiLoc(loc)}}\n",
    "    return coll.update_one(company,value)\n",
    "'''\n",
    "        "
   ]
  },
  {
   "cell_type": "code",
   "execution_count": 18,
   "metadata": {},
   "outputs": [],
   "source": [
    "'''\n",
    "def setValue(query,loc):\n",
    "    value=getApiLoc(loc)\n",
    "    for company in query:\n",
    "         return company,value\n",
    "'''"
   ]
  },
  {
   "cell_type": "code",
   "execution_count": null,
   "metadata": {},
   "outputs": [],
   "source": [
    "'''\n",
    "#borrar\n",
    "pin=\n",
    "for company in results:\n",
    "    pin.append(getApiLoc(company))\n",
    "'''"
   ]
  },
  {
   "cell_type": "code",
   "execution_count": null,
   "metadata": {},
   "outputs": [],
   "source": [
    "getApiLoc(results[0])"
   ]
  },
  {
   "cell_type": "code",
   "execution_count": null,
   "metadata": {},
   "outputs": [],
   "source": [
    "for star in stars:\n",
    "    value = {\"$set\": {'location':getApiLoc(result)}}\n",
    "    coll.update_one(star,value)"
   ]
  },
  {
   "cell_type": "code",
   "execution_count": null,
   "metadata": {},
   "outputs": [],
   "source": [
    "'''\n",
    "for star in stars:\n",
    "    value = {\"$unset\": {'location':''}}\n",
    "    coll.update_one(star,value)\n",
    "'''"
   ]
  },
  {
   "cell_type": "code",
   "execution_count": null,
   "metadata": {},
   "outputs": [],
   "source": []
  }
 ],
 "metadata": {
  "kernelspec": {
   "display_name": "Python 3",
   "language": "python",
   "name": "python3"
  },
  "language_info": {
   "codemirror_mode": {
    "name": "ipython",
    "version": 3
   },
   "file_extension": ".py",
   "mimetype": "text/x-python",
   "name": "python",
   "nbconvert_exporter": "python",
   "pygments_lexer": "ipython3",
   "version": "3.7.5rc1"
  }
 },
 "nbformat": 4,
 "nbformat_minor": 2
}
