{
 "cells": [
  {
   "cell_type": "code",
   "execution_count": null,
   "metadata": {},
   "outputs": [],
   "source": [
    "'''\n",
    "- Designers like to go to design talks and share knowledge. There must be some nearby companies that also do design.\n",
    "* 30% of the company have at least 1 child.\n",
    "- Developers like to be near successful tech startups that have raised at least 1 Million dollars.\n",
    "* Executives like Starbucks A LOT. Ensure there's a starbucks not to far.\n",
    "- Account managers need to travel a lot\n",
    "- All people in the company have between 25 and 40 years, give them some place to go to party.\n",
    "* Nobody in the company likes to have companies with more than 10 years in a radius of 2 KM.\n",
    "- The CEO is Vegan\n",
    "'''"
   ]
  },
  {
   "cell_type": "code",
   "execution_count": 3,
   "metadata": {},
   "outputs": [],
   "source": [
    "import pandas as pd\n",
    "from pymongo import MongoClient\n",
    "import json"
   ]
  },
  {
   "cell_type": "code",
   "execution_count": 4,
   "metadata": {
    "scrolled": true
   },
   "outputs": [
    {
     "data": {
      "text/html": [
       "<div>\n",
       "<style scoped>\n",
       "    .dataframe tbody tr th:only-of-type {\n",
       "        vertical-align: middle;\n",
       "    }\n",
       "\n",
       "    .dataframe tbody tr th {\n",
       "        vertical-align: top;\n",
       "    }\n",
       "\n",
       "    .dataframe thead th {\n",
       "        text-align: right;\n",
       "    }\n",
       "</style>\n",
       "<table border=\"1\" class=\"dataframe\">\n",
       "  <thead>\n",
       "    <tr style=\"text-align: right;\">\n",
       "      <th></th>\n",
       "      <th>num</th>\n",
       "      <th>wot</th>\n",
       "    </tr>\n",
       "  </thead>\n",
       "  <tbody>\n",
       "    <tr>\n",
       "      <th>0</th>\n",
       "      <td>20</td>\n",
       "      <td>Designers</td>\n",
       "    </tr>\n",
       "    <tr>\n",
       "      <th>1</th>\n",
       "      <td>5</td>\n",
       "      <td>UI/UX Engineers</td>\n",
       "    </tr>\n",
       "    <tr>\n",
       "      <th>2</th>\n",
       "      <td>10</td>\n",
       "      <td>Frontend Developers</td>\n",
       "    </tr>\n",
       "    <tr>\n",
       "      <th>3</th>\n",
       "      <td>15</td>\n",
       "      <td>Data Engineers</td>\n",
       "    </tr>\n",
       "    <tr>\n",
       "      <th>4</th>\n",
       "      <td>5</td>\n",
       "      <td>Backend Developers</td>\n",
       "    </tr>\n",
       "    <tr>\n",
       "      <th>5</th>\n",
       "      <td>20</td>\n",
       "      <td>Account Managers</td>\n",
       "    </tr>\n",
       "    <tr>\n",
       "      <th>6</th>\n",
       "      <td>1</td>\n",
       "      <td>Maintenance guy</td>\n",
       "    </tr>\n",
       "    <tr>\n",
       "      <th>7</th>\n",
       "      <td>10</td>\n",
       "      <td>Executives</td>\n",
       "    </tr>\n",
       "    <tr>\n",
       "      <th>8</th>\n",
       "      <td>1</td>\n",
       "      <td>CEO</td>\n",
       "    </tr>\n",
       "  </tbody>\n",
       "</table>\n",
       "</div>"
      ],
      "text/plain": [
       "   num                  wot\n",
       "0   20            Designers\n",
       "1    5      UI/UX Engineers\n",
       "2   10  Frontend Developers\n",
       "3   15       Data Engineers\n",
       "4    5   Backend Developers\n",
       "5   20     Account Managers\n",
       "6    1      Maintenance guy\n",
       "7   10           Executives\n",
       "8    1                  CEO"
      ]
     },
     "execution_count": 4,
     "metadata": {},
     "output_type": "execute_result"
    }
   ],
   "source": [
    "#GAMING INDUSTRY\n",
    "empl={'num':[20,5,10,15,5,20,1,10,1], \n",
    "      'wot':['Designers','UI/UX Engineers','Frontend Developers','Data Engineers','Backend Developers','Account Managers','Maintenance guy','Executives','CEO']\n",
    "     }\n",
    "df=pd.DataFrame(data=empl)\n",
    "df"
   ]
  },
  {
   "cell_type": "code",
   "execution_count": 6,
   "metadata": {},
   "outputs": [],
   "source": [
    "def connectCollection(database, collection):\n",
    "    client = MongoClient()\n",
    "    db = client[database]\n",
    "    coll = db[collection]\n",
    "    return db, coll"
   ]
  },
  {
   "cell_type": "code",
   "execution_count": 7,
   "metadata": {},
   "outputs": [],
   "source": [
    "db, coll = connectCollection('companies','companies')"
   ]
  },
  {
   "cell_type": "code",
   "execution_count": 5,
   "metadata": {},
   "outputs": [],
   "source": [
    "compas = list(coll.find({\"$and\":[{\"deadpooled_year\":None},{\"founded_year\":{\"$gte\":1999}},{\"$where\":\"this.offices.length >= 1\"},\n",
    "         {\"$or\":[{\"offices.latitude\":{'$ne':None}},{\"offices.longitude\":{'$ne':None}}]}]}))"
   ]
  },
  {
   "cell_type": "code",
   "execution_count": null,
   "metadata": {},
   "outputs": [],
   "source": [
    "myclient = MongoClient(\"mongodb://localhost/\")\n",
    "mydb = myclient[\"companies\"]\n",
    "mycol = mydb[\"preferred\"]"
   ]
  },
  {
   "cell_type": "code",
   "execution_count": 22,
   "metadata": {},
   "outputs": [
    {
     "ename": "PermissionError",
     "evalue": "[Errno 13] Permission denied: '/compas.json'",
     "output_type": "error",
     "traceback": [
      "\u001b[0;31m---------------------------------------------------------------------------\u001b[0m",
      "\u001b[0;31mPermissionError\u001b[0m                           Traceback (most recent call last)",
      "\u001b[0;32m<ipython-input-22-39cea76ae641>\u001b[0m in \u001b[0;36m<module>\u001b[0;34m\u001b[0m\n\u001b[0;32m----> 1\u001b[0;31m \u001b[0;32mwith\u001b[0m \u001b[0mopen\u001b[0m\u001b[0;34m(\u001b[0m\u001b[0;34m'/compas.json'\u001b[0m\u001b[0;34m,\u001b[0m\u001b[0;34m'w'\u001b[0m\u001b[0;34m)\u001b[0m \u001b[0;32mas\u001b[0m \u001b[0mfp\u001b[0m\u001b[0;34m:\u001b[0m\u001b[0;34m\u001b[0m\u001b[0;34m\u001b[0m\u001b[0m\n\u001b[0m\u001b[1;32m      2\u001b[0m     \u001b[0mjson\u001b[0m\u001b[0;34m.\u001b[0m\u001b[0mdump\u001b[0m\u001b[0;34m(\u001b[0m\u001b[0mcompas\u001b[0m\u001b[0;34m,\u001b[0m\u001b[0mfp\u001b[0m\u001b[0;34m)\u001b[0m\u001b[0;34m\u001b[0m\u001b[0;34m\u001b[0m\u001b[0m\n",
      "\u001b[0;31mPermissionError\u001b[0m: [Errno 13] Permission denied: '/compas.json'"
     ]
    }
   ],
   "source": [
    "with open('/compas.json','w') as fp:\n",
    "    json.dump(compas,fp)"
   ]
  },
  {
   "cell_type": "code",
   "execution_count": 15,
   "metadata": {},
   "outputs": [],
   "source": [
    "def getLocation(comp):\n",
    "    for off in comp[\"offices\"]:\n",
    "        longitude = off[\"latitude\"]\n",
    "        latitude = off[\"longitude\"]\n",
    "        loc=({\n",
    "            'type':'Point',\n",
    "            'coordinates':[longitude,latitude]\n",
    "        })\n",
    "    return loc\n",
    "\n",
    "#que en vez de ir metiendolo en una lista, lo vaya metiendo en cada una de las entradas de una columna"
   ]
  },
  {
   "cell_type": "code",
   "execution_count": 16,
   "metadata": {},
   "outputs": [
    {
     "name": "stdout",
     "output_type": "stream",
     "text": [
      "{'type': 'Point', 'coordinates': [37.506885, -122.247573]}\n"
     ]
    }
   ],
   "source": [
    "print(getLocation(compas[0]))"
   ]
  },
  {
   "cell_type": "code",
   "execution_count": null,
   "metadata": {},
   "outputs": [],
   "source": [
    "'''\n",
    "lista=[]\n",
    "for c in compas:\n",
    "    lista.append(getLocation(c))  \n",
    "'''"
   ]
  },
  {
   "cell_type": "code",
   "execution_count": 17,
   "metadata": {},
   "outputs": [],
   "source": [
    "for company in compas:\n",
    "    value = {\"$set\": {'location':getLocation(company)}}\n",
    "    coll.update_one(company,value)"
   ]
  },
  {
   "cell_type": "code",
   "execution_count": 13,
   "metadata": {},
   "outputs": [],
   "source": [
    "#funcion createDF"
   ]
  },
  {
   "cell_type": "code",
   "execution_count": 18,
   "metadata": {},
   "outputs": [],
   "source": [
    "dfe=createDF(compas)"
   ]
  },
  {
   "cell_type": "code",
   "execution_count": 23,
   "metadata": {},
   "outputs": [
    {
     "data": {
      "text/html": [
       "<div>\n",
       "<style scoped>\n",
       "    .dataframe tbody tr th:only-of-type {\n",
       "        vertical-align: middle;\n",
       "    }\n",
       "\n",
       "    .dataframe tbody tr th {\n",
       "        vertical-align: top;\n",
       "    }\n",
       "\n",
       "    .dataframe thead th {\n",
       "        text-align: right;\n",
       "    }\n",
       "</style>\n",
       "<table border=\"1\" class=\"dataframe\">\n",
       "  <thead>\n",
       "    <tr style=\"text-align: right;\">\n",
       "      <th></th>\n",
       "      <th>Id</th>\n",
       "      <th>name</th>\n",
       "      <th>category</th>\n",
       "      <th>description</th>\n",
       "      <th>lat</th>\n",
       "      <th>long</th>\n",
       "      <th>year</th>\n",
       "      <th>money_raised</th>\n",
       "    </tr>\n",
       "  </thead>\n",
       "  <tbody>\n",
       "    <tr>\n",
       "      <th>0</th>\n",
       "      <td>52cdef7c4bab8bd675297d90</td>\n",
       "      <td>Postini</td>\n",
       "      <td>web</td>\n",
       "      <td>None</td>\n",
       "      <td>37.506885</td>\n",
       "      <td>-122.247573</td>\n",
       "      <td>1999</td>\n",
       "      <td>$0</td>\n",
       "    </tr>\n",
       "    <tr>\n",
       "      <th>1</th>\n",
       "      <td>52cdef7c4bab8bd675297d91</td>\n",
       "      <td>Geni</td>\n",
       "      <td>web</td>\n",
       "      <td>Geneology social network site</td>\n",
       "      <td>34.090368</td>\n",
       "      <td>-118.393064</td>\n",
       "      <td>2006</td>\n",
       "      <td>$16.5M</td>\n",
       "    </tr>\n",
       "    <tr>\n",
       "      <th>2</th>\n",
       "      <td>52cdef7c4bab8bd675297d8d</td>\n",
       "      <td>Digg</td>\n",
       "      <td>news</td>\n",
       "      <td>user driven social content website</td>\n",
       "      <td>37.764726</td>\n",
       "      <td>-122.394523</td>\n",
       "      <td>2004</td>\n",
       "      <td>$45M</td>\n",
       "    </tr>\n",
       "    <tr>\n",
       "      <th>3</th>\n",
       "      <td>52cdef7c4bab8bd675297d96</td>\n",
       "      <td>Gizmoz</td>\n",
       "      <td>web</td>\n",
       "      <td>Photo animation</td>\n",
       "      <td>37.484130</td>\n",
       "      <td>-122.169472</td>\n",
       "      <td>2003</td>\n",
       "      <td>$18.1M</td>\n",
       "    </tr>\n",
       "    <tr>\n",
       "      <th>4</th>\n",
       "      <td>52cdef7c4bab8bd675297d98</td>\n",
       "      <td>Slacker</td>\n",
       "      <td>music</td>\n",
       "      <td>Music Personalization Suite</td>\n",
       "      <td>33.022176</td>\n",
       "      <td>-117.081406</td>\n",
       "      <td>2006</td>\n",
       "      <td>$73.1M</td>\n",
       "    </tr>\n",
       "    <tr>\n",
       "      <th>...</th>\n",
       "      <td>...</td>\n",
       "      <td>...</td>\n",
       "      <td>...</td>\n",
       "      <td>...</td>\n",
       "      <td>...</td>\n",
       "      <td>...</td>\n",
       "      <td>...</td>\n",
       "      <td>...</td>\n",
       "    </tr>\n",
       "    <tr>\n",
       "      <th>6485</th>\n",
       "      <td>52cdef7f4bab8bd67529c6f0</td>\n",
       "      <td>Intergy</td>\n",
       "      <td>software</td>\n",
       "      <td></td>\n",
       "      <td>37.701940</td>\n",
       "      <td>-121.936698</td>\n",
       "      <td>2003</td>\n",
       "      <td>$0</td>\n",
       "    </tr>\n",
       "    <tr>\n",
       "      <th>6486</th>\n",
       "      <td>52cdef7f4bab8bd67529c6ef</td>\n",
       "      <td>Axon Solutions</td>\n",
       "      <td>software</td>\n",
       "      <td></td>\n",
       "      <td>40.715887</td>\n",
       "      <td>-74.033251</td>\n",
       "      <td>2004</td>\n",
       "      <td>$0</td>\n",
       "    </tr>\n",
       "    <tr>\n",
       "      <th>6487</th>\n",
       "      <td>52cdef7f4bab8bd67529c6f5</td>\n",
       "      <td>Oriact</td>\n",
       "      <td>software</td>\n",
       "      <td>Solutions for software development</td>\n",
       "      <td>47.088219</td>\n",
       "      <td>8.437163</td>\n",
       "      <td>2009</td>\n",
       "      <td>$0</td>\n",
       "    </tr>\n",
       "    <tr>\n",
       "      <th>6488</th>\n",
       "      <td>52cdef7f4bab8bd67529c6f7</td>\n",
       "      <td>AfterLogic</td>\n",
       "      <td>software</td>\n",
       "      <td>.NET Email Components and Webmail</td>\n",
       "      <td>40.793024</td>\n",
       "      <td>-74.323554</td>\n",
       "      <td>2002</td>\n",
       "      <td>$0</td>\n",
       "    </tr>\n",
       "    <tr>\n",
       "      <th>6489</th>\n",
       "      <td>52cdef7f4bab8bd67529c6fa</td>\n",
       "      <td>EnteGreat</td>\n",
       "      <td>enterprise</td>\n",
       "      <td></td>\n",
       "      <td>33.407786</td>\n",
       "      <td>-86.761302</td>\n",
       "      <td>2000</td>\n",
       "      <td>$0</td>\n",
       "    </tr>\n",
       "  </tbody>\n",
       "</table>\n",
       "<p>6490 rows × 8 columns</p>\n",
       "</div>"
      ],
      "text/plain": [
       "                            Id            name    category  \\\n",
       "0     52cdef7c4bab8bd675297d90         Postini         web   \n",
       "1     52cdef7c4bab8bd675297d91            Geni         web   \n",
       "2     52cdef7c4bab8bd675297d8d            Digg        news   \n",
       "3     52cdef7c4bab8bd675297d96          Gizmoz         web   \n",
       "4     52cdef7c4bab8bd675297d98         Slacker       music   \n",
       "...                        ...             ...         ...   \n",
       "6485  52cdef7f4bab8bd67529c6f0         Intergy    software   \n",
       "6486  52cdef7f4bab8bd67529c6ef  Axon Solutions    software   \n",
       "6487  52cdef7f4bab8bd67529c6f5          Oriact    software   \n",
       "6488  52cdef7f4bab8bd67529c6f7      AfterLogic    software   \n",
       "6489  52cdef7f4bab8bd67529c6fa       EnteGreat  enterprise   \n",
       "\n",
       "                             description        lat        long  year  \\\n",
       "0                                   None  37.506885 -122.247573  1999   \n",
       "1          Geneology social network site  34.090368 -118.393064  2006   \n",
       "2     user driven social content website  37.764726 -122.394523  2004   \n",
       "3                        Photo animation  37.484130 -122.169472  2003   \n",
       "4            Music Personalization Suite  33.022176 -117.081406  2006   \n",
       "...                                  ...        ...         ...   ...   \n",
       "6485                                      37.701940 -121.936698  2003   \n",
       "6486                                      40.715887  -74.033251  2004   \n",
       "6487  Solutions for software development  47.088219    8.437163  2009   \n",
       "6488   .NET Email Components and Webmail  40.793024  -74.323554  2002   \n",
       "6489                                      33.407786  -86.761302  2000   \n",
       "\n",
       "     money_raised  \n",
       "0              $0  \n",
       "1          $16.5M  \n",
       "2            $45M  \n",
       "3          $18.1M  \n",
       "4          $73.1M  \n",
       "...           ...  \n",
       "6485           $0  \n",
       "6486           $0  \n",
       "6487           $0  \n",
       "6488           $0  \n",
       "6489           $0  \n",
       "\n",
       "[6490 rows x 8 columns]"
      ]
     },
     "execution_count": 23,
     "metadata": {},
     "output_type": "execute_result"
    }
   ],
   "source": [
    "dfe"
   ]
  },
  {
   "cell_type": "code",
   "execution_count": 24,
   "metadata": {},
   "outputs": [],
   "source": [
    "export_csv = dfe.to_csv('../query.csv', index=None, header=True)\n"
   ]
  },
  {
   "cell_type": "code",
   "execution_count": null,
   "metadata": {},
   "outputs": [],
   "source": []
  },
  {
   "cell_type": "code",
   "execution_count": null,
   "metadata": {},
   "outputs": [],
   "source": []
  },
  {
   "cell_type": "code",
   "execution_count": null,
   "metadata": {},
   "outputs": [],
   "source": []
  },
  {
   "cell_type": "code",
   "execution_count": null,
   "metadata": {},
   "outputs": [],
   "source": []
  },
  {
   "cell_type": "code",
   "execution_count": null,
   "metadata": {},
   "outputs": [],
   "source": []
  },
  {
   "cell_type": "code",
   "execution_count": null,
   "metadata": {},
   "outputs": [],
   "source": []
  },
  {
   "cell_type": "code",
   "execution_count": null,
   "metadata": {},
   "outputs": [],
   "source": [
    "def getDocu(dataframe):\n",
    "    for off in comp[\"offices\"]:\n",
    "        longitude = off[\"latitude\"]\n",
    "        latitude = off[\"longitude\"]\n",
    "        loc.append({\n",
    "            'type':'Point',\n",
    "            'coordinates':[longitude,latitude]\n",
    "        })\n",
    "    return loc"
   ]
  },
  {
   "cell_type": "code",
   "execution_count": null,
   "metadata": {},
   "outputs": [],
   "source": [
    "compa = list(coll.find({'category_code': 'games_video', }))"
   ]
  },
  {
   "cell_type": "code",
   "execution_count": null,
   "metadata": {},
   "outputs": [],
   "source": [
    "print(len(compa))\n"
   ]
  },
  {
   "cell_type": "code",
   "execution_count": null,
   "metadata": {},
   "outputs": [],
   "source": [
    "compa[0][\"offices\"][0]['latitude']"
   ]
  },
  {
   "cell_type": "code",
   "execution_count": null,
   "metadata": {},
   "outputs": [],
   "source": [
    "compa[0][\"offices\"][0]['longitude']"
   ]
  },
  {
   "cell_type": "code",
   "execution_count": null,
   "metadata": {},
   "outputs": [],
   "source": [
    "def getLocation(comp):\n",
    "        longitude = comp['offices'][0]['longitude']\n",
    "        latitude = comp['offices'][0]['latitude']\n",
    "        loc = {\n",
    "            'type':'Point',\n",
    "            'coordinates':[longitude,latitude]\n",
    "        }\n",
    "        return loc"
   ]
  },
  {
   "cell_type": "code",
   "execution_count": null,
   "metadata": {},
   "outputs": [],
   "source": [
    "loc0=getLocation(compa[0])"
   ]
  },
  {
   "cell_type": "code",
   "execution_count": null,
   "metadata": {},
   "outputs": [],
   "source": [
    "loc0"
   ]
  },
  {
   "cell_type": "code",
   "execution_count": null,
   "metadata": {},
   "outputs": [],
   "source": [
    "print(type(loc0['coordinates'][0]))"
   ]
  },
  {
   "cell_type": "code",
   "execution_count": null,
   "metadata": {},
   "outputs": [],
   "source": [
    "for company in compa:\n",
    "    value = {\"$set\": {'location':getLocation(company)}}\n",
    "    coll.update_one(company,value)\n"
   ]
  },
  {
   "cell_type": "code",
   "execution_count": null,
   "metadata": {},
   "outputs": [],
   "source": [
    "compa = list(coll.find({'category_code': 'games_video'}))\n",
    "len(compa)"
   ]
  },
  {
   "cell_type": "code",
   "execution_count": null,
   "metadata": {},
   "outputs": [],
   "source": [
    "multioffices = list(coll.find({'name':'Lala'}))\n",
    "multioffices"
   ]
  },
  {
   "cell_type": "code",
   "execution_count": null,
   "metadata": {},
   "outputs": [],
   "source": [
    "multioffices[0][\"offices\"][0]['latitude']"
   ]
  },
  {
   "cell_type": "code",
   "execution_count": null,
   "metadata": {},
   "outputs": [],
   "source": [
    "multioffices[0][\"offices\"][1]['latitude']"
   ]
  },
  {
   "cell_type": "code",
   "execution_count": null,
   "metadata": {},
   "outputs": [],
   "source": [
    "for off in multioffices[0][\"offices\"]: \n",
    "    print(off[\"latitude\"],off[\"longitude\"])\n",
    "        "
   ]
  },
  {
   "cell_type": "code",
   "execution_count": null,
   "metadata": {},
   "outputs": [],
   "source": [
    "def getLocation(comp):\n",
    "    loc=[]\n",
    "    for off in comp[\"offices\"]:\n",
    "        longitude = off[\"latitude\"]\n",
    "        latitude = off[\"longitude\"]\n",
    "        loc.append({\n",
    "            'type':'Point',\n",
    "            'coordinates':[longitude,latitude]\n",
    "        })\n",
    "    return loc"
   ]
  },
  {
   "cell_type": "code",
   "execution_count": null,
   "metadata": {},
   "outputs": [],
   "source": [
    "lista=[]\n",
    "for c in compas:\n",
    "    lista.append(getLocation(c))    "
   ]
  },
  {
   "cell_type": "code",
   "execution_count": null,
   "metadata": {},
   "outputs": [],
   "source": [
    "print(len(lista))"
   ]
  },
  {
   "cell_type": "code",
   "execution_count": null,
   "metadata": {},
   "outputs": [],
   "source": [
    "#si hay i oficinas  -len de e in lista- , mete p.e. nombre, i veces en la lista que luego va a ser una \n",
    "#columna del fantastico dataframe "
   ]
  },
  {
   "cell_type": "code",
   "execution_count": null,
   "metadata": {},
   "outputs": [],
   "source": []
  },
  {
   "cell_type": "code",
   "execution_count": null,
   "metadata": {},
   "outputs": [],
   "source": []
  },
  {
   "cell_type": "code",
   "execution_count": null,
   "metadata": {},
   "outputs": [],
   "source": [
    "#bigquery '{$where:\"this.offices.length >= 1\"}'"
   ]
  },
  {
   "cell_type": "code",
   "execution_count": null,
   "metadata": {},
   "outputs": [],
   "source": [
    "idi=[]\n",
    "name=[]\n",
    "category=[]\n",
    "desc=[]\n",
    "of_lat=[]\n",
    "of_long=[]\n",
    "foun_y=[]\n",
    "price=[]\n",
    "price_code=[]\n",
    "for comp in range(len(company)):\n",
    "    for office in range(len(company[comp].get('offices',0))):\n",
    "        idi.append(company[comp].get('_id',0))\n",
    "        name.append(company[comp].get('name',0))\n",
    "        category.append(company[comp].get('category_code',0))\n",
    "        desc.append(company[comp].get('description',0))\n",
    "        of_lat.append(company[comp].get('offices',0)[office].get('latitude'))\n",
    "        of_long.append(company[comp].get('offices',0)[office].get('longitude'))\n",
    "        foun_y.append(company[comp].get('founded_year',0))\n",
    "        price.append(company[comp].get('acquisition.price_amount',0))\n",
    "        price_code.append(company[comp].get('acquisition.price_currency_code',0))"
   ]
  },
  {
   "cell_type": "code",
   "execution_count": null,
   "metadata": {},
   "outputs": [],
   "source": [
    "dic={\"idi\":idi,\"name\":name, \"category\":category,\"desc\":desc,\"lat\":of_lat,\"long\":of_long,\"found_y\":foun_y,\"price\":price,\n",
    "\"price_code\":price_code}\n",
    "#df=pd.DataFrame()"
   ]
  }
 ],
 "metadata": {
  "kernelspec": {
   "display_name": "Python 3",
   "language": "python",
   "name": "python3"
  },
  "language_info": {
   "codemirror_mode": {
    "name": "ipython",
    "version": 3
   },
   "file_extension": ".py",
   "mimetype": "text/x-python",
   "name": "python",
   "nbconvert_exporter": "python",
   "pygments_lexer": "ipython3",
   "version": "3.7.5rc1"
  }
 },
 "nbformat": 4,
 "nbformat_minor": 2
}
